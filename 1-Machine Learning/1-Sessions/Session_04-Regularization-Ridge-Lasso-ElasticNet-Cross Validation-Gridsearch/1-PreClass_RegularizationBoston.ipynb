{
 "cells": [
  {
   "cell_type": "markdown",
   "id": "ac163bba",
   "metadata": {},
   "source": [
    "## Regularization: Penalized regression\n",
    "Regularization force the learning algorithm to build a less complex model. In practice, that often leads to slightly higher bias but significantly reduces the variance. The most common penalized regression models are:\n",
    "1. Ridge regression\n",
    "2. Lasso regression\n",
    "3. Elastic Net regression\n",
    "\n",
    "In this notebook we will explore the three methods and compare their results with a multiple linear regression model applied to Boston Housing dataset. The target variable is price and the features are 10 polynomial features of **LSTAT:** % lower status of the population. LSTAT2 = LSTAT^2, LSTAT3 = LSTAT^3, and etc."
   ]
  },
  {
   "cell_type": "code",
   "execution_count": 6,
   "id": "c08dacc6",
   "metadata": {},
   "outputs": [],
   "source": [
    "import numpy as np\n",
    "import pandas as pd\n",
    "import matplotlib.pyplot as plt\n",
    "import seaborn as sns\n",
    "from sklearn.linear_model import LinearRegression\n",
    "import statsmodels.api as sm\n",
    "sns.set()\n",
    "import warnings\n",
    "warnings.filterwarnings(\"ignore\")"
   ]
  },
  {
   "cell_type": "code",
   "execution_count": 32,
   "id": "c7a52223",
   "metadata": {},
   "outputs": [],
   "source": [
    "rand_state  = 1000"
   ]
  },
  {
   "cell_type": "code",
   "execution_count": 56,
   "id": "d99b2e3e",
   "metadata": {},
   "outputs": [
    {
     "data": {
      "text/html": [
       "<div>\n",
       "<style scoped>\n",
       "    .dataframe tbody tr th:only-of-type {\n",
       "        vertical-align: middle;\n",
       "    }\n",
       "\n",
       "    .dataframe tbody tr th {\n",
       "        vertical-align: top;\n",
       "    }\n",
       "\n",
       "    .dataframe thead th {\n",
       "        text-align: right;\n",
       "    }\n",
       "</style>\n",
       "<table border=\"1\" class=\"dataframe\">\n",
       "  <thead>\n",
       "    <tr style=\"text-align: right;\">\n",
       "      <th></th>\n",
       "      <th>price</th>\n",
       "      <th>LSTAT</th>\n",
       "      <th>LSTAT2</th>\n",
       "      <th>LSTAT3</th>\n",
       "      <th>LSTAT4</th>\n",
       "      <th>LSTAT5</th>\n",
       "      <th>LSTAT6</th>\n",
       "      <th>LSTAT7</th>\n",
       "      <th>LSTAT8</th>\n",
       "      <th>LSTAT9</th>\n",
       "      <th>LSTAT10</th>\n",
       "    </tr>\n",
       "  </thead>\n",
       "  <tbody>\n",
       "    <tr>\n",
       "      <th>0</th>\n",
       "      <td>24.0</td>\n",
       "      <td>4.98</td>\n",
       "      <td>24.8004</td>\n",
       "      <td>123.505992</td>\n",
       "      <td>615.059840</td>\n",
       "      <td>3062.998004</td>\n",
       "      <td>15253.730060</td>\n",
       "      <td>7.596358e+04</td>\n",
       "      <td>3.782986e+05</td>\n",
       "      <td>1.883927e+06</td>\n",
       "      <td>9.381957e+06</td>\n",
       "    </tr>\n",
       "    <tr>\n",
       "      <th>1</th>\n",
       "      <td>21.6</td>\n",
       "      <td>9.14</td>\n",
       "      <td>83.5396</td>\n",
       "      <td>763.551944</td>\n",
       "      <td>6978.864768</td>\n",
       "      <td>63786.823980</td>\n",
       "      <td>583011.571200</td>\n",
       "      <td>5.328726e+06</td>\n",
       "      <td>4.870455e+07</td>\n",
       "      <td>4.451596e+08</td>\n",
       "      <td>4.068759e+09</td>\n",
       "    </tr>\n",
       "    <tr>\n",
       "      <th>2</th>\n",
       "      <td>34.7</td>\n",
       "      <td>4.03</td>\n",
       "      <td>16.2409</td>\n",
       "      <td>65.450827</td>\n",
       "      <td>263.766833</td>\n",
       "      <td>1062.980336</td>\n",
       "      <td>4283.810755</td>\n",
       "      <td>1.726376e+04</td>\n",
       "      <td>6.957294e+04</td>\n",
       "      <td>2.803790e+05</td>\n",
       "      <td>1.129927e+06</td>\n",
       "    </tr>\n",
       "    <tr>\n",
       "      <th>3</th>\n",
       "      <td>33.4</td>\n",
       "      <td>2.94</td>\n",
       "      <td>8.6436</td>\n",
       "      <td>25.412184</td>\n",
       "      <td>74.711821</td>\n",
       "      <td>219.652754</td>\n",
       "      <td>645.779096</td>\n",
       "      <td>1.898591e+03</td>\n",
       "      <td>5.581856e+03</td>\n",
       "      <td>1.641066e+04</td>\n",
       "      <td>4.824733e+04</td>\n",
       "    </tr>\n",
       "    <tr>\n",
       "      <th>4</th>\n",
       "      <td>36.2</td>\n",
       "      <td>5.33</td>\n",
       "      <td>28.4089</td>\n",
       "      <td>151.419437</td>\n",
       "      <td>807.065599</td>\n",
       "      <td>4301.659644</td>\n",
       "      <td>22927.845900</td>\n",
       "      <td>1.222054e+05</td>\n",
       "      <td>6.513549e+05</td>\n",
       "      <td>3.471722e+06</td>\n",
       "      <td>1.850428e+07</td>\n",
       "    </tr>\n",
       "  </tbody>\n",
       "</table>\n",
       "</div>"
      ],
      "text/plain": [
       "   price  LSTAT   LSTAT2      LSTAT3       LSTAT4        LSTAT5  \\\n",
       "0   24.0   4.98  24.8004  123.505992   615.059840   3062.998004   \n",
       "1   21.6   9.14  83.5396  763.551944  6978.864768  63786.823980   \n",
       "2   34.7   4.03  16.2409   65.450827   263.766833   1062.980336   \n",
       "3   33.4   2.94   8.6436   25.412184    74.711821    219.652754   \n",
       "4   36.2   5.33  28.4089  151.419437   807.065599   4301.659644   \n",
       "\n",
       "          LSTAT6        LSTAT7        LSTAT8        LSTAT9       LSTAT10  \n",
       "0   15253.730060  7.596358e+04  3.782986e+05  1.883927e+06  9.381957e+06  \n",
       "1  583011.571200  5.328726e+06  4.870455e+07  4.451596e+08  4.068759e+09  \n",
       "2    4283.810755  1.726376e+04  6.957294e+04  2.803790e+05  1.129927e+06  \n",
       "3     645.779096  1.898591e+03  5.581856e+03  1.641066e+04  4.824733e+04  \n",
       "4   22927.845900  1.222054e+05  6.513549e+05  3.471722e+06  1.850428e+07  "
      ]
     },
     "execution_count": 56,
     "metadata": {},
     "output_type": "execute_result"
    }
   ],
   "source": [
    "df = pd.read_csv(\"Regularization_Boston.csv\")\n",
    "df.head()"
   ]
  },
  {
   "cell_type": "code",
   "execution_count": 57,
   "id": "f4cc2f66",
   "metadata": {},
   "outputs": [
    {
     "data": {
      "image/png": "[encoded data removed]",
      "text/plain": [
       "<Figure size 432x288 with 1 Axes>"
      ]
     },
     "metadata": {},
     "output_type": "display_data"
    }
   ],
   "source": [
    "sns.scatterplot(x = \"LSTAT\", y = \"price\", data = df);"
   ]
  },
  {
   "cell_type": "markdown",
   "id": "6ac40de2",
   "metadata": {},
   "source": [
    "### Standardization "
   ]
  },
  {
   "cell_type": "code",
   "execution_count": 58,
   "id": "9dbd728f",
   "metadata": {},
   "outputs": [],
   "source": [
    "from sklearn.preprocessing import StandardScaler"
   ]
  },
  {
   "cell_type": "code",
   "execution_count": 59,
   "id": "57499589",
   "metadata": {},
   "outputs": [
    {
     "data": {
      "text/plain": [
       "array([[ 0.15968566, -1.0755623 , -0.78952949, ..., -0.20115811,\n",
       "        -0.1777807 , -0.15953586],\n",
       "       [-0.10152429, -0.49243937, -0.54045362, ..., -0.20100802,\n",
       "        -0.17774223, -0.15952611],\n",
       "       [ 1.32424667, -1.2087274 , -0.82582493, ..., -0.20115907,\n",
       "        -0.17778084, -0.15953588],\n",
       "       ...,\n",
       "       [ 0.14880191, -0.98304761, -0.7598079 , ..., -0.20115611,\n",
       "        -0.17778036, -0.1595358 ],\n",
       "       [-0.0579893 , -0.86530163, -0.71663755, ..., -0.20114963,\n",
       "        -0.17777912, -0.15953557],\n",
       "       [-1.15724782, -0.66905833, -0.63138918, ..., -0.20111311,\n",
       "        -0.1777707 , -0.15953367]])"
      ]
     },
     "execution_count": 59,
     "metadata": {},
     "output_type": "execute_result"
    }
   ],
   "source": [
    "scaler = StandardScaler()\n",
    "df_sc = scaler.fit_transform(df)\n",
    "df_sc"
   ]
  },
  {
   "cell_type": "code",
   "execution_count": 60,
   "id": "bc21df4c",
   "metadata": {
    "scrolled": true
   },
   "outputs": [
    {
     "data": {
      "text/html": [
       "<div>\n",
       "<style scoped>\n",
       "    .dataframe tbody tr th:only-of-type {\n",
       "        vertical-align: middle;\n",
       "    }\n",
       "\n",
       "    .dataframe tbody tr th {\n",
       "        vertical-align: top;\n",
       "    }\n",
       "\n",
       "    .dataframe thead th {\n",
       "        text-align: right;\n",
       "    }\n",
       "</style>\n",
       "<table border=\"1\" class=\"dataframe\">\n",
       "  <thead>\n",
       "    <tr style=\"text-align: right;\">\n",
       "      <th></th>\n",
       "      <th>price</th>\n",
       "      <th>LSTAT</th>\n",
       "      <th>LSTAT2</th>\n",
       "      <th>LSTAT3</th>\n",
       "      <th>LSTAT4</th>\n",
       "      <th>LSTAT5</th>\n",
       "      <th>LSTAT6</th>\n",
       "      <th>LSTAT7</th>\n",
       "      <th>LSTAT8</th>\n",
       "      <th>LSTAT9</th>\n",
       "      <th>LSTAT10</th>\n",
       "    </tr>\n",
       "  </thead>\n",
       "  <tbody>\n",
       "    <tr>\n",
       "      <th>count</th>\n",
       "      <td>506.000000</td>\n",
       "      <td>506.000000</td>\n",
       "      <td>506.000000</td>\n",
       "      <td>506.000000</td>\n",
       "      <td>5.060000e+02</td>\n",
       "      <td>5.060000e+02</td>\n",
       "      <td>5.060000e+02</td>\n",
       "      <td>5.060000e+02</td>\n",
       "      <td>5.060000e+02</td>\n",
       "      <td>5.060000e+02</td>\n",
       "      <td>5.060000e+02</td>\n",
       "    </tr>\n",
       "    <tr>\n",
       "      <th>mean</th>\n",
       "      <td>22.532806</td>\n",
       "      <td>12.653063</td>\n",
       "      <td>210.993989</td>\n",
       "      <td>4285.788793</td>\n",
       "      <td>1.001336e+05</td>\n",
       "      <td>2.587609e+06</td>\n",
       "      <td>7.198029e+07</td>\n",
       "      <td>2.114923e+09</td>\n",
       "      <td>6.477077e+10</td>\n",
       "      <td>2.048399e+12</td>\n",
       "      <td>6.645292e+13</td>\n",
       "    </tr>\n",
       "    <tr>\n",
       "      <th>std</th>\n",
       "      <td>9.197104</td>\n",
       "      <td>7.141062</td>\n",
       "      <td>236.061920</td>\n",
       "      <td>7329.288372</td>\n",
       "      <td>2.342059e+05</td>\n",
       "      <td>7.737927e+06</td>\n",
       "      <td>2.628503e+08</td>\n",
       "      <td>9.126326e+09</td>\n",
       "      <td>3.223061e+11</td>\n",
       "      <td>1.153345e+13</td>\n",
       "      <td>4.169512e+14</td>\n",
       "    </tr>\n",
       "    <tr>\n",
       "      <th>min</th>\n",
       "      <td>5.000000</td>\n",
       "      <td>1.730000</td>\n",
       "      <td>2.992900</td>\n",
       "      <td>5.177717</td>\n",
       "      <td>8.957450e+00</td>\n",
       "      <td>1.549639e+01</td>\n",
       "      <td>2.680875e+01</td>\n",
       "      <td>4.637914e+01</td>\n",
       "      <td>8.023592e+01</td>\n",
       "      <td>1.388081e+02</td>\n",
       "      <td>2.401381e+02</td>\n",
       "    </tr>\n",
       "    <tr>\n",
       "      <th>25%</th>\n",
       "      <td>17.025000</td>\n",
       "      <td>6.950000</td>\n",
       "      <td>48.303700</td>\n",
       "      <td>335.727443</td>\n",
       "      <td>2.333481e+03</td>\n",
       "      <td>1.621932e+04</td>\n",
       "      <td>1.127384e+05</td>\n",
       "      <td>7.836504e+05</td>\n",
       "      <td>5.447333e+06</td>\n",
       "      <td>3.786664e+07</td>\n",
       "      <td>2.632333e+08</td>\n",
       "    </tr>\n",
       "    <tr>\n",
       "      <th>50%</th>\n",
       "      <td>21.200000</td>\n",
       "      <td>11.360000</td>\n",
       "      <td>129.050000</td>\n",
       "      <td>1466.017088</td>\n",
       "      <td>1.665411e+04</td>\n",
       "      <td>1.891930e+05</td>\n",
       "      <td>2.149266e+06</td>\n",
       "      <td>2.441612e+07</td>\n",
       "      <td>2.773731e+08</td>\n",
       "      <td>3.151037e+09</td>\n",
       "      <td>3.579677e+10</td>\n",
       "    </tr>\n",
       "    <tr>\n",
       "      <th>75%</th>\n",
       "      <td>25.000000</td>\n",
       "      <td>16.955000</td>\n",
       "      <td>287.472100</td>\n",
       "      <td>4874.091998</td>\n",
       "      <td>8.264029e+04</td>\n",
       "      <td>1.401168e+06</td>\n",
       "      <td>2.375683e+07</td>\n",
       "      <td>4.027977e+08</td>\n",
       "      <td>6.829447e+09</td>\n",
       "      <td>1.157935e+11</td>\n",
       "      <td>1.963285e+12</td>\n",
       "    </tr>\n",
       "    <tr>\n",
       "      <th>max</th>\n",
       "      <td>50.000000</td>\n",
       "      <td>37.970000</td>\n",
       "      <td>1441.720900</td>\n",
       "      <td>54742.142570</td>\n",
       "      <td>2.078559e+06</td>\n",
       "      <td>7.892289e+07</td>\n",
       "      <td>2.996702e+09</td>\n",
       "      <td>1.137850e+11</td>\n",
       "      <td>4.320410e+12</td>\n",
       "      <td>1.640460e+14</td>\n",
       "      <td>6.228820e+15</td>\n",
       "    </tr>\n",
       "  </tbody>\n",
       "</table>\n",
       "</div>"
      ],
      "text/plain": [
       "            price       LSTAT       LSTAT2        LSTAT3        LSTAT4  \\\n",
       "count  506.000000  506.000000   506.000000    506.000000  5.060000e+02   \n",
       "mean    22.532806   12.653063   210.993989   4285.788793  1.001336e+05   \n",
       "std      9.197104    7.141062   236.061920   7329.288372  2.342059e+05   \n",
       "min      5.000000    1.730000     2.992900      5.177717  8.957450e+00   \n",
       "25%     17.025000    6.950000    48.303700    335.727443  2.333481e+03   \n",
       "50%     21.200000   11.360000   129.050000   1466.017088  1.665411e+04   \n",
       "75%     25.000000   16.955000   287.472100   4874.091998  8.264029e+04   \n",
       "max     50.000000   37.970000  1441.720900  54742.142570  2.078559e+06   \n",
       "\n",
       "             LSTAT5        LSTAT6        LSTAT7        LSTAT8        LSTAT9  \\\n",
       "count  5.060000e+02  5.060000e+02  5.060000e+02  5.060000e+02  5.060000e+02   \n",
       "mean   2.587609e+06  7.198029e+07  2.114923e+09  6.477077e+10  2.048399e+12   \n",
       "std    7.737927e+06  2.628503e+08  9.126326e+09  3.223061e+11  1.153345e+13   \n",
       "min    1.549639e+01  2.680875e+01  4.637914e+01  8.023592e+01  1.388081e+02   \n",
       "25%    1.621932e+04  1.127384e+05  7.836504e+05  5.447333e+06  3.786664e+07   \n",
       "50%    1.891930e+05  2.149266e+06  2.441612e+07  2.773731e+08  3.151037e+09   \n",
       "75%    1.401168e+06  2.375683e+07  4.027977e+08  6.829447e+09  1.157935e+11   \n",
       "max    7.892289e+07  2.996702e+09  1.137850e+11  4.320410e+12  1.640460e+14   \n",
       "\n",
       "            LSTAT10  \n",
       "count  5.060000e+02  \n",
       "mean   6.645292e+13  \n",
       "std    4.169512e+14  \n",
       "min    2.401381e+02  \n",
       "25%    2.632333e+08  \n",
       "50%    3.579677e+10  \n",
       "75%    1.963285e+12  \n",
       "max    6.228820e+15  "
      ]
     },
     "execution_count": 60,
     "metadata": {},
     "output_type": "execute_result"
    }
   ],
   "source": [
    "df.describe()"
   ]
  },
  {
   "cell_type": "code",
   "execution_count": 62,
   "id": "680eab0a",
   "metadata": {},
   "outputs": [
    {
     "data": {
      "text/html": [
       "<div>\n",
       "<style scoped>\n",
       "    .dataframe tbody tr th:only-of-type {\n",
       "        vertical-align: middle;\n",
       "    }\n",
       "\n",
       "    .dataframe tbody tr th {\n",
       "        vertical-align: top;\n",
       "    }\n",
       "\n",
       "    .dataframe thead th {\n",
       "        text-align: right;\n",
       "    }\n",
       "</style>\n",
       "<table border=\"1\" class=\"dataframe\">\n",
       "  <thead>\n",
       "    <tr style=\"text-align: right;\">\n",
       "      <th></th>\n",
       "      <th>price</th>\n",
       "      <th>LSTAT</th>\n",
       "      <th>LSTAT2</th>\n",
       "      <th>LSTAT3</th>\n",
       "      <th>LSTAT4</th>\n",
       "      <th>LSTAT5</th>\n",
       "      <th>LSTAT6</th>\n",
       "      <th>LSTAT7</th>\n",
       "      <th>LSTAT8</th>\n",
       "      <th>LSTAT9</th>\n",
       "      <th>LSTAT10</th>\n",
       "    </tr>\n",
       "  </thead>\n",
       "  <tbody>\n",
       "    <tr>\n",
       "      <th>0</th>\n",
       "      <td>0.159686</td>\n",
       "      <td>-1.075562</td>\n",
       "      <td>-0.789529</td>\n",
       "      <td>-0.568459</td>\n",
       "      <td>-0.425339</td>\n",
       "      <td>-0.334341</td>\n",
       "      <td>-0.274058</td>\n",
       "      <td>-0.231960</td>\n",
       "      <td>-0.201158</td>\n",
       "      <td>-0.177781</td>\n",
       "      <td>-0.159536</td>\n",
       "    </tr>\n",
       "    <tr>\n",
       "      <th>1</th>\n",
       "      <td>-0.101524</td>\n",
       "      <td>-0.492439</td>\n",
       "      <td>-0.540454</td>\n",
       "      <td>-0.481046</td>\n",
       "      <td>-0.398141</td>\n",
       "      <td>-0.326485</td>\n",
       "      <td>-0.271896</td>\n",
       "      <td>-0.231384</td>\n",
       "      <td>-0.201008</td>\n",
       "      <td>-0.177742</td>\n",
       "      <td>-0.159526</td>\n",
       "    </tr>\n",
       "    <tr>\n",
       "      <th>2</th>\n",
       "      <td>1.324247</td>\n",
       "      <td>-1.208727</td>\n",
       "      <td>-0.825825</td>\n",
       "      <td>-0.576388</td>\n",
       "      <td>-0.426841</td>\n",
       "      <td>-0.334599</td>\n",
       "      <td>-0.274100</td>\n",
       "      <td>-0.231966</td>\n",
       "      <td>-0.201159</td>\n",
       "      <td>-0.177781</td>\n",
       "      <td>-0.159536</td>\n",
       "    </tr>\n",
       "    <tr>\n",
       "      <th>3</th>\n",
       "      <td>1.182758</td>\n",
       "      <td>-1.361517</td>\n",
       "      <td>-0.858040</td>\n",
       "      <td>-0.581856</td>\n",
       "      <td>-0.427649</td>\n",
       "      <td>-0.334708</td>\n",
       "      <td>-0.274114</td>\n",
       "      <td>-0.231968</td>\n",
       "      <td>-0.201159</td>\n",
       "      <td>-0.177781</td>\n",
       "      <td>-0.159536</td>\n",
       "    </tr>\n",
       "    <tr>\n",
       "      <th>4</th>\n",
       "      <td>1.487503</td>\n",
       "      <td>-1.026501</td>\n",
       "      <td>-0.774228</td>\n",
       "      <td>-0.564647</td>\n",
       "      <td>-0.424519</td>\n",
       "      <td>-0.334180</td>\n",
       "      <td>-0.274029</td>\n",
       "      <td>-0.231955</td>\n",
       "      <td>-0.201157</td>\n",
       "      <td>-0.177781</td>\n",
       "      <td>-0.159536</td>\n",
       "    </tr>\n",
       "  </tbody>\n",
       "</table>\n",
       "</div>"
      ],
      "text/plain": [
       "      price     LSTAT    LSTAT2    LSTAT3    LSTAT4    LSTAT5    LSTAT6  \\\n",
       "0  0.159686 -1.075562 -0.789529 -0.568459 -0.425339 -0.334341 -0.274058   \n",
       "1 -0.101524 -0.492439 -0.540454 -0.481046 -0.398141 -0.326485 -0.271896   \n",
       "2  1.324247 -1.208727 -0.825825 -0.576388 -0.426841 -0.334599 -0.274100   \n",
       "3  1.182758 -1.361517 -0.858040 -0.581856 -0.427649 -0.334708 -0.274114   \n",
       "4  1.487503 -1.026501 -0.774228 -0.564647 -0.424519 -0.334180 -0.274029   \n",
       "\n",
       "     LSTAT7    LSTAT8    LSTAT9   LSTAT10  \n",
       "0 -0.231960 -0.201158 -0.177781 -0.159536  \n",
       "1 -0.231384 -0.201008 -0.177742 -0.159526  \n",
       "2 -0.231966 -0.201159 -0.177781 -0.159536  \n",
       "3 -0.231968 -0.201159 -0.177781 -0.159536  \n",
       "4 -0.231955 -0.201157 -0.177781 -0.159536  "
      ]
     },
     "execution_count": 62,
     "metadata": {},
     "output_type": "execute_result"
    }
   ],
   "source": [
    "df_sc = pd.DataFrame(data = df_sc, columns=df.columns)\n",
    "df_sc.head()"
   ]
  },
  {
   "cell_type": "markdown",
   "id": "fce2b231",
   "metadata": {},
   "source": [
    "### Splitting the data"
   ]
  },
  {
   "cell_type": "code",
   "execution_count": 63,
   "id": "20b71082",
   "metadata": {},
   "outputs": [],
   "source": [
    "X = df_sc.drop(columns=\"price\")\n",
    "y = df_sc[\"price\"]"
   ]
  },
  {
   "cell_type": "code",
   "execution_count": 64,
   "id": "9331100d",
   "metadata": {},
   "outputs": [
    {
     "data": {
      "text/html": [
       "<div>\n",
       "<style scoped>\n",
       "    .dataframe tbody tr th:only-of-type {\n",
       "        vertical-align: middle;\n",
       "    }\n",
       "\n",
       "    .dataframe tbody tr th {\n",
       "        vertical-align: top;\n",
       "    }\n",
       "\n",
       "    .dataframe thead th {\n",
       "        text-align: right;\n",
       "    }\n",
       "</style>\n",
       "<table border=\"1\" class=\"dataframe\">\n",
       "  <thead>\n",
       "    <tr style=\"text-align: right;\">\n",
       "      <th></th>\n",
       "      <th>LSTAT</th>\n",
       "      <th>LSTAT2</th>\n",
       "      <th>LSTAT3</th>\n",
       "      <th>LSTAT4</th>\n",
       "      <th>LSTAT5</th>\n",
       "      <th>LSTAT6</th>\n",
       "      <th>LSTAT7</th>\n",
       "      <th>LSTAT8</th>\n",
       "      <th>LSTAT9</th>\n",
       "      <th>LSTAT10</th>\n",
       "    </tr>\n",
       "  </thead>\n",
       "  <tbody>\n",
       "    <tr>\n",
       "      <th>300</th>\n",
       "      <td>-0.922773</td>\n",
       "      <td>-0.738456</td>\n",
       "      <td>-0.554782</td>\n",
       "      <td>-0.422166</td>\n",
       "      <td>-0.333671</td>\n",
       "      <td>-0.273926</td>\n",
       "      <td>-0.231935</td>\n",
       "      <td>-0.201154</td>\n",
       "      <td>-0.177780</td>\n",
       "      <td>-0.159536</td>\n",
       "    </tr>\n",
       "    <tr>\n",
       "      <th>32</th>\n",
       "      <td>2.110588</td>\n",
       "      <td>2.361250</td>\n",
       "      <td>2.320551</td>\n",
       "      <td>2.091900</td>\n",
       "      <td>1.778692</td>\n",
       "      <td>1.449896</td>\n",
       "      <td>1.143940</td>\n",
       "      <td>0.878417</td>\n",
       "      <td>0.658205</td>\n",
       "      <td>0.481244</td>\n",
       "    </tr>\n",
       "    <tr>\n",
       "      <th>181</th>\n",
       "      <td>-0.448985</td>\n",
       "      <td>-0.516017</td>\n",
       "      <td>-0.470071</td>\n",
       "      <td>-0.393883</td>\n",
       "      <td>-0.324988</td>\n",
       "      <td>-0.271404</td>\n",
       "      <td>-0.231230</td>\n",
       "      <td>-0.200962</td>\n",
       "      <td>-0.177729</td>\n",
       "      <td>-0.159522</td>\n",
       "    </tr>\n",
       "    <tr>\n",
       "      <th>272</th>\n",
       "      <td>-0.690084</td>\n",
       "      <td>-0.641318</td>\n",
       "      <td>-0.522245</td>\n",
       "      <td>-0.412708</td>\n",
       "      <td>-0.331167</td>\n",
       "      <td>-0.273304</td>\n",
       "      <td>-0.231787</td>\n",
       "      <td>-0.201120</td>\n",
       "      <td>-0.177772</td>\n",
       "      <td>-0.159534</td>\n",
       "    </tr>\n",
       "    <tr>\n",
       "      <th>477</th>\n",
       "      <td>1.718101</td>\n",
       "      <td>1.736491</td>\n",
       "      <td>1.525676</td>\n",
       "      <td>1.217641</td>\n",
       "      <td>0.905982</td>\n",
       "      <td>0.635721</td>\n",
       "      <td>0.420786</td>\n",
       "      <td>0.259256</td>\n",
       "      <td>0.142724</td>\n",
       "      <td>0.061306</td>\n",
       "    </tr>\n",
       "  </tbody>\n",
       "</table>\n",
       "</div>"
      ],
      "text/plain": [
       "        LSTAT    LSTAT2    LSTAT3    LSTAT4    LSTAT5    LSTAT6    LSTAT7  \\\n",
       "300 -0.922773 -0.738456 -0.554782 -0.422166 -0.333671 -0.273926 -0.231935   \n",
       "32   2.110588  2.361250  2.320551  2.091900  1.778692  1.449896  1.143940   \n",
       "181 -0.448985 -0.516017 -0.470071 -0.393883 -0.324988 -0.271404 -0.231230   \n",
       "272 -0.690084 -0.641318 -0.522245 -0.412708 -0.331167 -0.273304 -0.231787   \n",
       "477  1.718101  1.736491  1.525676  1.217641  0.905982  0.635721  0.420786   \n",
       "\n",
       "       LSTAT8    LSTAT9   LSTAT10  \n",
       "300 -0.201154 -0.177780 -0.159536  \n",
       "32   0.878417  0.658205  0.481244  \n",
       "181 -0.200962 -0.177729 -0.159522  \n",
       "272 -0.201120 -0.177772 -0.159534  \n",
       "477  0.259256  0.142724  0.061306  "
      ]
     },
     "execution_count": 64,
     "metadata": {},
     "output_type": "execute_result"
    }
   ],
   "source": [
    "from sklearn.model_selection import train_test_split\n",
    "X_train, X_test, y_train, y_test = train_test_split(X, y, test_size=0.2, random_state=rand_state)\n",
    "X_train.head()"
   ]
  },
  {
   "cell_type": "markdown",
   "id": "1aeb6140",
   "metadata": {},
   "source": [
    "We know that the variables are highly correlated with each other. Let's first run a linear regression and see the results as a benchmark."
   ]
  },
  {
   "cell_type": "code",
   "execution_count": 65,
   "id": "98badde9",
   "metadata": {},
   "outputs": [],
   "source": [
    "X_train_wc = sm.add_constant(X_train)\n",
    "X_test_wc = sm.add_constant(X_test)"
   ]
  },
  {
   "cell_type": "code",
   "execution_count": 66,
   "id": "376c4067",
   "metadata": {},
   "outputs": [
    {
     "data": {
      "text/html": [
       "<table class=\"simpletable\">\n",
       "<caption>OLS Regression Results</caption>\n",
       "<tr>\n",
       "  <th>Dep. Variable:</th>          <td>price</td>      <th>  R-squared:         </th> <td>   0.677</td>\n",
       "</tr>\n",
       "<tr>\n",
       "  <th>Model:</th>                   <td>OLS</td>       <th>  Adj. R-squared:    </th> <td>   0.669</td>\n",
       "</tr>\n",
       "<tr>\n",
       "  <th>Method:</th>             <td>Least Squares</td>  <th>  F-statistic:       </th> <td>   82.44</td>\n",
       "</tr>\n",
       "<tr>\n",
       "  <th>Date:</th>             <td>Thu, 18 Aug 2022</td> <th>  Prob (F-statistic):</th> <td>4.51e-90</td>\n",
       "</tr>\n",
       "<tr>\n",
       "  <th>Time:</th>                 <td>13:35:09</td>     <th>  Log-Likelihood:    </th> <td> -344.23</td>\n",
       "</tr>\n",
       "<tr>\n",
       "  <th>No. Observations:</th>      <td>   404</td>      <th>  AIC:               </th> <td>   710.5</td>\n",
       "</tr>\n",
       "<tr>\n",
       "  <th>Df Residuals:</th>          <td>   393</td>      <th>  BIC:               </th> <td>   754.5</td>\n",
       "</tr>\n",
       "<tr>\n",
       "  <th>Df Model:</th>              <td>    10</td>      <th>                     </th>     <td> </td>   \n",
       "</tr>\n",
       "<tr>\n",
       "  <th>Covariance Type:</th>      <td>nonrobust</td>    <th>                     </th>     <td> </td>   \n",
       "</tr>\n",
       "</table>\n",
       "<table class=\"simpletable\">\n",
       "<tr>\n",
       "     <td></td>        <th>coef</th>     <th>std err</th>      <th>t</th>      <th>P>|t|</th>  <th>[0.025</th>    <th>0.975]</th>  \n",
       "</tr>\n",
       "<tr>\n",
       "  <th>const</th>   <td>    0.0120</td> <td>    0.029</td> <td>    0.417</td> <td> 0.677</td> <td>   -0.044</td> <td>    0.068</td>\n",
       "</tr>\n",
       "<tr>\n",
       "  <th>LSTAT</th>   <td>   10.4856</td> <td>   14.789</td> <td>    0.709</td> <td> 0.479</td> <td>  -18.591</td> <td>   39.562</td>\n",
       "</tr>\n",
       "<tr>\n",
       "  <th>LSTAT2</th>  <td> -198.4474</td> <td>  183.865</td> <td>   -1.079</td> <td> 0.281</td> <td> -559.929</td> <td>  163.035</td>\n",
       "</tr>\n",
       "<tr>\n",
       "  <th>LSTAT3</th>  <td> 1218.5360</td> <td> 1157.209</td> <td>    1.053</td> <td> 0.293</td> <td>-1056.559</td> <td> 3493.631</td>\n",
       "</tr>\n",
       "<tr>\n",
       "  <th>LSTAT4</th>  <td>-4039.5201</td> <td> 4549.147</td> <td>   -0.888</td> <td> 0.375</td> <td> -1.3e+04</td> <td> 4904.187</td>\n",
       "</tr>\n",
       "<tr>\n",
       "  <th>LSTAT5</th>  <td> 8029.8874</td> <td> 1.19e+04</td> <td>    0.675</td> <td> 0.500</td> <td>-1.54e+04</td> <td> 3.14e+04</td>\n",
       "</tr>\n",
       "<tr>\n",
       "  <th>LSTAT6</th>  <td>-9630.6577</td> <td> 2.11e+04</td> <td>   -0.456</td> <td> 0.649</td> <td>-5.11e+04</td> <td> 3.19e+04</td>\n",
       "</tr>\n",
       "<tr>\n",
       "  <th>LSTAT7</th>  <td> 6399.3109</td> <td> 2.51e+04</td> <td>    0.255</td> <td> 0.799</td> <td> -4.3e+04</td> <td> 5.58e+04</td>\n",
       "</tr>\n",
       "<tr>\n",
       "  <th>LSTAT8</th>  <td>-1554.6344</td> <td> 1.92e+04</td> <td>   -0.081</td> <td> 0.935</td> <td>-3.93e+04</td> <td> 3.62e+04</td>\n",
       "</tr>\n",
       "<tr>\n",
       "  <th>LSTAT9</th>  <td> -523.9209</td> <td> 8485.139</td> <td>   -0.062</td> <td> 0.951</td> <td>-1.72e+04</td> <td> 1.62e+04</td>\n",
       "</tr>\n",
       "<tr>\n",
       "  <th>LSTAT10</th> <td>  288.1741</td> <td> 1645.665</td> <td>    0.175</td> <td> 0.861</td> <td>-2947.235</td> <td> 3523.583</td>\n",
       "</tr>\n",
       "</table>\n",
       "<table class=\"simpletable\">\n",
       "<tr>\n",
       "  <th>Omnibus:</th>       <td>106.759</td> <th>  Durbin-Watson:     </th> <td>   1.957</td>\n",
       "</tr>\n",
       "<tr>\n",
       "  <th>Prob(Omnibus):</th> <td> 0.000</td>  <th>  Jarque-Bera (JB):  </th> <td> 319.634</td>\n",
       "</tr>\n",
       "<tr>\n",
       "  <th>Skew:</th>          <td> 1.217</td>  <th>  Prob(JB):          </th> <td>3.91e-70</td>\n",
       "</tr>\n",
       "<tr>\n",
       "  <th>Kurtosis:</th>      <td> 6.614</td>  <th>  Cond. No.          </th> <td>4.56e+06</td>\n",
       "</tr>\n",
       "</table><br/><br/>Notes:<br/>[1] Standard Errors assume that the covariance matrix of the errors is correctly specified.<br/>[2] The condition number is large, 4.56e+06. This might indicate that there are<br/>strong multicollinearity or other numerical problems."
      ],
      "text/plain": [
       "<class 'statsmodels.iolib.summary.Summary'>\n",
       "\"\"\"\n",
       "                            OLS Regression Results                            \n",
       "==============================================================================\n",
       "Dep. Variable:                  price   R-squared:                       0.677\n",
       "Model:                            OLS   Adj. R-squared:                  0.669\n",
       "Method:                 Least Squares   F-statistic:                     82.44\n",
       "Date:                Thu, 18 Aug 2022   Prob (F-statistic):           4.51e-90\n",
       "Time:                        13:35:09   Log-Likelihood:                -344.23\n",
       "No. Observations:                 404   AIC:                             710.5\n",
       "Df Residuals:                     393   BIC:                             754.5\n",
       "Df Model:                          10                                         \n",
       "Covariance Type:            nonrobust                                         \n",
       "==============================================================================\n",
       "                 coef    std err          t      P>|t|      [0.025      0.975]\n",
       "------------------------------------------------------------------------------\n",
       "const          0.0120      0.029      0.417      0.677      -0.044       0.068\n",
       "LSTAT         10.4856     14.789      0.709      0.479     -18.591      39.562\n",
       "LSTAT2      -198.4474    183.865     -1.079      0.281    -559.929     163.035\n",
       "LSTAT3      1218.5360   1157.209      1.053      0.293   -1056.559    3493.631\n",
       "LSTAT4     -4039.5201   4549.147     -0.888      0.375    -1.3e+04    4904.187\n",
       "LSTAT5      8029.8874   1.19e+04      0.675      0.500   -1.54e+04    3.14e+04\n",
       "LSTAT6     -9630.6577   2.11e+04     -0.456      0.649   -5.11e+04    3.19e+04\n",
       "LSTAT7      6399.3109   2.51e+04      0.255      0.799    -4.3e+04    5.58e+04\n",
       "LSTAT8     -1554.6344   1.92e+04     -0.081      0.935   -3.93e+04    3.62e+04\n",
       "LSTAT9      -523.9209   8485.139     -0.062      0.951   -1.72e+04    1.62e+04\n",
       "LSTAT10      288.1741   1645.665      0.175      0.861   -2947.235    3523.583\n",
       "==============================================================================\n",
       "Omnibus:                      106.759   Durbin-Watson:                   1.957\n",
       "Prob(Omnibus):                  0.000   Jarque-Bera (JB):              319.634\n",
       "Skew:                           1.217   Prob(JB):                     3.91e-70\n",
       "Kurtosis:                       6.614   Cond. No.                     4.56e+06\n",
       "==============================================================================\n",
       "\n",
       "Notes:\n",
       "[1] Standard Errors assume that the covariance matrix of the errors is correctly specified.\n",
       "[2] The condition number is large, 4.56e+06. This might indicate that there are\n",
       "strong multicollinearity or other numerical problems.\n",
       "\"\"\""
      ]
     },
     "execution_count": 66,
     "metadata": {},
     "output_type": "execute_result"
    }
   ],
   "source": [
    "sm.OLS(y_train, X_train_wc).fit().summary()\n",
    "# OLS : ordinary least squares\n",
    "# If you look the p values, it seems that none of the features are significant.\n",
    "# p values are all greater than 50 which is very very bad over 30."
   ]
  },
  {
   "cell_type": "markdown",
   "id": "975d619a",
   "metadata": {},
   "source": [
    "## A) Training The Models\n",
    "In this section we will train 4 different models:\n",
    "1. Linear Regression (model_linear)\n",
    "2. Ridge Regression (model_ridge)\n",
    "3. Lasso Regression (model_lasso)\n",
    "4. Elastic Net Regression (model_net)"
   ]
  },
  {
   "cell_type": "code",
   "execution_count": 67,
   "id": "6c205056",
   "metadata": {},
   "outputs": [],
   "source": [
    "from sklearn.linear_model import LinearRegression, Ridge, RidgeCV, Lasso, LassoCV, ElasticNet, ElasticNetCV"
   ]
  },
  {
   "cell_type": "code",
   "execution_count": 68,
   "id": "88b436ad",
   "metadata": {},
   "outputs": [],
   "source": [
    "# Starting with default parameters\n",
    "model_linear = LinearRegression()\n",
    "model_ridge = Ridge()\n",
    "model_lasso = Lasso()\n",
    "model_net = ElasticNet()"
   ]
  },
  {
   "cell_type": "code",
   "execution_count": 69,
   "id": "07d5497a",
   "metadata": {},
   "outputs": [],
   "source": [
    "y_hat_linear = model_linear.fit(X_train, y_train).predict(X_test)\n",
    "y_hat_ridge = model_ridge.fit(X_train, y_train).predict(X_test)\n",
    "y_hat_lasso = model_lasso.fit(X_train, y_train).predict(X_test)\n",
    "y_hat_net = model_net.fit(X_train, y_train).predict(X_test)"
   ]
  },
  {
   "cell_type": "code",
   "execution_count": 72,
   "id": "ac3f4881",
   "metadata": {},
   "outputs": [
    {
     "data": {
      "text/html": [
       "<div>\n",
       "<style scoped>\n",
       "    .dataframe tbody tr th:only-of-type {\n",
       "        vertical-align: middle;\n",
       "    }\n",
       "\n",
       "    .dataframe tbody tr th {\n",
       "        vertical-align: top;\n",
       "    }\n",
       "\n",
       "    .dataframe thead th {\n",
       "        text-align: right;\n",
       "    }\n",
       "</style>\n",
       "<table border=\"1\" class=\"dataframe\">\n",
       "  <thead>\n",
       "    <tr style=\"text-align: right;\">\n",
       "      <th></th>\n",
       "      <th>y_test</th>\n",
       "      <th>y_hat_linear</th>\n",
       "      <th>y_hat_ridge</th>\n",
       "      <th>y_hat_lasso</th>\n",
       "      <th>y_hat_net</th>\n",
       "    </tr>\n",
       "  </thead>\n",
       "  <tbody>\n",
       "    <tr>\n",
       "      <th>483</th>\n",
       "      <td>-0.079757</td>\n",
       "      <td>-0.019459</td>\n",
       "      <td>0.029108</td>\n",
       "      <td>0.009199</td>\n",
       "      <td>0.059533</td>\n",
       "    </tr>\n",
       "    <tr>\n",
       "      <th>426</th>\n",
       "      <td>-1.342272</td>\n",
       "      <td>-0.480570</td>\n",
       "      <td>-0.589703</td>\n",
       "      <td>0.009199</td>\n",
       "      <td>-0.054729</td>\n",
       "    </tr>\n",
       "    <tr>\n",
       "      <th>22</th>\n",
       "      <td>-0.798084</td>\n",
       "      <td>-0.736176</td>\n",
       "      <td>-0.786380</td>\n",
       "      <td>0.009199</td>\n",
       "      <td>-0.120425</td>\n",
       "    </tr>\n",
       "    <tr>\n",
       "      <th>268</th>\n",
       "      <td>2.282016</td>\n",
       "      <td>2.053967</td>\n",
       "      <td>1.495823</td>\n",
       "      <td>0.009199</td>\n",
       "      <td>0.216942</td>\n",
       "    </tr>\n",
       "    <tr>\n",
       "      <th>371</th>\n",
       "      <td>2.989460</td>\n",
       "      <td>0.041490</td>\n",
       "      <td>0.171371</td>\n",
       "      <td>0.009199</td>\n",
       "      <td>0.078830</td>\n",
       "    </tr>\n",
       "  </tbody>\n",
       "</table>\n",
       "</div>"
      ],
      "text/plain": [
       "       y_test  y_hat_linear  y_hat_ridge  y_hat_lasso  y_hat_net\n",
       "483 -0.079757     -0.019459     0.029108     0.009199   0.059533\n",
       "426 -1.342272     -0.480570    -0.589703     0.009199  -0.054729\n",
       "22  -0.798084     -0.736176    -0.786380     0.009199  -0.120425\n",
       "268  2.282016      2.053967     1.495823     0.009199   0.216942\n",
       "371  2.989460      0.041490     0.171371     0.009199   0.078830"
      ]
     },
     "execution_count": 72,
     "metadata": {},
     "output_type": "execute_result"
    }
   ],
   "source": [
    "df_predictions = pd.DataFrame({\"y_test\": y_test,\n",
    "                               \"y_hat_linear\": y_hat_linear,\n",
    "                               \"y_hat_ridge\": y_hat_ridge,\n",
    "                               \"y_hat_lasso\": y_hat_lasso,\n",
    "                               \"y_hat_net\": y_hat_net})\n",
    "df_predictions.head()"
   ]
  },
  {
   "cell_type": "code",
   "execution_count": null,
   "id": "2c69f002",
   "metadata": {},
   "outputs": [],
   "source": [
    "# Look at the y_hat_lasso values. Even if all coefficients are equal to 0  we can see some values. \n",
    "# These values (0.0091) are intercept."
   ]
  },
  {
   "cell_type": "markdown",
   "id": "a2155d26",
   "metadata": {},
   "source": [
    "### Coefficients "
   ]
  },
  {
   "cell_type": "code",
   "execution_count": 73,
   "id": "127fcb84",
   "metadata": {},
   "outputs": [
    {
     "data": {
      "text/plain": [
       "Index(['LSTAT', 'LSTAT2', 'LSTAT3', 'LSTAT4', 'LSTAT5', 'LSTAT6', 'LSTAT7',\n",
       "       'LSTAT8', 'LSTAT9', 'LSTAT10'],\n",
       "      dtype='object')"
      ]
     },
     "execution_count": 73,
     "metadata": {},
     "output_type": "execute_result"
    }
   ],
   "source": [
    "df.drop(columns=\"price\").columns"
   ]
  },
  {
   "cell_type": "code",
   "execution_count": 75,
   "id": "846dc874",
   "metadata": {},
   "outputs": [
    {
     "data": {
      "text/html": [
       "<div>\n",
       "<style scoped>\n",
       "    .dataframe tbody tr th:only-of-type {\n",
       "        vertical-align: middle;\n",
       "    }\n",
       "\n",
       "    .dataframe tbody tr th {\n",
       "        vertical-align: top;\n",
       "    }\n",
       "\n",
       "    .dataframe thead th {\n",
       "        text-align: right;\n",
       "    }\n",
       "</style>\n",
       "<table border=\"1\" class=\"dataframe\">\n",
       "  <thead>\n",
       "    <tr style=\"text-align: right;\">\n",
       "      <th></th>\n",
       "      <th>Features</th>\n",
       "      <th>model_lin</th>\n",
       "      <th>model_ridge</th>\n",
       "      <th>model_lasso</th>\n",
       "      <th>model_net</th>\n",
       "    </tr>\n",
       "  </thead>\n",
       "  <tbody>\n",
       "    <tr>\n",
       "      <th>0</th>\n",
       "      <td>LSTAT</td>\n",
       "      <td>10.485596</td>\n",
       "      <td>-1.997427</td>\n",
       "      <td>-0.0</td>\n",
       "      <td>-0.154677</td>\n",
       "    </tr>\n",
       "    <tr>\n",
       "      <th>1</th>\n",
       "      <td>LSTAT2</td>\n",
       "      <td>-198.447363</td>\n",
       "      <td>1.120503</td>\n",
       "      <td>-0.0</td>\n",
       "      <td>-0.000000</td>\n",
       "    </tr>\n",
       "    <tr>\n",
       "      <th>2</th>\n",
       "      <td>LSTAT3</td>\n",
       "      <td>1218.536029</td>\n",
       "      <td>0.705506</td>\n",
       "      <td>-0.0</td>\n",
       "      <td>-0.000000</td>\n",
       "    </tr>\n",
       "    <tr>\n",
       "      <th>3</th>\n",
       "      <td>LSTAT4</td>\n",
       "      <td>-4039.520114</td>\n",
       "      <td>-0.029523</td>\n",
       "      <td>-0.0</td>\n",
       "      <td>-0.000000</td>\n",
       "    </tr>\n",
       "    <tr>\n",
       "      <th>4</th>\n",
       "      <td>LSTAT5</td>\n",
       "      <td>8029.887432</td>\n",
       "      <td>-0.331986</td>\n",
       "      <td>-0.0</td>\n",
       "      <td>-0.000000</td>\n",
       "    </tr>\n",
       "    <tr>\n",
       "      <th>5</th>\n",
       "      <td>LSTAT6</td>\n",
       "      <td>-9630.657688</td>\n",
       "      <td>-0.305169</td>\n",
       "      <td>-0.0</td>\n",
       "      <td>-0.000000</td>\n",
       "    </tr>\n",
       "    <tr>\n",
       "      <th>6</th>\n",
       "      <td>LSTAT7</td>\n",
       "      <td>6399.310943</td>\n",
       "      <td>-0.150135</td>\n",
       "      <td>-0.0</td>\n",
       "      <td>-0.000000</td>\n",
       "    </tr>\n",
       "    <tr>\n",
       "      <th>7</th>\n",
       "      <td>LSTAT8</td>\n",
       "      <td>-1554.634406</td>\n",
       "      <td>0.007747</td>\n",
       "      <td>-0.0</td>\n",
       "      <td>-0.000000</td>\n",
       "    </tr>\n",
       "    <tr>\n",
       "      <th>8</th>\n",
       "      <td>LSTAT9</td>\n",
       "      <td>-523.920944</td>\n",
       "      <td>0.115016</td>\n",
       "      <td>-0.0</td>\n",
       "      <td>-0.000000</td>\n",
       "    </tr>\n",
       "    <tr>\n",
       "      <th>9</th>\n",
       "      <td>LSTAT10</td>\n",
       "      <td>288.174049</td>\n",
       "      <td>0.159595</td>\n",
       "      <td>-0.0</td>\n",
       "      <td>-0.000000</td>\n",
       "    </tr>\n",
       "  </tbody>\n",
       "</table>\n",
       "</div>"
      ],
      "text/plain": [
       "  Features    model_lin  model_ridge  model_lasso  model_net\n",
       "0    LSTAT    10.485596    -1.997427         -0.0  -0.154677\n",
       "1   LSTAT2  -198.447363     1.120503         -0.0  -0.000000\n",
       "2   LSTAT3  1218.536029     0.705506         -0.0  -0.000000\n",
       "3   LSTAT4 -4039.520114    -0.029523         -0.0  -0.000000\n",
       "4   LSTAT5  8029.887432    -0.331986         -0.0  -0.000000\n",
       "5   LSTAT6 -9630.657688    -0.305169         -0.0  -0.000000\n",
       "6   LSTAT7  6399.310943    -0.150135         -0.0  -0.000000\n",
       "7   LSTAT8 -1554.634406     0.007747         -0.0  -0.000000\n",
       "8   LSTAT9  -523.920944     0.115016         -0.0  -0.000000\n",
       "9  LSTAT10   288.174049     0.159595         -0.0  -0.000000"
      ]
     },
     "execution_count": 75,
     "metadata": {},
     "output_type": "execute_result"
    }
   ],
   "source": [
    "coefficients = pd.DataFrame({\"Features\": df.drop(columns=\"price\").columns})\n",
    "coefficients[\"model_lin\"] = model_linear.coef_\n",
    "coefficients[\"model_ridge\"] = model_ridge.coef_\n",
    "coefficients[\"model_lasso\"] = model_lasso.coef_\n",
    "coefficients[\"model_net\"] = model_net.coef_\n",
    "coefficients"
   ]
  },
  {
   "cell_type": "code",
   "execution_count": null,
   "id": "a6d73c73",
   "metadata": {},
   "outputs": [],
   "source": [
    "# İf you look at the model_lasso you can easily see that all values are equal to 0.\n",
    "# Because alpha = 1 is huge. It's penalizing all features."
   ]
  },
  {
   "cell_type": "markdown",
   "id": "ba1dc6ba",
   "metadata": {},
   "source": [
    "### Perfomance in the test set"
   ]
  },
  {
   "cell_type": "code",
   "execution_count": 76,
   "id": "1833bc61",
   "metadata": {},
   "outputs": [
    {
     "data": {
      "text/plain": [
       "0.541"
      ]
     },
     "execution_count": 76,
     "metadata": {},
     "output_type": "execute_result"
    }
   ],
   "source": [
    "MSE_test = np.mean(np.square(df_predictions[\"y_test\"] - df_predictions[\"y_hat_linear\"]))\n",
    "RMSE_test = np.sqrt(MSE_test)\n",
    "np.round(RMSE_test, 3)"
   ]
  },
  {
   "cell_type": "code",
   "execution_count": 77,
   "id": "791e5664",
   "metadata": {},
   "outputs": [
    {
     "data": {
      "text/plain": [
       "0.559"
      ]
     },
     "execution_count": 77,
     "metadata": {},
     "output_type": "execute_result"
    }
   ],
   "source": [
    "MSE_test = np.mean(np.square(df_predictions[\"y_test\"] - df_predictions[\"y_hat_ridge\"]))\n",
    "RMSE_test = np.sqrt(MSE_test)\n",
    "np.round(RMSE_test, 3)"
   ]
  },
  {
   "cell_type": "code",
   "execution_count": 78,
   "id": "42a7ddfb",
   "metadata": {},
   "outputs": [
    {
     "data": {
      "text/plain": [
       "1.006"
      ]
     },
     "execution_count": 78,
     "metadata": {},
     "output_type": "execute_result"
    }
   ],
   "source": [
    "MSE_test = np.mean(np.square(df_predictions[\"y_test\"] - df_predictions[\"y_hat_lasso\"]))\n",
    "RMSE_test = np.sqrt(MSE_test)\n",
    "np.round(RMSE_test, 3)"
   ]
  },
  {
   "cell_type": "code",
   "execution_count": 79,
   "id": "eed05de4",
   "metadata": {},
   "outputs": [
    {
     "data": {
      "text/plain": [
       "0.898"
      ]
     },
     "execution_count": 79,
     "metadata": {},
     "output_type": "execute_result"
    }
   ],
   "source": [
    "MSE_test = np.mean(np.square(df_predictions[\"y_test\"] - df_predictions[\"y_hat_net\"]))\n",
    "RMSE_test = np.sqrt(MSE_test)\n",
    "np.round(RMSE_test, 3)"
   ]
  },
  {
   "cell_type": "markdown",
   "id": "ca8810c0",
   "metadata": {},
   "source": [
    "## Cross Validation\n",
    "Let's use cross validation to find the optimal Lambdas(alphas) for different models."
   ]
  },
  {
   "cell_type": "markdown",
   "id": "dbaa3ce8",
   "metadata": {},
   "source": [
    "### 1) Optimal alpha for Ridge Regression"
   ]
  },
  {
   "cell_type": "code",
   "execution_count": 80,
   "id": "6b4c86fe",
   "metadata": {},
   "outputs": [
    {
     "data": {
      "text/plain": [
       "0.1"
      ]
     },
     "execution_count": 80,
     "metadata": {},
     "output_type": "execute_result"
    }
   ],
   "source": [
    "ridgecv = RidgeCV()\n",
    "ridgecv.fit(X_train, y_train)\n",
    "ridgecv.alpha_"
   ]
  },
  {
   "cell_type": "code",
   "execution_count": 81,
   "id": "481c938f",
   "metadata": {},
   "outputs": [],
   "source": [
    "alpha_ridge_opt = ridgecv.alpha_"
   ]
  },
  {
   "cell_type": "markdown",
   "id": "aa967dd2",
   "metadata": {},
   "source": [
    "### 2) Optimal alpha for Lasso regression"
   ]
  },
  {
   "cell_type": "code",
   "execution_count": 82,
   "id": "39a8f622",
   "metadata": {},
   "outputs": [
    {
     "data": {
      "text/plain": [
       "0.0007404280761639708"
      ]
     },
     "execution_count": 82,
     "metadata": {},
     "output_type": "execute_result"
    }
   ],
   "source": [
    "lassocv = LassoCV()\n",
    "lassocv.fit(X_train, y_train)\n",
    "lassocv.alpha_"
   ]
  },
  {
   "cell_type": "code",
   "execution_count": 83,
   "id": "99603d52",
   "metadata": {},
   "outputs": [],
   "source": [
    "alpha_lasso_opt = lassocv.alpha_"
   ]
  },
  {
   "cell_type": "markdown",
   "id": "de35cd7f",
   "metadata": {},
   "source": [
    "### 3) Optimal alpha for Elastic Net regression"
   ]
  },
  {
   "cell_type": "code",
   "execution_count": 84,
   "id": "faf44bd7",
   "metadata": {},
   "outputs": [
    {
     "data": {
      "text/plain": [
       "0.0014808561523279417"
      ]
     },
     "execution_count": 84,
     "metadata": {},
     "output_type": "execute_result"
    }
   ],
   "source": [
    "elasticnetcv = ElasticNetCV()\n",
    "elasticnetcv.fit(X_train, y_train)\n",
    "elasticnetcv.alpha_"
   ]
  },
  {
   "cell_type": "code",
   "execution_count": 85,
   "id": "d367cdac",
   "metadata": {},
   "outputs": [
    {
     "data": {
      "text/plain": [
       "0.5"
      ]
     },
     "execution_count": 85,
     "metadata": {},
     "output_type": "execute_result"
    }
   ],
   "source": [
    "elasticnetcv.l1_ratio_"
   ]
  },
  {
   "cell_type": "code",
   "execution_count": 86,
   "id": "6d443579",
   "metadata": {},
   "outputs": [],
   "source": [
    "alpha_elasticnet_opt = elasticnetcv.alpha_"
   ]
  },
  {
   "cell_type": "markdown",
   "id": "7a6e1572",
   "metadata": {},
   "source": [
    "## Refit The Models"
   ]
  },
  {
   "cell_type": "code",
   "execution_count": 87,
   "id": "9d51f455",
   "metadata": {},
   "outputs": [],
   "source": [
    "model_linear = LinearRegression()\n",
    "model_ridge = Ridge(alpha=alpha_ridge_opt)\n",
    "model_lasso = Lasso(alpha=alpha_lasso_opt)\n",
    "model_net = ElasticNet(alpha=alpha_elasticnet_opt)"
   ]
  },
  {
   "cell_type": "code",
   "execution_count": 88,
   "id": "943c5064",
   "metadata": {},
   "outputs": [],
   "source": [
    "y_hat_linear = model_linear.fit(X_train, y_train).predict(X_test)\n",
    "y_hat_ridge = model_ridge.fit(X_train, y_train).predict(X_test)\n",
    "y_hat_lasso = model_lasso.fit(X_train, y_train).predict(X_test)\n",
    "y_hat_net = model_net.fit(X_train, y_train).predict(X_test)"
   ]
  },
  {
   "cell_type": "code",
   "execution_count": 89,
   "id": "8bd9208e",
   "metadata": {},
   "outputs": [
    {
     "data": {
      "text/html": [
       "<div>\n",
       "<style scoped>\n",
       "    .dataframe tbody tr th:only-of-type {\n",
       "        vertical-align: middle;\n",
       "    }\n",
       "\n",
       "    .dataframe tbody tr th {\n",
       "        vertical-align: top;\n",
       "    }\n",
       "\n",
       "    .dataframe thead th {\n",
       "        text-align: right;\n",
       "    }\n",
       "</style>\n",
       "<table border=\"1\" class=\"dataframe\">\n",
       "  <thead>\n",
       "    <tr style=\"text-align: right;\">\n",
       "      <th></th>\n",
       "      <th>y_test</th>\n",
       "      <th>y_hat_linear</th>\n",
       "      <th>y_hat_ridge</th>\n",
       "      <th>y_hat_lasso</th>\n",
       "      <th>y_hat_net</th>\n",
       "    </tr>\n",
       "  </thead>\n",
       "  <tbody>\n",
       "    <tr>\n",
       "      <th>483</th>\n",
       "      <td>-0.079757</td>\n",
       "      <td>-0.019459</td>\n",
       "      <td>-0.060977</td>\n",
       "      <td>-0.035060</td>\n",
       "      <td>0.002918</td>\n",
       "    </tr>\n",
       "    <tr>\n",
       "      <th>426</th>\n",
       "      <td>-1.342272</td>\n",
       "      <td>-0.480570</td>\n",
       "      <td>-0.554453</td>\n",
       "      <td>-0.586640</td>\n",
       "      <td>-0.589195</td>\n",
       "    </tr>\n",
       "    <tr>\n",
       "      <th>22</th>\n",
       "      <td>-0.798084</td>\n",
       "      <td>-0.736176</td>\n",
       "      <td>-0.700808</td>\n",
       "      <td>-0.741599</td>\n",
       "      <td>-0.771307</td>\n",
       "    </tr>\n",
       "    <tr>\n",
       "      <th>268</th>\n",
       "      <td>2.282016</td>\n",
       "      <td>2.053967</td>\n",
       "      <td>1.704469</td>\n",
       "      <td>1.644818</td>\n",
       "      <td>1.561793</td>\n",
       "    </tr>\n",
       "    <tr>\n",
       "      <th>371</th>\n",
       "      <td>2.989460</td>\n",
       "      <td>0.041490</td>\n",
       "      <td>0.074970</td>\n",
       "      <td>0.106679</td>\n",
       "      <td>0.144806</td>\n",
       "    </tr>\n",
       "  </tbody>\n",
       "</table>\n",
       "</div>"
      ],
      "text/plain": [
       "       y_test  y_hat_linear  y_hat_ridge  y_hat_lasso  y_hat_net\n",
       "483 -0.079757     -0.019459    -0.060977    -0.035060   0.002918\n",
       "426 -1.342272     -0.480570    -0.554453    -0.586640  -0.589195\n",
       "22  -0.798084     -0.736176    -0.700808    -0.741599  -0.771307\n",
       "268  2.282016      2.053967     1.704469     1.644818   1.561793\n",
       "371  2.989460      0.041490     0.074970     0.106679   0.144806"
      ]
     },
     "execution_count": 89,
     "metadata": {},
     "output_type": "execute_result"
    }
   ],
   "source": [
    "df_predictions = pd.DataFrame({\"y_test\": y_test,\n",
    "                               \"y_hat_linear\": y_hat_linear,\n",
    "                               \"y_hat_ridge\": y_hat_ridge,\n",
    "                               \"y_hat_lasso\": y_hat_lasso,\n",
    "                               \"y_hat_net\": y_hat_net})\n",
    "df_predictions.head()"
   ]
  },
  {
   "cell_type": "code",
   "execution_count": 90,
   "id": "0457de11",
   "metadata": {},
   "outputs": [
    {
     "data": {
      "text/plain": [
       "0.541"
      ]
     },
     "execution_count": 90,
     "metadata": {},
     "output_type": "execute_result"
    }
   ],
   "source": [
    "MSE_test = np.mean(np.square(df_predictions[\"y_test\"] - df_predictions[\"y_hat_linear\"]))\n",
    "RMSE_test = np.sqrt(MSE_test)\n",
    "np.round(RMSE_test, 3)"
   ]
  },
  {
   "cell_type": "code",
   "execution_count": 91,
   "id": "a304c10d",
   "metadata": {},
   "outputs": [
    {
     "data": {
      "text/plain": [
       "0.555"
      ]
     },
     "execution_count": 91,
     "metadata": {},
     "output_type": "execute_result"
    }
   ],
   "source": [
    "MSE_test = np.mean(np.square(df_predictions[\"y_test\"] - df_predictions[\"y_hat_ridge\"]))\n",
    "RMSE_test = np.sqrt(MSE_test)\n",
    "np.round(RMSE_test, 3)"
   ]
  },
  {
   "cell_type": "code",
   "execution_count": 92,
   "id": "70f51a54",
   "metadata": {},
   "outputs": [
    {
     "data": {
      "text/plain": [
       "0.558"
      ]
     },
     "execution_count": 92,
     "metadata": {},
     "output_type": "execute_result"
    }
   ],
   "source": [
    "MSE_test = np.mean(np.square(df_predictions[\"y_test\"] - df_predictions[\"y_hat_lasso\"]))\n",
    "RMSE_test = np.sqrt(MSE_test)\n",
    "np.round(RMSE_test, 3)"
   ]
  },
  {
   "cell_type": "code",
   "execution_count": 93,
   "id": "1b260857",
   "metadata": {},
   "outputs": [
    {
     "data": {
      "text/plain": [
       "0.557"
      ]
     },
     "execution_count": 93,
     "metadata": {},
     "output_type": "execute_result"
    }
   ],
   "source": [
    "MSE_test = np.mean(np.square(df_predictions[\"y_test\"] - df_predictions[\"y_hat_net\"]))\n",
    "RMSE_test = np.sqrt(MSE_test)\n",
    "np.round(RMSE_test, 3)"
   ]
  },
  {
   "cell_type": "code",
   "execution_count": 94,
   "id": "2da9261d",
   "metadata": {},
   "outputs": [],
   "source": [
    "# The takeaway is that none of these penalized regressions were able to output our simple linear regression model.\n",
    "# But the problem is that Linear Regression is not a model that we want. Because we don't have interpretability.\n",
    "# Maybe We should use some non-parametric models. Maybe random forest..."
   ]
  }
 ],
 "metadata": {
  "kernelspec": {
   "display_name": "Python 3 (ipykernel)",
   "language": "python",
   "name": "python3"
  },
  "language_info": {
   "codemirror_mode": {
    "name": "ipython",
    "version": 3
   },
   "file_extension": ".py",
   "mimetype": "text/x-python",
   "name": "python",
   "nbconvert_exporter": "python",
   "pygments_lexer": "ipython3",
   "version": "3.9.12"
  }
 },
 "nbformat": 4,
 "nbformat_minor": 5
}
