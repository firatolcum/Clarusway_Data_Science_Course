{
 "cells": [
  {
   "cell_type": "markdown",
   "id": "7aa0f9bf",
   "metadata": {},
   "source": [
    "## Regularization: Penalized Regression\n",
    "Regularization force the learning algorithm to build a less complex model. In practice, that often leads to slightly higher bias but significantly reduces the variance. The most common penalized regression models are:\n",
    "1. Ridgre Regression\n",
    "2. Lasso Regression\n",
    "3. Elastic Net Regression\n",
    "In this notebook we will explore the three methods and compare their results with a multiple linear regression model applied to our synthetic data generated from the following true model f(x)\n",
    "    - y = f(x) = x + 2x^2 - 3x^3 + E\n",
    "The target variable is y and the features are 5 polynomial features of X. Namely, X1 = X, X2 = X^2, X3 = X^3 and etc."
   ]
  },
  {
   "cell_type": "code",
   "execution_count": 2,
   "id": "1d0dcdf6",
   "metadata": {},
   "outputs": [],
   "source": [
    "import numpy as np\n",
    "import pandas as pd\n",
    "import matplotlib.pyplot as plt\n",
    "import seaborn as sns\n",
    "from sklearn.linear_model import LinearRegression\n",
    "import statsmodels.api as sm\n",
    "sns.set() \n",
    "import warnings\n",
    "warnings.filterwarnings(\"ignore\")"
   ]
  },
  {
   "cell_type": "code",
   "execution_count": 27,
   "id": "5e48fb18",
   "metadata": {},
   "outputs": [],
   "source": [
    "rand_state = 1000"
   ]
  },
  {
   "cell_type": "code",
   "execution_count": 11,
   "id": "7a47ebd0",
   "metadata": {},
   "outputs": [],
   "source": [
    "df = pd.read_csv(\"Regularization_synthetic.csv\")"
   ]
  },
  {
   "cell_type": "code",
   "execution_count": 13,
   "id": "19c01e4b",
   "metadata": {},
   "outputs": [
    {
     "data": {
      "text/html": [
       "<div>\n",
       "<style scoped>\n",
       "    .dataframe tbody tr th:only-of-type {\n",
       "        vertical-align: middle;\n",
       "    }\n",
       "\n",
       "    .dataframe tbody tr th {\n",
       "        vertical-align: top;\n",
       "    }\n",
       "\n",
       "    .dataframe thead th {\n",
       "        text-align: right;\n",
       "    }\n",
       "</style>\n",
       "<table border=\"1\" class=\"dataframe\">\n",
       "  <thead>\n",
       "    <tr style=\"text-align: right;\">\n",
       "      <th></th>\n",
       "      <th>X1</th>\n",
       "      <th>X2</th>\n",
       "      <th>X3</th>\n",
       "      <th>X4</th>\n",
       "      <th>X5</th>\n",
       "      <th>y</th>\n",
       "    </tr>\n",
       "  </thead>\n",
       "  <tbody>\n",
       "    <tr>\n",
       "      <th>0</th>\n",
       "      <td>1.668068</td>\n",
       "      <td>2.782452</td>\n",
       "      <td>4.641320</td>\n",
       "      <td>7.742038</td>\n",
       "      <td>12.914249</td>\n",
       "      <td>-3.901562</td>\n",
       "    </tr>\n",
       "    <tr>\n",
       "      <th>1</th>\n",
       "      <td>0.925862</td>\n",
       "      <td>0.857220</td>\n",
       "      <td>0.793667</td>\n",
       "      <td>0.734826</td>\n",
       "      <td>0.680348</td>\n",
       "      <td>-0.384578</td>\n",
       "    </tr>\n",
       "    <tr>\n",
       "      <th>2</th>\n",
       "      <td>1.057997</td>\n",
       "      <td>1.119357</td>\n",
       "      <td>1.184276</td>\n",
       "      <td>1.252960</td>\n",
       "      <td>1.325628</td>\n",
       "      <td>12.493677</td>\n",
       "    </tr>\n",
       "    <tr>\n",
       "      <th>3</th>\n",
       "      <td>-0.920339</td>\n",
       "      <td>0.847024</td>\n",
       "      <td>-0.779549</td>\n",
       "      <td>0.717449</td>\n",
       "      <td>-0.660297</td>\n",
       "      <td>12.237389</td>\n",
       "    </tr>\n",
       "    <tr>\n",
       "      <th>4</th>\n",
       "      <td>1.299748</td>\n",
       "      <td>1.689346</td>\n",
       "      <td>2.195725</td>\n",
       "      <td>2.853890</td>\n",
       "      <td>3.709339</td>\n",
       "      <td>-3.772851</td>\n",
       "    </tr>\n",
       "  </tbody>\n",
       "</table>\n",
       "</div>"
      ],
      "text/plain": [
       "         X1        X2        X3        X4         X5          y\n",
       "0  1.668068  2.782452  4.641320  7.742038  12.914249  -3.901562\n",
       "1  0.925862  0.857220  0.793667  0.734826   0.680348  -0.384578\n",
       "2  1.057997  1.119357  1.184276  1.252960   1.325628  12.493677\n",
       "3 -0.920339  0.847024 -0.779549  0.717449  -0.660297  12.237389\n",
       "4  1.299748  1.689346  2.195725  2.853890   3.709339  -3.772851"
      ]
     },
     "execution_count": 13,
     "metadata": {},
     "output_type": "execute_result"
    }
   ],
   "source": [
    "df.head()"
   ]
  },
  {
   "cell_type": "code",
   "execution_count": 15,
   "id": "63da3430",
   "metadata": {},
   "outputs": [
    {
     "data": {
      "image/png": "[encoded data removed]",
      "text/plain": [
       "<Figure size 432x288 with 1 Axes>"
      ]
     },
     "metadata": {},
     "output_type": "display_data"
    }
   ],
   "source": [
    "sns.scatterplot(x=\"X1\", y = \"y\", data=df);"
   ]
  },
  {
   "cell_type": "markdown",
   "id": "cde8f66b",
   "metadata": {},
   "source": [
    "### Normalize The Features"
   ]
  },
  {
   "cell_type": "code",
   "execution_count": 16,
   "id": "31f13bfd",
   "metadata": {},
   "outputs": [],
   "source": [
    "from sklearn.preprocessing import StandardScaler"
   ]
  },
  {
   "cell_type": "code",
   "execution_count": 18,
   "id": "b158d2b8",
   "metadata": {},
   "outputs": [
    {
     "data": {
      "text/plain": [
       "array([ 1.68559489,  1.10379599,  0.93969261,  0.28529469,  0.20893775,\n",
       "       -0.41160092])"
      ]
     },
     "execution_count": 18,
     "metadata": {},
     "output_type": "execute_result"
    }
   ],
   "source": [
    "scaler = StandardScaler()\n",
    "df_sc = scaler.fit_transform(df)\n",
    "df_sc[0]"
   ]
  },
  {
   "cell_type": "code",
   "execution_count": 19,
   "id": "801d68f8",
   "metadata": {},
   "outputs": [
    {
     "data": {
      "text/html": [
       "<div>\n",
       "<style scoped>\n",
       "    .dataframe tbody tr th:only-of-type {\n",
       "        vertical-align: middle;\n",
       "    }\n",
       "\n",
       "    .dataframe tbody tr th {\n",
       "        vertical-align: top;\n",
       "    }\n",
       "\n",
       "    .dataframe thead th {\n",
       "        text-align: right;\n",
       "    }\n",
       "</style>\n",
       "<table border=\"1\" class=\"dataframe\">\n",
       "  <thead>\n",
       "    <tr style=\"text-align: right;\">\n",
       "      <th></th>\n",
       "      <th>X1</th>\n",
       "      <th>X2</th>\n",
       "      <th>X3</th>\n",
       "      <th>X4</th>\n",
       "      <th>X5</th>\n",
       "      <th>y</th>\n",
       "    </tr>\n",
       "  </thead>\n",
       "  <tbody>\n",
       "    <tr>\n",
       "      <th>count</th>\n",
       "      <td>100.000000</td>\n",
       "      <td>100.000000</td>\n",
       "      <td>100.000000</td>\n",
       "      <td>1.000000e+02</td>\n",
       "      <td>1.000000e+02</td>\n",
       "      <td>100.000000</td>\n",
       "    </tr>\n",
       "    <tr>\n",
       "      <th>mean</th>\n",
       "      <td>-0.045528</td>\n",
       "      <td>1.035573</td>\n",
       "      <td>0.028803</td>\n",
       "      <td>3.577067e+00</td>\n",
       "      <td>2.649662e+00</td>\n",
       "      <td>3.163589</td>\n",
       "    </tr>\n",
       "    <tr>\n",
       "      <th>std</th>\n",
       "      <td>1.021734</td>\n",
       "      <td>1.590583</td>\n",
       "      <td>4.933266</td>\n",
       "      <td>1.467239e+01</td>\n",
       "      <td>4.937498e+01</td>\n",
       "      <td>17.251525</td>\n",
       "    </tr>\n",
       "    <tr>\n",
       "      <th>min</th>\n",
       "      <td>-2.502813</td>\n",
       "      <td>0.000077</td>\n",
       "      <td>-15.677801</td>\n",
       "      <td>5.990000e-09</td>\n",
       "      <td>-9.820688e+01</td>\n",
       "      <td>-96.615135</td>\n",
       "    </tr>\n",
       "    <tr>\n",
       "      <th>25%</th>\n",
       "      <td>-0.715772</td>\n",
       "      <td>0.106957</td>\n",
       "      <td>-0.367584</td>\n",
       "      <td>1.146202e-02</td>\n",
       "      <td>-1.894007e-01</td>\n",
       "      <td>-4.740569</td>\n",
       "    </tr>\n",
       "    <tr>\n",
       "      <th>50%</th>\n",
       "      <td>-0.056092</td>\n",
       "      <td>0.513483</td>\n",
       "      <td>-0.000186</td>\n",
       "      <td>2.639740e-01</td>\n",
       "      <td>-6.630000e-07</td>\n",
       "      <td>3.535766</td>\n",
       "    </tr>\n",
       "    <tr>\n",
       "      <th>75%</th>\n",
       "      <td>0.708103</td>\n",
       "      <td>1.265628</td>\n",
       "      <td>0.355353</td>\n",
       "      <td>1.605267e+00</td>\n",
       "      <td>1.785395e-01</td>\n",
       "      <td>12.250487</td>\n",
       "    </tr>\n",
       "    <tr>\n",
       "      <th>max</th>\n",
       "      <td>3.428563</td>\n",
       "      <td>11.755044</td>\n",
       "      <td>40.302907</td>\n",
       "      <td>1.381811e+02</td>\n",
       "      <td>4.737624e+02</td>\n",
       "      <td>61.375324</td>\n",
       "    </tr>\n",
       "  </tbody>\n",
       "</table>\n",
       "</div>"
      ],
      "text/plain": [
       "               X1          X2          X3            X4            X5  \\\n",
       "count  100.000000  100.000000  100.000000  1.000000e+02  1.000000e+02   \n",
       "mean    -0.045528    1.035573    0.028803  3.577067e+00  2.649662e+00   \n",
       "std      1.021734    1.590583    4.933266  1.467239e+01  4.937498e+01   \n",
       "min     -2.502813    0.000077  -15.677801  5.990000e-09 -9.820688e+01   \n",
       "25%     -0.715772    0.106957   -0.367584  1.146202e-02 -1.894007e-01   \n",
       "50%     -0.056092    0.513483   -0.000186  2.639740e-01 -6.630000e-07   \n",
       "75%      0.708103    1.265628    0.355353  1.605267e+00  1.785395e-01   \n",
       "max      3.428563   11.755044   40.302907  1.381811e+02  4.737624e+02   \n",
       "\n",
       "                y  \n",
       "count  100.000000  \n",
       "mean     3.163589  \n",
       "std     17.251525  \n",
       "min    -96.615135  \n",
       "25%     -4.740569  \n",
       "50%      3.535766  \n",
       "75%     12.250487  \n",
       "max     61.375324  "
      ]
     },
     "execution_count": 19,
     "metadata": {},
     "output_type": "execute_result"
    }
   ],
   "source": [
    "df.describe()"
   ]
  },
  {
   "cell_type": "code",
   "execution_count": 22,
   "id": "65f38e11",
   "metadata": {},
   "outputs": [
    {
     "data": {
      "text/html": [
       "<div>\n",
       "<style scoped>\n",
       "    .dataframe tbody tr th:only-of-type {\n",
       "        vertical-align: middle;\n",
       "    }\n",
       "\n",
       "    .dataframe tbody tr th {\n",
       "        vertical-align: top;\n",
       "    }\n",
       "\n",
       "    .dataframe thead th {\n",
       "        text-align: right;\n",
       "    }\n",
       "</style>\n",
       "<table border=\"1\" class=\"dataframe\">\n",
       "  <thead>\n",
       "    <tr style=\"text-align: right;\">\n",
       "      <th></th>\n",
       "      <th>X1</th>\n",
       "      <th>X2</th>\n",
       "      <th>X3</th>\n",
       "      <th>X4</th>\n",
       "      <th>X5</th>\n",
       "      <th>y</th>\n",
       "    </tr>\n",
       "  </thead>\n",
       "  <tbody>\n",
       "    <tr>\n",
       "      <th>count</th>\n",
       "      <td>1.000000e+02</td>\n",
       "      <td>1.000000e+02</td>\n",
       "      <td>1.000000e+02</td>\n",
       "      <td>1.000000e+02</td>\n",
       "      <td>1.000000e+02</td>\n",
       "      <td>1.000000e+02</td>\n",
       "    </tr>\n",
       "    <tr>\n",
       "      <th>mean</th>\n",
       "      <td>-3.219647e-17</td>\n",
       "      <td>1.088019e-16</td>\n",
       "      <td>3.191891e-18</td>\n",
       "      <td>-6.439294e-17</td>\n",
       "      <td>-1.568190e-17</td>\n",
       "      <td>1.165734e-17</td>\n",
       "    </tr>\n",
       "    <tr>\n",
       "      <th>std</th>\n",
       "      <td>1.005038e+00</td>\n",
       "      <td>1.005038e+00</td>\n",
       "      <td>1.005038e+00</td>\n",
       "      <td>1.005038e+00</td>\n",
       "      <td>1.005038e+00</td>\n",
       "      <td>1.005038e+00</td>\n",
       "    </tr>\n",
       "    <tr>\n",
       "      <th>min</th>\n",
       "      <td>-2.417131e+00</td>\n",
       "      <td>-6.542960e-01</td>\n",
       "      <td>-3.199854e+00</td>\n",
       "      <td>-2.450240e-01</td>\n",
       "      <td>-2.052955e+00</td>\n",
       "      <td>-5.812900e+00</td>\n",
       "    </tr>\n",
       "    <tr>\n",
       "      <th>25%</th>\n",
       "      <td>-6.592917e-01</td>\n",
       "      <td>-5.867625e-01</td>\n",
       "      <td>-8.075457e-02</td>\n",
       "      <td>-2.442389e-01</td>\n",
       "      <td>-5.778970e-02</td>\n",
       "      <td>-4.604797e-01</td>\n",
       "    </tr>\n",
       "    <tr>\n",
       "      <th>50%</th>\n",
       "      <td>-1.039141e-02</td>\n",
       "      <td>-3.298919e-01</td>\n",
       "      <td>-5.905921e-03</td>\n",
       "      <td>-2.269422e-01</td>\n",
       "      <td>-5.393443e-02</td>\n",
       "      <td>2.168222e-02</td>\n",
       "    </tr>\n",
       "    <tr>\n",
       "      <th>75%</th>\n",
       "      <td>7.413157e-01</td>\n",
       "      <td>1.453640e-01</td>\n",
       "      <td>6.652695e-02</td>\n",
       "      <td>-1.350655e-01</td>\n",
       "      <td>-5.030020e-02</td>\n",
       "      <td>5.293837e-01</td>\n",
       "    </tr>\n",
       "    <tr>\n",
       "      <th>max</th>\n",
       "      <td>3.417322e+00</td>\n",
       "      <td>6.773285e+00</td>\n",
       "      <td>8.204909e+00</td>\n",
       "      <td>9.220184e+00</td>\n",
       "      <td>9.589597e+00</td>\n",
       "      <td>3.391294e+00</td>\n",
       "    </tr>\n",
       "  </tbody>\n",
       "</table>\n",
       "</div>"
      ],
      "text/plain": [
       "                 X1            X2            X3            X4            X5  \\\n",
       "count  1.000000e+02  1.000000e+02  1.000000e+02  1.000000e+02  1.000000e+02   \n",
       "mean  -3.219647e-17  1.088019e-16  3.191891e-18 -6.439294e-17 -1.568190e-17   \n",
       "std    1.005038e+00  1.005038e+00  1.005038e+00  1.005038e+00  1.005038e+00   \n",
       "min   -2.417131e+00 -6.542960e-01 -3.199854e+00 -2.450240e-01 -2.052955e+00   \n",
       "25%   -6.592917e-01 -5.867625e-01 -8.075457e-02 -2.442389e-01 -5.778970e-02   \n",
       "50%   -1.039141e-02 -3.298919e-01 -5.905921e-03 -2.269422e-01 -5.393443e-02   \n",
       "75%    7.413157e-01  1.453640e-01  6.652695e-02 -1.350655e-01 -5.030020e-02   \n",
       "max    3.417322e+00  6.773285e+00  8.204909e+00  9.220184e+00  9.589597e+00   \n",
       "\n",
       "                  y  \n",
       "count  1.000000e+02  \n",
       "mean   1.165734e-17  \n",
       "std    1.005038e+00  \n",
       "min   -5.812900e+00  \n",
       "25%   -4.604797e-01  \n",
       "50%    2.168222e-02  \n",
       "75%    5.293837e-01  \n",
       "max    3.391294e+00  "
      ]
     },
     "execution_count": 22,
     "metadata": {},
     "output_type": "execute_result"
    }
   ],
   "source": [
    "df_sc = pd.DataFrame(df_sc, columns=df.columns)\n",
    "df_sc.describe()"
   ]
  },
  {
   "cell_type": "code",
   "execution_count": 23,
   "id": "7d4cf68f",
   "metadata": {},
   "outputs": [
    {
     "data": {
      "image/png": "[encoded data removed]",
      "text/plain": [
       "<Figure size 432x288 with 1 Axes>"
      ]
     },
     "metadata": {},
     "output_type": "display_data"
    }
   ],
   "source": [
    "sns.scatterplot(x=\"X1\", y = \"y\", data=df_sc);\n",
    "# Standardization doesn't change the pattern but the scale is different.\n",
    "# y is between -6 and 2."
   ]
  },
  {
   "cell_type": "markdown",
   "id": "3afb9e68",
   "metadata": {},
   "source": [
    "### Splitting The Data"
   ]
  },
  {
   "cell_type": "code",
   "execution_count": 26,
   "id": "b958a53b",
   "metadata": {},
   "outputs": [],
   "source": [
    "X = df_sc.drop(columns=\"y\")\n",
    "y = df_sc[\"y\"]"
   ]
  },
  {
   "cell_type": "code",
   "execution_count": 29,
   "id": "b406819a",
   "metadata": {},
   "outputs": [
    {
     "data": {
      "text/html": [
       "<div>\n",
       "<style scoped>\n",
       "    .dataframe tbody tr th:only-of-type {\n",
       "        vertical-align: middle;\n",
       "    }\n",
       "\n",
       "    .dataframe tbody tr th {\n",
       "        vertical-align: top;\n",
       "    }\n",
       "\n",
       "    .dataframe thead th {\n",
       "        text-align: right;\n",
       "    }\n",
       "</style>\n",
       "<table border=\"1\" class=\"dataframe\">\n",
       "  <thead>\n",
       "    <tr style=\"text-align: right;\">\n",
       "      <th></th>\n",
       "      <th>X1</th>\n",
       "      <th>X2</th>\n",
       "      <th>X3</th>\n",
       "      <th>X4</th>\n",
       "      <th>X5</th>\n",
       "    </tr>\n",
       "  </thead>\n",
       "  <tbody>\n",
       "    <tr>\n",
       "      <th>37</th>\n",
       "      <td>1.464631</td>\n",
       "      <td>0.662152</td>\n",
       "      <td>0.606819</td>\n",
       "      <td>0.052327</td>\n",
       "      <td>0.073610</td>\n",
       "    </tr>\n",
       "    <tr>\n",
       "      <th>44</th>\n",
       "      <td>1.572794</td>\n",
       "      <td>0.870372</td>\n",
       "      <td>0.757779</td>\n",
       "      <td>0.153824</td>\n",
       "      <td>0.130178</td>\n",
       "    </tr>\n",
       "    <tr>\n",
       "      <th>55</th>\n",
       "      <td>0.275319</td>\n",
       "      <td>-0.619639</td>\n",
       "      <td>-0.003245</td>\n",
       "      <td>-0.244817</td>\n",
       "      <td>-0.053920</td>\n",
       "    </tr>\n",
       "    <tr>\n",
       "      <th>66</th>\n",
       "      <td>-0.493702</td>\n",
       "      <td>-0.464986</td>\n",
       "      <td>-0.039290</td>\n",
       "      <td>-0.238872</td>\n",
       "      <td>-0.054935</td>\n",
       "    </tr>\n",
       "    <tr>\n",
       "      <th>82</th>\n",
       "      <td>0.272588</td>\n",
       "      <td>-0.620456</td>\n",
       "      <td>-0.003337</td>\n",
       "      <td>-0.244827</td>\n",
       "      <td>-0.053921</td>\n",
       "    </tr>\n",
       "  </tbody>\n",
       "</table>\n",
       "</div>"
      ],
      "text/plain": [
       "          X1        X2        X3        X4        X5\n",
       "37  1.464631  0.662152  0.606819  0.052327  0.073610\n",
       "44  1.572794  0.870372  0.757779  0.153824  0.130178\n",
       "55  0.275319 -0.619639 -0.003245 -0.244817 -0.053920\n",
       "66 -0.493702 -0.464986 -0.039290 -0.238872 -0.054935\n",
       "82  0.272588 -0.620456 -0.003337 -0.244827 -0.053921"
      ]
     },
     "execution_count": 29,
     "metadata": {},
     "output_type": "execute_result"
    }
   ],
   "source": [
    "from sklearn.model_selection import train_test_split\n",
    "X_train, X_test, y_train, y_test = train_test_split(X, y, test_size=0.2, random_state=rand_state)\n",
    "X_train.head()"
   ]
  },
  {
   "cell_type": "code",
   "execution_count": 30,
   "id": "af51ab26",
   "metadata": {},
   "outputs": [
    {
     "data": {
      "text/plain": [
       "<AxesSubplot:>"
      ]
     },
     "execution_count": 30,
     "metadata": {},
     "output_type": "execute_result"
    },
    {
     "data": {
      "image/png": "[encoded data removed]",
      "text/plain": [
       "<Figure size 432x288 with 2 Axes>"
      ]
     },
     "metadata": {},
     "output_type": "display_data"
    }
   ],
   "source": [
    "sns.heatmap(df_sc.corr(), annot=True)"
   ]
  },
  {
   "cell_type": "code",
   "execution_count": 31,
   "id": "1ca0f1c9",
   "metadata": {},
   "outputs": [],
   "source": [
    "# Let's run a linear regression (using statsmodel.api) and see the results as a benchmark.\n",
    "X_test_wc = sm.add_constant(X_test)  # wc_: width constant\n",
    "X_train_wc = sm.add_constant(X_train)"
   ]
  },
  {
   "cell_type": "code",
   "execution_count": 33,
   "id": "0ef414db",
   "metadata": {},
   "outputs": [
    {
     "data": {
      "text/html": [
       "<table class=\"simpletable\">\n",
       "<caption>OLS Regression Results</caption>\n",
       "<tr>\n",
       "  <th>Dep. Variable:</th>            <td>y</td>        <th>  R-squared:         </th> <td>   0.451</td>\n",
       "</tr>\n",
       "<tr>\n",
       "  <th>Model:</th>                   <td>OLS</td>       <th>  Adj. R-squared:    </th> <td>   0.414</td>\n",
       "</tr>\n",
       "<tr>\n",
       "  <th>Method:</th>             <td>Least Squares</td>  <th>  F-statistic:       </th> <td>   12.17</td>\n",
       "</tr>\n",
       "<tr>\n",
       "  <th>Date:</th>             <td>Thu, 18 Aug 2022</td> <th>  Prob (F-statistic):</th> <td>1.28e-08</td>\n",
       "</tr>\n",
       "<tr>\n",
       "  <th>Time:</th>                 <td>10:45:44</td>     <th>  Log-Likelihood:    </th> <td> -65.981</td>\n",
       "</tr>\n",
       "<tr>\n",
       "  <th>No. Observations:</th>      <td>    80</td>      <th>  AIC:               </th> <td>   144.0</td>\n",
       "</tr>\n",
       "<tr>\n",
       "  <th>Df Residuals:</th>          <td>    74</td>      <th>  BIC:               </th> <td>   158.3</td>\n",
       "</tr>\n",
       "<tr>\n",
       "  <th>Df Model:</th>              <td>     5</td>      <th>                     </th>     <td> </td>   \n",
       "</tr>\n",
       "<tr>\n",
       "  <th>Covariance Type:</th>      <td>nonrobust</td>    <th>                     </th>     <td> </td>   \n",
       "</tr>\n",
       "</table>\n",
       "<table class=\"simpletable\">\n",
       "<tr>\n",
       "    <td></td>       <th>coef</th>     <th>std err</th>      <th>t</th>      <th>P>|t|</th>  <th>[0.025</th>    <th>0.975]</th>  \n",
       "</tr>\n",
       "<tr>\n",
       "  <th>const</th> <td>    0.0870</td> <td>    0.173</td> <td>    0.504</td> <td> 0.616</td> <td>   -0.257</td> <td>    0.431</td>\n",
       "</tr>\n",
       "<tr>\n",
       "  <th>X1</th>    <td>    0.5370</td> <td>    0.199</td> <td>    2.705</td> <td> 0.008</td> <td>    0.141</td> <td>    0.933</td>\n",
       "</tr>\n",
       "<tr>\n",
       "  <th>X2</th>    <td>    0.1037</td> <td>    0.302</td> <td>    0.343</td> <td> 0.732</td> <td>   -0.498</td> <td>    0.705</td>\n",
       "</tr>\n",
       "<tr>\n",
       "  <th>X3</th>    <td>   -2.1339</td> <td>    0.839</td> <td>   -2.543</td> <td> 0.013</td> <td>   -3.806</td> <td>   -0.462</td>\n",
       "</tr>\n",
       "<tr>\n",
       "  <th>X4</th>    <td>    0.2535</td> <td>    0.861</td> <td>    0.294</td> <td> 0.769</td> <td>   -1.463</td> <td>    1.970</td>\n",
       "</tr>\n",
       "<tr>\n",
       "  <th>X5</th>    <td>    1.5933</td> <td>    1.669</td> <td>    0.954</td> <td> 0.343</td> <td>   -1.733</td> <td>    4.920</td>\n",
       "</tr>\n",
       "</table>\n",
       "<table class=\"simpletable\">\n",
       "<tr>\n",
       "  <th>Omnibus:</th>       <td>11.757</td> <th>  Durbin-Watson:     </th> <td>   2.213</td>\n",
       "</tr>\n",
       "<tr>\n",
       "  <th>Prob(Omnibus):</th> <td> 0.003</td> <th>  Jarque-Bera (JB):  </th> <td>  14.171</td>\n",
       "</tr>\n",
       "<tr>\n",
       "  <th>Skew:</th>          <td>-0.701</td> <th>  Prob(JB):          </th> <td>0.000837</td>\n",
       "</tr>\n",
       "<tr>\n",
       "  <th>Kurtosis:</th>      <td> 4.512</td> <th>  Cond. No.          </th> <td>    33.9</td>\n",
       "</tr>\n",
       "</table><br/><br/>Notes:<br/>[1] Standard Errors assume that the covariance matrix of the errors is correctly specified."
      ],
      "text/plain": [
       "<class 'statsmodels.iolib.summary.Summary'>\n",
       "\"\"\"\n",
       "                            OLS Regression Results                            \n",
       "==============================================================================\n",
       "Dep. Variable:                      y   R-squared:                       0.451\n",
       "Model:                            OLS   Adj. R-squared:                  0.414\n",
       "Method:                 Least Squares   F-statistic:                     12.17\n",
       "Date:                Thu, 18 Aug 2022   Prob (F-statistic):           1.28e-08\n",
       "Time:                        10:45:44   Log-Likelihood:                -65.981\n",
       "No. Observations:                  80   AIC:                             144.0\n",
       "Df Residuals:                      74   BIC:                             158.3\n",
       "Df Model:                           5                                         \n",
       "Covariance Type:            nonrobust                                         \n",
       "==============================================================================\n",
       "                 coef    std err          t      P>|t|      [0.025      0.975]\n",
       "------------------------------------------------------------------------------\n",
       "const          0.0870      0.173      0.504      0.616      -0.257       0.431\n",
       "X1             0.5370      0.199      2.705      0.008       0.141       0.933\n",
       "X2             0.1037      0.302      0.343      0.732      -0.498       0.705\n",
       "X3            -2.1339      0.839     -2.543      0.013      -3.806      -0.462\n",
       "X4             0.2535      0.861      0.294      0.769      -1.463       1.970\n",
       "X5             1.5933      1.669      0.954      0.343      -1.733       4.920\n",
       "==============================================================================\n",
       "Omnibus:                       11.757   Durbin-Watson:                   2.213\n",
       "Prob(Omnibus):                  0.003   Jarque-Bera (JB):               14.171\n",
       "Skew:                          -0.701   Prob(JB):                     0.000837\n",
       "Kurtosis:                       4.512   Cond. No.                         33.9\n",
       "==============================================================================\n",
       "\n",
       "Notes:\n",
       "[1] Standard Errors assume that the covariance matrix of the errors is correctly specified.\n",
       "\"\"\""
      ]
     },
     "execution_count": 33,
     "metadata": {},
     "output_type": "execute_result"
    }
   ],
   "source": [
    "model = sm.OLS(y_train, X_train_wc).fit()              # OLS : Ordinary Least Squares\n",
    "model.summary()"
   ]
  },
  {
   "cell_type": "markdown",
   "id": "f24422c0",
   "metadata": {},
   "source": [
    "## A) Training The Models\n",
    "In this section we will train 4 different models:\n",
    "1. Linear Regression(model_linear)\n",
    "2. Ridgre Regression(model_ridge)\n",
    "3. Lasso Regression(model_lasso)\n",
    "4. ElasticNet Regression(model_net)"
   ]
  },
  {
   "cell_type": "code",
   "execution_count": 34,
   "id": "0cafd45b",
   "metadata": {},
   "outputs": [],
   "source": [
    "from sklearn.linear_model import LinearRegression, Ridge, RidgeCV, Lasso, LassoCV, ElasticNet, ElasticNetCV"
   ]
  },
  {
   "cell_type": "code",
   "execution_count": 35,
   "id": "b62247fc",
   "metadata": {},
   "outputs": [],
   "source": [
    "model_linear = LinearRegression()\n",
    "model_ridge = Ridge(alpha = 0) # if alpha(lambda) = 0 we can say that we will use linear regression.\n",
    "model_lasso = Lasso(alpha = 0) # default alpha value = 0\n",
    "model_net = ElasticNet(alpha = 0) # default l1_ratio = 0.5 and we won't change it now."
   ]
  },
  {
   "cell_type": "code",
   "execution_count": 36,
   "id": "31d2701f",
   "metadata": {},
   "outputs": [],
   "source": [
    "y_hat_linear = model_linear.fit(X_train, y_train).predict(X_test)\n",
    "y_hat_ridge = model_ridge.fit(X_train, y_train).predict(X_test)\n",
    "y_hat_lasso = model_lasso.fit(X_train, y_train).predict(X_test)\n",
    "y_hat_net = model_net.fit(X_train, y_train).predict(X_test)"
   ]
  },
  {
   "cell_type": "code",
   "execution_count": 39,
   "id": "586a1363",
   "metadata": {},
   "outputs": [
    {
     "data": {
      "text/html": [
       "<div>\n",
       "<style scoped>\n",
       "    .dataframe tbody tr th:only-of-type {\n",
       "        vertical-align: middle;\n",
       "    }\n",
       "\n",
       "    .dataframe tbody tr th {\n",
       "        vertical-align: top;\n",
       "    }\n",
       "\n",
       "    .dataframe thead th {\n",
       "        text-align: right;\n",
       "    }\n",
       "</style>\n",
       "<table border=\"1\" class=\"dataframe\">\n",
       "  <thead>\n",
       "    <tr style=\"text-align: right;\">\n",
       "      <th></th>\n",
       "      <th>y_test</th>\n",
       "      <th>y_hat_linear</th>\n",
       "      <th>y_hat_ridge</th>\n",
       "      <th>y_hat_lasso</th>\n",
       "      <th>y_hat_net</th>\n",
       "    </tr>\n",
       "  </thead>\n",
       "  <tbody>\n",
       "    <tr>\n",
       "      <th>88</th>\n",
       "      <td>1.307243</td>\n",
       "      <td>0.171067</td>\n",
       "      <td>0.171067</td>\n",
       "      <td>0.171067</td>\n",
       "      <td>0.171067</td>\n",
       "    </tr>\n",
       "    <tr>\n",
       "      <th>4</th>\n",
       "      <td>-0.404102</td>\n",
       "      <td>-0.079686</td>\n",
       "      <td>-0.079686</td>\n",
       "      <td>-0.079686</td>\n",
       "      <td>-0.079686</td>\n",
       "    </tr>\n",
       "    <tr>\n",
       "      <th>62</th>\n",
       "      <td>-1.055680</td>\n",
       "      <td>-0.180921</td>\n",
       "      <td>-0.180921</td>\n",
       "      <td>-0.180921</td>\n",
       "      <td>-0.180921</td>\n",
       "    </tr>\n",
       "    <tr>\n",
       "      <th>63</th>\n",
       "      <td>2.538916</td>\n",
       "      <td>2.344482</td>\n",
       "      <td>2.344482</td>\n",
       "      <td>2.344482</td>\n",
       "      <td>2.344482</td>\n",
       "    </tr>\n",
       "    <tr>\n",
       "      <th>48</th>\n",
       "      <td>1.144605</td>\n",
       "      <td>-0.078630</td>\n",
       "      <td>-0.078630</td>\n",
       "      <td>-0.078630</td>\n",
       "      <td>-0.078630</td>\n",
       "    </tr>\n",
       "  </tbody>\n",
       "</table>\n",
       "</div>"
      ],
      "text/plain": [
       "      y_test  y_hat_linear  y_hat_ridge  y_hat_lasso  y_hat_net\n",
       "88  1.307243      0.171067     0.171067     0.171067   0.171067\n",
       "4  -0.404102     -0.079686    -0.079686    -0.079686  -0.079686\n",
       "62 -1.055680     -0.180921    -0.180921    -0.180921  -0.180921\n",
       "63  2.538916      2.344482     2.344482     2.344482   2.344482\n",
       "48  1.144605     -0.078630    -0.078630    -0.078630  -0.078630"
      ]
     },
     "execution_count": 39,
     "metadata": {},
     "output_type": "execute_result"
    }
   ],
   "source": [
    "df_predictions = pd.DataFrame({\"y_test\":y_test,\n",
    "                               \"y_hat_linear\": y_hat_linear,\n",
    "                               \"y_hat_ridge\": y_hat_ridge,\n",
    "                               \"y_hat_lasso\": y_hat_lasso,\n",
    "                               \"y_hat_net\": y_hat_net})\n",
    "df_predictions.head()"
   ]
  },
  {
   "cell_type": "code",
   "execution_count": null,
   "id": "b51e1897",
   "metadata": {},
   "outputs": [],
   "source": [
    "# You can easily see that all of the hat values are equal. Because we used 0 as value for alpha."
   ]
  },
  {
   "cell_type": "markdown",
   "id": "a86c6c17",
   "metadata": {},
   "source": [
    "### Coefficients"
   ]
  },
  {
   "cell_type": "code",
   "execution_count": 40,
   "id": "0eb5b71e",
   "metadata": {},
   "outputs": [
    {
     "data": {
      "text/html": [
       "<div>\n",
       "<style scoped>\n",
       "    .dataframe tbody tr th:only-of-type {\n",
       "        vertical-align: middle;\n",
       "    }\n",
       "\n",
       "    .dataframe tbody tr th {\n",
       "        vertical-align: top;\n",
       "    }\n",
       "\n",
       "    .dataframe thead th {\n",
       "        text-align: right;\n",
       "    }\n",
       "</style>\n",
       "<table border=\"1\" class=\"dataframe\">\n",
       "  <thead>\n",
       "    <tr style=\"text-align: right;\">\n",
       "      <th></th>\n",
       "      <th>Features</th>\n",
       "      <th>model_lin</th>\n",
       "      <th>model_ridge</th>\n",
       "      <th>model_lasso</th>\n",
       "      <th>model_net</th>\n",
       "    </tr>\n",
       "  </thead>\n",
       "  <tbody>\n",
       "    <tr>\n",
       "      <th>0</th>\n",
       "      <td>X1</td>\n",
       "      <td>0.537047</td>\n",
       "      <td>0.537047</td>\n",
       "      <td>0.537047</td>\n",
       "      <td>0.537047</td>\n",
       "    </tr>\n",
       "    <tr>\n",
       "      <th>1</th>\n",
       "      <td>X2</td>\n",
       "      <td>0.103655</td>\n",
       "      <td>0.103655</td>\n",
       "      <td>0.103655</td>\n",
       "      <td>0.103655</td>\n",
       "    </tr>\n",
       "    <tr>\n",
       "      <th>2</th>\n",
       "      <td>X3</td>\n",
       "      <td>-2.133872</td>\n",
       "      <td>-2.133872</td>\n",
       "      <td>-2.133872</td>\n",
       "      <td>-2.133872</td>\n",
       "    </tr>\n",
       "    <tr>\n",
       "      <th>3</th>\n",
       "      <td>X4</td>\n",
       "      <td>0.253492</td>\n",
       "      <td>0.253492</td>\n",
       "      <td>0.253492</td>\n",
       "      <td>0.253492</td>\n",
       "    </tr>\n",
       "    <tr>\n",
       "      <th>4</th>\n",
       "      <td>X5</td>\n",
       "      <td>1.593336</td>\n",
       "      <td>1.593336</td>\n",
       "      <td>1.593336</td>\n",
       "      <td>1.593336</td>\n",
       "    </tr>\n",
       "  </tbody>\n",
       "</table>\n",
       "</div>"
      ],
      "text/plain": [
       "  Features  model_lin  model_ridge  model_lasso  model_net\n",
       "0       X1   0.537047     0.537047     0.537047   0.537047\n",
       "1       X2   0.103655     0.103655     0.103655   0.103655\n",
       "2       X3  -2.133872    -2.133872    -2.133872  -2.133872\n",
       "3       X4   0.253492     0.253492     0.253492   0.253492\n",
       "4       X5   1.593336     1.593336     1.593336   1.593336"
      ]
     },
     "execution_count": 40,
     "metadata": {},
     "output_type": "execute_result"
    }
   ],
   "source": [
    "coefficients = pd.DataFrame({\"Features\": df.drop(columns=\"y\").columns})\n",
    "coefficients[\"model_lin\"] = model_linear.coef_\n",
    "coefficients[\"model_ridge\"] = model_ridge.coef_\n",
    "coefficients[\"model_lasso\"] = model_lasso.coef_\n",
    "coefficients[\"model_net\"] = model_net.coef_\n",
    "coefficients"
   ]
  },
  {
   "cell_type": "markdown",
   "id": "59ea7f72",
   "metadata": {},
   "source": [
    "### Performance in The Test Set"
   ]
  },
  {
   "cell_type": "code",
   "execution_count": 41,
   "id": "642e820a",
   "metadata": {},
   "outputs": [
    {
     "data": {
      "text/plain": [
       "2.037"
      ]
     },
     "execution_count": 41,
     "metadata": {},
     "output_type": "execute_result"
    }
   ],
   "source": [
    "# RMSE for y_hat_linear\n",
    "MSE_test = np.mean(np.square(df_predictions[\"y_test\"] - df_predictions[\"y_hat_linear\"]))\n",
    "RMSE_test = np.sqrt(MSE_test)\n",
    "np.round(RMSE_test, 3)"
   ]
  },
  {
   "cell_type": "code",
   "execution_count": 43,
   "id": "f30d8e44",
   "metadata": {},
   "outputs": [
    {
     "data": {
      "text/plain": [
       "2.037"
      ]
     },
     "execution_count": 43,
     "metadata": {},
     "output_type": "execute_result"
    }
   ],
   "source": [
    "# RMSE for y_hat_ridge\n",
    "MSE_test = np.mean(np.square(df_predictions[\"y_test\"] - df_predictions[\"y_hat_ridge\"]))\n",
    "RMSE_test = np.sqrt(MSE_test)\n",
    "np.round(RMSE_test, 3)"
   ]
  },
  {
   "cell_type": "code",
   "execution_count": 44,
   "id": "ad2f0352",
   "metadata": {},
   "outputs": [
    {
     "data": {
      "text/plain": [
       "2.037"
      ]
     },
     "execution_count": 44,
     "metadata": {},
     "output_type": "execute_result"
    }
   ],
   "source": [
    "# RMSE for y_hat_lasso\n",
    "MSE_test = np.mean(np.square(df_predictions[\"y_test\"] - df_predictions[\"y_hat_lasso\"]))\n",
    "RMSE_test = np.sqrt(MSE_test)\n",
    "np.round(RMSE_test, 3)"
   ]
  },
  {
   "cell_type": "code",
   "execution_count": 45,
   "id": "247f6789",
   "metadata": {},
   "outputs": [
    {
     "data": {
      "text/plain": [
       "2.037"
      ]
     },
     "execution_count": 45,
     "metadata": {},
     "output_type": "execute_result"
    }
   ],
   "source": [
    "# RMSE for y_hat_net\n",
    "MSE_test = np.mean(np.square(df_predictions[\"y_test\"] - df_predictions[\"y_hat_net\"]))\n",
    "RMSE_test = np.sqrt(MSE_test)\n",
    "np.round(RMSE_test, 3)"
   ]
  },
  {
   "cell_type": "markdown",
   "id": "2e86c5b7",
   "metadata": {},
   "source": [
    "## Plotting The Regression Coefficients vs Alphas:\n",
    "### 1) Ridge regression coefficients vs alpha"
   ]
  },
  {
   "cell_type": "code",
   "execution_count": 49,
   "id": "106fb6e6",
   "metadata": {},
   "outputs": [
    {
     "data": {
      "image/png": "[encoded data removed]",
      "text/plain": [
       "<Figure size 864x360 with 1 Axes>"
      ]
     },
     "metadata": {},
     "output_type": "display_data"
    }
   ],
   "source": [
    "alpha_ridge = 10**np.linspace(-2, 4, 100)\n",
    "plt.figure(figsize=(12, 5))\n",
    "plt.plot(alpha_ridge, \"or\")\n",
    "plt.xlabel(\"steps\")\n",
    "plt.ylabel(\"alpha(lambda)\");"
   ]
  },
  {
   "cell_type": "code",
   "execution_count": 52,
   "id": "5ebb798f",
   "metadata": {},
   "outputs": [
    {
     "data": {
      "text/plain": [
       "(100, 5)"
      ]
     },
     "execution_count": 52,
     "metadata": {},
     "output_type": "execute_result"
    }
   ],
   "source": [
    "ridge = Ridge()\n",
    "coefs_ridge = []\n",
    "\n",
    "for i in alpha_ridge:\n",
    "    ridge.set_params(alpha = i)\n",
    "    ridge.fit(X_train, y_train)\n",
    "    coefs_ridge.append(ridge.coef_)\n",
    "\n",
    "np.shape(coefs_ridge)"
   ]
  },
  {
   "cell_type": "code",
   "execution_count": 55,
   "id": "9ddb0fc5",
   "metadata": {},
   "outputs": [
    {
     "data": {
      "image/png": "[encoded data removed]",
      "text/plain": [
       "<Figure size 864x720 with 1 Axes>"
      ]
     },
     "metadata": {},
     "output_type": "display_data"
    }
   ],
   "source": [
    "plt.figure(figsize=(12 ,10))\n",
    "ax = plt.gca() # gca: Get the current axes\n",
    "ax.plot(alpha_ridge, coefs_ridge)\n",
    "ax.set_xscale(\"log\")\n",
    "plt.axis(\"tight\")\n",
    "plt.xlabel(\"alpha\")\n",
    "plt.ylabel(\"weights: scaled coefficients\")\n",
    "plt.title(\"Ridge regression coefficients vs. alpha\")\n",
    "plt.legend(df.drop(columns=\"y\").columns);"
   ]
  },
  {
   "cell_type": "markdown",
   "id": "4666af7d",
   "metadata": {},
   "source": [
    "### 2) Lasso regression coefficients vs alpha"
   ]
  },
  {
   "cell_type": "code",
   "execution_count": 56,
   "id": "183ec6d6",
   "metadata": {},
   "outputs": [],
   "source": [
    "alpha_lasso = 10**np.linspace(-3, 1, 100)"
   ]
  },
  {
   "cell_type": "code",
   "execution_count": 58,
   "id": "565cd2c9",
   "metadata": {},
   "outputs": [
    {
     "data": {
      "text/plain": [
       "(100, 5)"
      ]
     },
     "execution_count": 58,
     "metadata": {},
     "output_type": "execute_result"
    }
   ],
   "source": [
    "lasso = Lasso()\n",
    "coefs_lasso = []\n",
    "\n",
    "for i in alpha_lasso:\n",
    "    lasso.set_params(alpha = i)\n",
    "    lasso.fit(X_train, y_train)\n",
    "    coefs_lasso.append(lasso.coef_)\n",
    "\n",
    "np.shape(coefs_lasso)"
   ]
  },
  {
   "cell_type": "code",
   "execution_count": 59,
   "id": "4100749a",
   "metadata": {},
   "outputs": [
    {
     "data": {
      "image/png": "[encoded data removed]",
      "text/plain": [
       "<Figure size 864x720 with 1 Axes>"
      ]
     },
     "metadata": {},
     "output_type": "display_data"
    }
   ],
   "source": [
    "plt.figure(figsize = (12, 10))\n",
    "ax = plt.gca()\n",
    "ax.plot(alpha_lasso, coefs_lasso)\n",
    "ax.set_xscale(\"log\")\n",
    "plt.axis(\"tight\")\n",
    "plt.xlabel(\"alpha\")\n",
    "plt.ylabel(\"weights: scaled coefficients\")\n",
    "plt.title(\"Lasso regression coefficients vs. alpha\")\n",
    "plt.legend(df.drop(columns=\"y\").columns);"
   ]
  },
  {
   "cell_type": "markdown",
   "id": "defdee0e",
   "metadata": {},
   "source": [
    "### Elastic Net regression coefficients vs alpha"
   ]
  },
  {
   "cell_type": "code",
   "execution_count": 60,
   "id": "3d717d99",
   "metadata": {},
   "outputs": [],
   "source": [
    "alpha_elasticnet = 10**np.linspace(-3, 2, 100)"
   ]
  },
  {
   "cell_type": "code",
   "execution_count": 61,
   "id": "bfe79467",
   "metadata": {},
   "outputs": [
    {
     "data": {
      "text/plain": [
       "(100, 5)"
      ]
     },
     "execution_count": 61,
     "metadata": {},
     "output_type": "execute_result"
    }
   ],
   "source": [
    "elasticnet = ElasticNet()\n",
    "coefs_elasticnet = []\n",
    "\n",
    "for i in alpha_elasticnet:\n",
    "    elasticnet.set_params(alpha = i)\n",
    "    elasticnet.fit(X_train, y_train)\n",
    "    coefs_elasticnet.append(elasticnet.coef_)\n",
    "\n",
    "np.shape(coefs_elasticnet)"
   ]
  },
  {
   "cell_type": "code",
   "execution_count": 64,
   "id": "1ad3fbf3",
   "metadata": {},
   "outputs": [
    {
     "data": {
      "image/png": "[encoded data removed]",
      "text/plain": [
       "<Figure size 864x720 with 1 Axes>"
      ]
     },
     "metadata": {},
     "output_type": "display_data"
    }
   ],
   "source": [
    "plt.figure(figsize = (12, 10))\n",
    "ax = plt.gca()\n",
    "ax.plot(alpha_elasticnet, coefs_elasticnet)\n",
    "ax.set_xscale(\"log\")\n",
    "plt.axis(\"tight\")\n",
    "plt.xlabel(\"alpha\")\n",
    "plt.ylabel(\"weights: scaled coefficients\")\n",
    "plt.title(\"Elastic Net regression coefficients vs. alpha\")\n",
    "plt.legend(df.drop(columns=\"y\").columns);"
   ]
  },
  {
   "cell_type": "markdown",
   "id": "69de423d",
   "metadata": {},
   "source": [
    "## Cross Validation\n",
    "Let's use cross validation to find the optimal Lambdas(alphas) for different models.<br>\n",
    "Main usage of cross-validation is to tune the hyperparameters and then estimating the performance metrics in the test set.<br>\n",
    "### 1) Optimal alpha for Ridge regression"
   ]
  },
  {
   "cell_type": "code",
   "execution_count": 65,
   "id": "45ffae72",
   "metadata": {},
   "outputs": [
    {
     "data": {
      "text/plain": [
       "1.0"
      ]
     },
     "execution_count": 65,
     "metadata": {},
     "output_type": "execute_result"
    }
   ],
   "source": [
    "ridgecv = RidgeCV() # default alphas=(0.1, 1.0, 10.0)--> If you want to be more precise you can pass a complete range here.\n",
    "ridgecv.fit(X_train, y_train)\n",
    "ridgecv.alpha_"
   ]
  },
  {
   "cell_type": "code",
   "execution_count": 66,
   "id": "caf488c3",
   "metadata": {},
   "outputs": [],
   "source": [
    "alpha_ridge_opt = ridgecv.alpha_\n",
    "# alpha_ridge_opt = optimized ridge alpha value"
   ]
  },
  {
   "cell_type": "markdown",
   "id": "33c68afe",
   "metadata": {},
   "source": [
    "### 2) Optimal alpha for Lasso regression"
   ]
  },
  {
   "cell_type": "code",
   "execution_count": 76,
   "id": "c418d8ff",
   "metadata": {},
   "outputs": [
    {
     "data": {
      "text/plain": [
       "0.004564470133023309"
      ]
     },
     "execution_count": 76,
     "metadata": {},
     "output_type": "execute_result"
    }
   ],
   "source": [
    "lassocv = LassoCV() # default alphas=None \n",
    "lassocv.fit(X_train, y_train)\n",
    "lassocv.alpha_"
   ]
  },
  {
   "cell_type": "code",
   "execution_count": 77,
   "id": "285d1595",
   "metadata": {},
   "outputs": [],
   "source": [
    "alpha_lasso_opt = lassocv.alpha_"
   ]
  },
  {
   "cell_type": "markdown",
   "id": "fe78f054",
   "metadata": {},
   "source": [
    "### 3) Optimal alpha for Elastic Net regression"
   ]
  },
  {
   "cell_type": "code",
   "execution_count": 80,
   "id": "6fb03bed",
   "metadata": {},
   "outputs": [
    {
     "data": {
      "text/plain": [
       "0.006440286888331817"
      ]
     },
     "execution_count": 80,
     "metadata": {},
     "output_type": "execute_result"
    }
   ],
   "source": [
    "elasticnetcv = ElasticNetCV() # default alphas=None\n",
    "elasticnetcv.fit(X_train, y_train)\n",
    "elasticnetcv.alpha_"
   ]
  },
  {
   "cell_type": "code",
   "execution_count": 82,
   "id": "21baa3c7",
   "metadata": {},
   "outputs": [
    {
     "data": {
      "text/plain": [
       "0.5"
      ]
     },
     "execution_count": 82,
     "metadata": {},
     "output_type": "execute_result"
    }
   ],
   "source": [
    "elasticnetcv.l1_ratio_ # dfault l1_ratio = 0.5"
   ]
  },
  {
   "cell_type": "code",
   "execution_count": 83,
   "id": "2e00d621",
   "metadata": {},
   "outputs": [],
   "source": [
    "alpha_elasticnet_opt = elasticnetcv.alpha_"
   ]
  },
  {
   "cell_type": "markdown",
   "id": "1cfa1c03",
   "metadata": {},
   "source": [
    "## Refit the models!\n",
    "#### Now go back and refit the 3 models with the optimal alphas!"
   ]
  },
  {
   "cell_type": "code",
   "execution_count": 104,
   "id": "faec4a39",
   "metadata": {},
   "outputs": [],
   "source": [
    "model_linear = LinearRegression()\n",
    "model_ridge = Ridge(alpha = alpha_ridge_opt)\n",
    "model_lasso = Lasso(alpha = alpha_lasso_opt) \n",
    "model_net = ElasticNet(alpha = alpha_elasticnet_opt)"
   ]
  },
  {
   "cell_type": "code",
   "execution_count": 105,
   "id": "74fe1502",
   "metadata": {},
   "outputs": [],
   "source": [
    "y_hat_linear = model_linear.fit(X_train, y_train).predict(X_test)\n",
    "y_hat_ridge = model_ridge.fit(X_train, y_train).predict(X_test)\n",
    "y_hat_lasso = model_lasso.fit(X_train, y_train).predict(X_test)\n",
    "y_hat_net = model_net.fit(X_train, y_train).predict(X_test)"
   ]
  },
  {
   "cell_type": "code",
   "execution_count": 106,
   "id": "136d2809",
   "metadata": {},
   "outputs": [
    {
     "data": {
      "text/html": [
       "<div>\n",
       "<style scoped>\n",
       "    .dataframe tbody tr th:only-of-type {\n",
       "        vertical-align: middle;\n",
       "    }\n",
       "\n",
       "    .dataframe tbody tr th {\n",
       "        vertical-align: top;\n",
       "    }\n",
       "\n",
       "    .dataframe thead th {\n",
       "        text-align: right;\n",
       "    }\n",
       "</style>\n",
       "<table border=\"1\" class=\"dataframe\">\n",
       "  <thead>\n",
       "    <tr style=\"text-align: right;\">\n",
       "      <th></th>\n",
       "      <th>y_test</th>\n",
       "      <th>y_hat_linear</th>\n",
       "      <th>y_hat_ridge</th>\n",
       "      <th>y_hat_lasso</th>\n",
       "      <th>y_hat_net</th>\n",
       "    </tr>\n",
       "  </thead>\n",
       "  <tbody>\n",
       "    <tr>\n",
       "      <th>88</th>\n",
       "      <td>1.307243</td>\n",
       "      <td>0.171067</td>\n",
       "      <td>0.175576</td>\n",
       "      <td>0.154862</td>\n",
       "      <td>0.163279</td>\n",
       "    </tr>\n",
       "    <tr>\n",
       "      <th>4</th>\n",
       "      <td>-0.404102</td>\n",
       "      <td>-0.079686</td>\n",
       "      <td>-0.032038</td>\n",
       "      <td>-0.047122</td>\n",
       "      <td>-0.044388</td>\n",
       "    </tr>\n",
       "    <tr>\n",
       "      <th>62</th>\n",
       "      <td>-1.055680</td>\n",
       "      <td>-0.180921</td>\n",
       "      <td>-0.148966</td>\n",
       "      <td>-0.148200</td>\n",
       "      <td>-0.149537</td>\n",
       "    </tr>\n",
       "    <tr>\n",
       "      <th>63</th>\n",
       "      <td>2.538916</td>\n",
       "      <td>2.344482</td>\n",
       "      <td>2.083804</td>\n",
       "      <td>2.156366</td>\n",
       "      <td>2.139361</td>\n",
       "    </tr>\n",
       "    <tr>\n",
       "      <th>48</th>\n",
       "      <td>1.144605</td>\n",
       "      <td>-0.078630</td>\n",
       "      <td>-0.001604</td>\n",
       "      <td>-0.031199</td>\n",
       "      <td>-0.022572</td>\n",
       "    </tr>\n",
       "  </tbody>\n",
       "</table>\n",
       "</div>"
      ],
      "text/plain": [
       "      y_test  y_hat_linear  y_hat_ridge  y_hat_lasso  y_hat_net\n",
       "88  1.307243      0.171067     0.175576     0.154862   0.163279\n",
       "4  -0.404102     -0.079686    -0.032038    -0.047122  -0.044388\n",
       "62 -1.055680     -0.180921    -0.148966    -0.148200  -0.149537\n",
       "63  2.538916      2.344482     2.083804     2.156366   2.139361\n",
       "48  1.144605     -0.078630    -0.001604    -0.031199  -0.022572"
      ]
     },
     "execution_count": 106,
     "metadata": {},
     "output_type": "execute_result"
    }
   ],
   "source": [
    "df_predictions = pd.DataFrame({\"y_test\":y_test,\n",
    "                               \"y_hat_linear\": y_hat_linear,\n",
    "                               \"y_hat_ridge\": y_hat_ridge,\n",
    "                               \"y_hat_lasso\": y_hat_lasso,\n",
    "                               \"y_hat_net\": y_hat_net})\n",
    "df_predictions.head()"
   ]
  },
  {
   "cell_type": "code",
   "execution_count": 107,
   "id": "4131c46d",
   "metadata": {},
   "outputs": [
    {
     "data": {
      "text/html": [
       "<div>\n",
       "<style scoped>\n",
       "    .dataframe tbody tr th:only-of-type {\n",
       "        vertical-align: middle;\n",
       "    }\n",
       "\n",
       "    .dataframe tbody tr th {\n",
       "        vertical-align: top;\n",
       "    }\n",
       "\n",
       "    .dataframe thead th {\n",
       "        text-align: right;\n",
       "    }\n",
       "</style>\n",
       "<table border=\"1\" class=\"dataframe\">\n",
       "  <thead>\n",
       "    <tr style=\"text-align: right;\">\n",
       "      <th></th>\n",
       "      <th>Features</th>\n",
       "      <th>model_lin</th>\n",
       "      <th>model_ridge</th>\n",
       "      <th>model_lasso</th>\n",
       "      <th>model_net</th>\n",
       "    </tr>\n",
       "  </thead>\n",
       "  <tbody>\n",
       "    <tr>\n",
       "      <th>0</th>\n",
       "      <td>X1</td>\n",
       "      <td>0.537047</td>\n",
       "      <td>0.256687</td>\n",
       "      <td>0.322054</td>\n",
       "      <td>0.308461</td>\n",
       "    </tr>\n",
       "    <tr>\n",
       "      <th>1</th>\n",
       "      <td>X2</td>\n",
       "      <td>0.103655</td>\n",
       "      <td>0.192091</td>\n",
       "      <td>0.156880</td>\n",
       "      <td>0.165614</td>\n",
       "    </tr>\n",
       "    <tr>\n",
       "      <th>2</th>\n",
       "      <td>X3</td>\n",
       "      <td>-2.133872</td>\n",
       "      <td>-0.963844</td>\n",
       "      <td>-1.183806</td>\n",
       "      <td>-1.151128</td>\n",
       "    </tr>\n",
       "    <tr>\n",
       "      <th>3</th>\n",
       "      <td>X4</td>\n",
       "      <td>0.253492</td>\n",
       "      <td>-0.041360</td>\n",
       "      <td>-0.000000</td>\n",
       "      <td>-0.000000</td>\n",
       "    </tr>\n",
       "    <tr>\n",
       "      <th>4</th>\n",
       "      <td>X5</td>\n",
       "      <td>1.593336</td>\n",
       "      <td>-0.221195</td>\n",
       "      <td>0.000000</td>\n",
       "      <td>-0.000000</td>\n",
       "    </tr>\n",
       "  </tbody>\n",
       "</table>\n",
       "</div>"
      ],
      "text/plain": [
       "  Features  model_lin  model_ridge  model_lasso  model_net\n",
       "0       X1   0.537047     0.256687     0.322054   0.308461\n",
       "1       X2   0.103655     0.192091     0.156880   0.165614\n",
       "2       X3  -2.133872    -0.963844    -1.183806  -1.151128\n",
       "3       X4   0.253492    -0.041360    -0.000000  -0.000000\n",
       "4       X5   1.593336    -0.221195     0.000000  -0.000000"
      ]
     },
     "execution_count": 107,
     "metadata": {},
     "output_type": "execute_result"
    }
   ],
   "source": [
    "coefficients = pd.DataFrame({\"Features\": df.drop(columns=\"y\").columns})\n",
    "coefficients[\"model_lin\"] = model_linear.coef_\n",
    "coefficients[\"model_ridge\"] = model_ridge.coef_\n",
    "coefficients[\"model_lasso\"] = model_lasso.coef_\n",
    "coefficients[\"model_net\"] = model_net.coef_\n",
    "coefficients"
   ]
  },
  {
   "cell_type": "code",
   "execution_count": 108,
   "id": "dc57812c",
   "metadata": {},
   "outputs": [
    {
     "data": {
      "text/plain": [
       "2.037"
      ]
     },
     "execution_count": 108,
     "metadata": {},
     "output_type": "execute_result"
    }
   ],
   "source": [
    "# RMSE for y_hat_linear\n",
    "MSE_test = np.mean(np.square(df_predictions[\"y_test\"] - df_predictions[\"y_hat_linear\"]))\n",
    "RMSE_test = np.sqrt(MSE_test)\n",
    "np.round(RMSE_test, 3)"
   ]
  },
  {
   "cell_type": "code",
   "execution_count": 109,
   "id": "22f5e790",
   "metadata": {},
   "outputs": [
    {
     "data": {
      "text/plain": [
       "0.894"
      ]
     },
     "execution_count": 109,
     "metadata": {},
     "output_type": "execute_result"
    }
   ],
   "source": [
    "# RMSE for y_hat_ridge\n",
    "MSE_test = np.mean(np.square(df_predictions[\"y_test\"] - df_predictions[\"y_hat_ridge\"]))\n",
    "RMSE_test = np.sqrt(MSE_test)\n",
    "np.round(RMSE_test, 3)"
   ]
  },
  {
   "cell_type": "code",
   "execution_count": 110,
   "id": "8fa56493",
   "metadata": {},
   "outputs": [
    {
     "data": {
      "text/plain": [
       "0.81"
      ]
     },
     "execution_count": 110,
     "metadata": {},
     "output_type": "execute_result"
    }
   ],
   "source": [
    "# RMSE for y_hat_lasso\n",
    "MSE_test = np.mean(np.square(df_predictions[\"y_test\"] - df_predictions[\"y_hat_lasso\"]))\n",
    "RMSE_test = np.sqrt(MSE_test)\n",
    "np.round(RMSE_test, 3)"
   ]
  },
  {
   "cell_type": "code",
   "execution_count": 111,
   "id": "f6808b4d",
   "metadata": {},
   "outputs": [
    {
     "data": {
      "text/plain": [
       "0.781"
      ]
     },
     "execution_count": 111,
     "metadata": {},
     "output_type": "execute_result"
    }
   ],
   "source": [
    "# RMSE for y_hat_net\n",
    "MSE_test = np.mean(np.square(df_predictions[\"y_test\"] - df_predictions[\"y_hat_net\"]))\n",
    "RMSE_test = np.sqrt(MSE_test)\n",
    "np.round(RMSE_test, 3)\n",
    "\n",
    "# Elasticnet has lowest RMSE score, sco ElasticNet is the best model for our data."
   ]
  }
 ],
 "metadata": {
  "kernelspec": {
   "display_name": "Python 3 (ipykernel)",
   "language": "python",
   "name": "python3"
  },
  "language_info": {
   "codemirror_mode": {
    "name": "ipython",
    "version": 3
   },
   "file_extension": ".py",
   "mimetype": "text/x-python",
   "name": "python",
   "nbconvert_exporter": "python",
   "pygments_lexer": "ipython3",
   "version": "3.9.12"
  }
 },
 "nbformat": 4,
 "nbformat_minor": 5
}
