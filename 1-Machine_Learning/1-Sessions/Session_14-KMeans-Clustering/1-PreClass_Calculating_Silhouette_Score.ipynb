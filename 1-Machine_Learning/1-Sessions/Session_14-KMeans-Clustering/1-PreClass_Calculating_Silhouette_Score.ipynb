{
 "cells": [
  {
   "cell_type": "markdown",
   "id": "64af8cde",
   "metadata": {},
   "source": [
    "## Calculating Silhoutte Score"
   ]
  },
  {
   "cell_type": "markdown",
   "id": "48b12da6",
   "metadata": {},
   "source": [
    "### Importing Libraries"
   ]
  },
  {
   "cell_type": "code",
   "execution_count": 11,
   "id": "837b2df9",
   "metadata": {},
   "outputs": [],
   "source": [
    "import pandas as pd\n",
    "import numpy as np\n",
    "import matplotlib.pyplot as plt\n",
    "import seaborn as sns\n",
    "from sklearn.cluster import KMeans\n",
    "from sklearn.metrics import silhouette_score\n",
    "import warnings\n",
    "warnings.filterwarnings(\"ignore\")\n",
    "plt.rcParams['figure.figsize'] = (6,4)"
   ]
  },
  {
   "cell_type": "markdown",
   "id": "27c9e472",
   "metadata": {},
   "source": [
    "### Generating Some Random Data"
   ]
  },
  {
   "cell_type": "code",
   "execution_count": 4,
   "id": "e446d9eb",
   "metadata": {},
   "outputs": [],
   "source": [
    "X = np.random.rand(50, 2)\n",
    "Y = 2 + X\n",
    "Z = np.concatenate((X, Y))\n",
    "\n",
    "Z = pd.DataFrame(Z)"
   ]
  },
  {
   "cell_type": "code",
   "execution_count": 5,
   "id": "981dabf0",
   "metadata": {},
   "outputs": [
    {
     "data": {
      "text/html": [
       "<div>\n",
       "<style scoped>\n",
       "    .dataframe tbody tr th:only-of-type {\n",
       "        vertical-align: middle;\n",
       "    }\n",
       "\n",
       "    .dataframe tbody tr th {\n",
       "        vertical-align: top;\n",
       "    }\n",
       "\n",
       "    .dataframe thead th {\n",
       "        text-align: right;\n",
       "    }\n",
       "</style>\n",
       "<table border=\"1\" class=\"dataframe\">\n",
       "  <thead>\n",
       "    <tr style=\"text-align: right;\">\n",
       "      <th></th>\n",
       "      <th>0</th>\n",
       "      <th>1</th>\n",
       "    </tr>\n",
       "  </thead>\n",
       "  <tbody>\n",
       "    <tr>\n",
       "      <th>0</th>\n",
       "      <td>0.097714</td>\n",
       "      <td>0.315092</td>\n",
       "    </tr>\n",
       "    <tr>\n",
       "      <th>1</th>\n",
       "      <td>0.568678</td>\n",
       "      <td>0.791169</td>\n",
       "    </tr>\n",
       "    <tr>\n",
       "      <th>2</th>\n",
       "      <td>0.508098</td>\n",
       "      <td>0.326052</td>\n",
       "    </tr>\n",
       "    <tr>\n",
       "      <th>3</th>\n",
       "      <td>0.528409</td>\n",
       "      <td>0.931010</td>\n",
       "    </tr>\n",
       "    <tr>\n",
       "      <th>4</th>\n",
       "      <td>0.657503</td>\n",
       "      <td>0.997247</td>\n",
       "    </tr>\n",
       "    <tr>\n",
       "      <th>...</th>\n",
       "      <td>...</td>\n",
       "      <td>...</td>\n",
       "    </tr>\n",
       "    <tr>\n",
       "      <th>95</th>\n",
       "      <td>2.431866</td>\n",
       "      <td>2.476850</td>\n",
       "    </tr>\n",
       "    <tr>\n",
       "      <th>96</th>\n",
       "      <td>2.929041</td>\n",
       "      <td>2.567358</td>\n",
       "    </tr>\n",
       "    <tr>\n",
       "      <th>97</th>\n",
       "      <td>2.052153</td>\n",
       "      <td>2.716897</td>\n",
       "    </tr>\n",
       "    <tr>\n",
       "      <th>98</th>\n",
       "      <td>2.774098</td>\n",
       "      <td>2.701328</td>\n",
       "    </tr>\n",
       "    <tr>\n",
       "      <th>99</th>\n",
       "      <td>2.301475</td>\n",
       "      <td>2.997884</td>\n",
       "    </tr>\n",
       "  </tbody>\n",
       "</table>\n",
       "<p>100 rows × 2 columns</p>\n",
       "</div>"
      ],
      "text/plain": [
       "           0         1\n",
       "0   0.097714  0.315092\n",
       "1   0.568678  0.791169\n",
       "2   0.508098  0.326052\n",
       "3   0.528409  0.931010\n",
       "4   0.657503  0.997247\n",
       "..       ...       ...\n",
       "95  2.431866  2.476850\n",
       "96  2.929041  2.567358\n",
       "97  2.052153  2.716897\n",
       "98  2.774098  2.701328\n",
       "99  2.301475  2.997884\n",
       "\n",
       "[100 rows x 2 columns]"
      ]
     },
     "execution_count": 5,
     "metadata": {},
     "output_type": "execute_result"
    }
   ],
   "source": [
    "Z"
   ]
  },
  {
   "cell_type": "code",
   "execution_count": 12,
   "id": "7a333caf",
   "metadata": {},
   "outputs": [
    {
     "data": {
      "image/png": "[encoded data removed]",
      "text/plain": [
       "<Figure size 600x400 with 1 Axes>"
      ]
     },
     "metadata": {},
     "output_type": "display_data"
    }
   ],
   "source": [
    "sns.scatterplot(Z[0], Z[1]);"
   ]
  },
  {
   "cell_type": "markdown",
   "id": "7a34b3f5",
   "metadata": {},
   "source": [
    "### Applying KMeans Clustering with 2-10 clusters"
   ]
  },
  {
   "cell_type": "code",
   "execution_count": 13,
   "id": "2d59f2ed",
   "metadata": {},
   "outputs": [
    {
     "name": "stdout",
     "output_type": "stream",
     "text": [
      "Silhouette Score(n=2): 0.8234993388435167\n",
      "Silhouette Score(n=3): 0.6100124971178905\n",
      "Silhouette Score(n=4): 0.4033075453176118\n",
      "Silhouette Score(n=5): 0.3936757696287278\n",
      "Silhouette Score(n=6): 0.38211852434530436\n",
      "Silhouette Score(n=7): 0.39622607561019174\n",
      "Silhouette Score(n=8): 0.40867320759653564\n",
      "Silhouette Score(n=9): 0.4094337553135558\n",
      "Silhouette Score(n=10): 0.4072787682835149\n"
     ]
    }
   ],
   "source": [
    "for i in range(2, 11):\n",
    "    km_model = KMeans(n_clusters=i)\n",
    "    km_model.fit(Z)\n",
    "    label = km_model.predict(Z)\n",
    "    print(f'Silhouette Score(n={i}): {silhouette_score(Z, label)}')"
   ]
  },
  {
   "cell_type": "code",
   "execution_count": 14,
   "id": "573be46d",
   "metadata": {},
   "outputs": [],
   "source": [
    "# We can say that the clusters are well apart from each other as the silhouette score is closer to 1.\n",
    "# For best silhoutte score, we should select n = 2"
   ]
  },
  {
   "cell_type": "code",
   "execution_count": 15,
   "id": "21405ea5",
   "metadata": {},
   "outputs": [],
   "source": [
    "km_model = KMeans(n_clusters=2)\n",
    "km_model.fit(Z)\n",
    "label = km_model.predict(Z)"
   ]
  },
  {
   "cell_type": "code",
   "execution_count": 17,
   "id": "bc5e2d0e",
   "metadata": {},
   "outputs": [
    {
     "data": {
      "image/png": "[encoded data removed]",
      "text/plain": [
       "<Figure size 600x400 with 1 Axes>"
      ]
     },
     "metadata": {},
     "output_type": "display_data"
    }
   ],
   "source": [
    "sns.scatterplot(Z[0],Z[1],hue=label);"
   ]
  },
  {
   "cell_type": "code",
   "execution_count": null,
   "id": "fc6e71d1",
   "metadata": {},
   "outputs": [],
   "source": []
  }
 ],
 "metadata": {
  "kernelspec": {
   "display_name": "Python 3 (ipykernel)",
   "language": "python",
   "name": "python3"
  },
  "language_info": {
   "codemirror_mode": {
    "name": "ipython",
    "version": 3
   },
   "file_extension": ".py",
   "mimetype": "text/x-python",
   "name": "python",
   "nbconvert_exporter": "python",
   "pygments_lexer": "ipython3",
   "version": "3.9.12"
  }
 },
 "nbformat": 4,
 "nbformat_minor": 5
}
