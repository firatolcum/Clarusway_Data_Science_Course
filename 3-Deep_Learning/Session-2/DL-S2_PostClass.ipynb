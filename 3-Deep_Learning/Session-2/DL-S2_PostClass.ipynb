{
 "cells": [
  {
   "cell_type": "markdown",
   "metadata": {},
   "source": [
    "# PostClass\n",
    "- Birçok deep learning kütüphanesi olmasına rağmen Tensorflow, PyTorch ve Keras çok meşhurdur.\n",
    "\n",
    "\n",
    "- Tensorflow'un arkasında google var. PyTorch'un arkasında facebook var. Biz Tensorflow kullanmayı tercih ediyoruz. Keras da Tensorflow üzerinde çalışan bir api. Tensorflow GPU'da da çalışma imkanı sağladığı için çok hızlı sonuç alınabilir. Ayrıca bir de TPU var. TPU, Tensor Processing Unit anlamına gelir. Tensor demek bir nevi array demektir ancak kullanımı daha avantajlıdır.\n",
    "\n",
    "\n",
    "- Tek bir sınıfa atama olacaksa final activation function olarak \"Softmax\" seçilir.\n",
    "\n",
    "\n",
    "- Birden fazla sınıfa atama olacaksa final activation function olarak \"Sigmoid\" seçilir.\n",
    "\n",
    "\n",
    "- Gradient Descent:\n",
    "    - **Epoch:** Fit aşamasında tanımlanır. Bütün datanın bir kere baştan sona işlenmesine  1 epoch denir.\n",
    "    - **Batch-size:** Datayı gruplara bölme durumu. Diyelim ki elimizde 1000 satırlık bir veri var. Batch-size = 100 olarak ayarlarsak 10 iterasyon olacaktır. Bu 10 iterasyon sonrası 1 epoch tamamlanır.\n",
    "  \n",
    "  \n",
    "- Step Size = Slope x Learning Rate (Learning Rate Default değeri: 0,001)\n",
    "\n",
    "\n",
    "- Gradient Descent Variants:\n",
    "    1. Batch(Vanilla) Gradient Descent:\n",
    "        - Bütün satırlar için errorları hesaplayıp ortalamasını alarak katsayıları update eder.\n",
    "    2. Stochastic Gradient Descent:\n",
    "        - Her bir satırdan elde edilen error'a göre katsayı update edilir.\n",
    "    3. Mini-Batch Gradient Descent:\n",
    "        - Her batch sonrası ortalama error'a göre katsayı elde edilir.\n",
    "        - Biz genelde uygulamada bunu tercih ediyoruz.\n",
    "        \n",
    "- Gradient Descent Optimizer:\n",
    "    - Genelde uygulamada en iyi performansı veren \"Adam\" ve \"RMSProp\" dur.\n",
    "    \n",
    " - Backpropagation:\n",
    "     - Deep Learning'in öğrenme algoritmasının ismidir.\n",
    "     - Arka planda Gradient Descent çalıştırarak geriye doğru tüm katsayıları ayarlar. Ağırlıkları ve eşikleri günceller.\n",
    "     - Backpropagation öğrenme aşamasında çalışır. Prediction aşamasında çalışmaz."
   ]
  },
  {
   "cell_type": "markdown",
   "metadata": {},
   "source": [
    "# Installing Tensorflow"
   ]
  },
  {
   "cell_type": "code",
   "execution_count": 1,
   "metadata": {},
   "outputs": [
    {
     "name": "stdout",
     "output_type": "stream",
     "text": [
      "Python 3.9.12\n"
     ]
    }
   ],
   "source": [
    "!python --version"
   ]
  },
  {
   "cell_type": "code",
   "execution_count": 2,
   "metadata": {},
   "outputs": [],
   "source": [
    "# pip install tensorflow"
   ]
  },
  {
   "cell_type": "code",
   "execution_count": 3,
   "metadata": {},
   "outputs": [
    {
     "data": {
      "text/plain": [
       "'2.10.0'"
      ]
     },
     "execution_count": 3,
     "metadata": {},
     "output_type": "execute_result"
    }
   ],
   "source": [
    "import tensorflow as tf\n",
    "tf.__version__"
   ]
  },
  {
   "cell_type": "markdown",
   "metadata": {},
   "source": [
    "# Keras Syntax Basics"
   ]
  },
  {
   "cell_type": "code",
   "execution_count": 4,
   "metadata": {},
   "outputs": [],
   "source": [
    "import numpy as np\n",
    "import pandas as pd\n",
    "import matplotlib.pyplot as plt\n",
    "import seaborn as sns\n",
    "\n",
    "import warnings\n",
    "warnings.filterwarnings(\"ignore\")\n",
    "warnings.warn(\"this will not show\")\n",
    "\n",
    "plt.rcParams[\"figure.figsize\"] = (10, 6)\n",
    "\n",
    "sns.set_style(\"whitegrid\")\n",
    "pd.set_option(\"display.float_format\", lambda x : \"%.3f\" % x)\n",
    "pd.set_option(\"display.max_columns\", None)"
   ]
  },
  {
   "cell_type": "code",
   "execution_count": 5,
   "metadata": {},
   "outputs": [],
   "source": [
    "df = pd.read_csv(\"fake_reg.csv\")"
   ]
  },
  {
   "cell_type": "markdown",
   "metadata": {},
   "source": [
    "## Exploratory Data Analysis and Visualization"
   ]
  },
  {
   "cell_type": "code",
   "execution_count": 6,
   "metadata": {},
   "outputs": [
    {
     "data": {
      "text/html": [
       "<div>\n",
       "<style scoped>\n",
       "    .dataframe tbody tr th:only-of-type {\n",
       "        vertical-align: middle;\n",
       "    }\n",
       "\n",
       "    .dataframe tbody tr th {\n",
       "        vertical-align: top;\n",
       "    }\n",
       "\n",
       "    .dataframe thead th {\n",
       "        text-align: right;\n",
       "    }\n",
       "</style>\n",
       "<table border=\"1\" class=\"dataframe\">\n",
       "  <thead>\n",
       "    <tr style=\"text-align: right;\">\n",
       "      <th></th>\n",
       "      <th>price</th>\n",
       "      <th>feature1</th>\n",
       "      <th>feature2</th>\n",
       "    </tr>\n",
       "  </thead>\n",
       "  <tbody>\n",
       "    <tr>\n",
       "      <th>0</th>\n",
       "      <td>461.528</td>\n",
       "      <td>999.788</td>\n",
       "      <td>999.766</td>\n",
       "    </tr>\n",
       "    <tr>\n",
       "      <th>1</th>\n",
       "      <td>548.130</td>\n",
       "      <td>998.862</td>\n",
       "      <td>1001.042</td>\n",
       "    </tr>\n",
       "    <tr>\n",
       "      <th>2</th>\n",
       "      <td>410.297</td>\n",
       "      <td>1000.070</td>\n",
       "      <td>998.844</td>\n",
       "    </tr>\n",
       "    <tr>\n",
       "      <th>3</th>\n",
       "      <td>540.382</td>\n",
       "      <td>999.952</td>\n",
       "      <td>1000.441</td>\n",
       "    </tr>\n",
       "    <tr>\n",
       "      <th>4</th>\n",
       "      <td>546.025</td>\n",
       "      <td>1000.446</td>\n",
       "      <td>1000.339</td>\n",
       "    </tr>\n",
       "  </tbody>\n",
       "</table>\n",
       "</div>"
      ],
      "text/plain": [
       "    price  feature1  feature2\n",
       "0 461.528   999.788   999.766\n",
       "1 548.130   998.862  1001.042\n",
       "2 410.297  1000.070   998.844\n",
       "3 540.382   999.952  1000.441\n",
       "4 546.025  1000.446  1000.339"
      ]
     },
     "execution_count": 6,
     "metadata": {},
     "output_type": "execute_result"
    }
   ],
   "source": [
    "df.head()"
   ]
  },
  {
   "cell_type": "code",
   "execution_count": 7,
   "metadata": {},
   "outputs": [
    {
     "name": "stdout",
     "output_type": "stream",
     "text": [
      "<class 'pandas.core.frame.DataFrame'>\n",
      "RangeIndex: 1000 entries, 0 to 999\n",
      "Data columns (total 3 columns):\n",
      " #   Column    Non-Null Count  Dtype  \n",
      "---  ------    --------------  -----  \n",
      " 0   price     1000 non-null   float64\n",
      " 1   feature1  1000 non-null   float64\n",
      " 2   feature2  1000 non-null   float64\n",
      "dtypes: float64(3)\n",
      "memory usage: 23.6 KB\n"
     ]
    }
   ],
   "source": [
    "df.info()"
   ]
  },
  {
   "cell_type": "code",
   "execution_count": 8,
   "metadata": {},
   "outputs": [
    {
     "data": {
      "text/html": [
       "<div>\n",
       "<style scoped>\n",
       "    .dataframe tbody tr th:only-of-type {\n",
       "        vertical-align: middle;\n",
       "    }\n",
       "\n",
       "    .dataframe tbody tr th {\n",
       "        vertical-align: top;\n",
       "    }\n",
       "\n",
       "    .dataframe thead th {\n",
       "        text-align: right;\n",
       "    }\n",
       "</style>\n",
       "<table border=\"1\" class=\"dataframe\">\n",
       "  <thead>\n",
       "    <tr style=\"text-align: right;\">\n",
       "      <th></th>\n",
       "      <th>price</th>\n",
       "      <th>feature1</th>\n",
       "      <th>feature2</th>\n",
       "    </tr>\n",
       "  </thead>\n",
       "  <tbody>\n",
       "    <tr>\n",
       "      <th>count</th>\n",
       "      <td>1000.000</td>\n",
       "      <td>1000.000</td>\n",
       "      <td>1000.000</td>\n",
       "    </tr>\n",
       "    <tr>\n",
       "      <th>mean</th>\n",
       "      <td>498.673</td>\n",
       "      <td>1000.014</td>\n",
       "      <td>999.980</td>\n",
       "    </tr>\n",
       "    <tr>\n",
       "      <th>std</th>\n",
       "      <td>93.785</td>\n",
       "      <td>0.974</td>\n",
       "      <td>0.948</td>\n",
       "    </tr>\n",
       "    <tr>\n",
       "      <th>min</th>\n",
       "      <td>223.347</td>\n",
       "      <td>997.058</td>\n",
       "      <td>996.996</td>\n",
       "    </tr>\n",
       "    <tr>\n",
       "      <th>25%</th>\n",
       "      <td>433.026</td>\n",
       "      <td>999.332</td>\n",
       "      <td>999.316</td>\n",
       "    </tr>\n",
       "    <tr>\n",
       "      <th>50%</th>\n",
       "      <td>502.382</td>\n",
       "      <td>1000.010</td>\n",
       "      <td>1000.002</td>\n",
       "    </tr>\n",
       "    <tr>\n",
       "      <th>75%</th>\n",
       "      <td>564.922</td>\n",
       "      <td>1000.638</td>\n",
       "      <td>1000.645</td>\n",
       "    </tr>\n",
       "    <tr>\n",
       "      <th>max</th>\n",
       "      <td>774.408</td>\n",
       "      <td>1003.208</td>\n",
       "      <td>1002.666</td>\n",
       "    </tr>\n",
       "  </tbody>\n",
       "</table>\n",
       "</div>"
      ],
      "text/plain": [
       "         price  feature1  feature2\n",
       "count 1000.000  1000.000  1000.000\n",
       "mean   498.673  1000.014   999.980\n",
       "std     93.785     0.974     0.948\n",
       "min    223.347   997.058   996.996\n",
       "25%    433.026   999.332   999.316\n",
       "50%    502.382  1000.010  1000.002\n",
       "75%    564.922  1000.638  1000.645\n",
       "max    774.408  1003.208  1002.666"
      ]
     },
     "execution_count": 8,
     "metadata": {},
     "output_type": "execute_result"
    }
   ],
   "source": [
    "df.describe()\n",
    "# Featureların min-max değerleri neredeyse aynı.\n",
    "# Scaling'e gerek yok gibi gözüküyor."
   ]
  },
  {
   "cell_type": "code",
   "execution_count": 9,
   "metadata": {},
   "outputs": [
    {
     "data": {
      "text/plain": [
       "<seaborn.axisgrid.PairGrid at 0x170a0a91910>"
      ]
     },
     "execution_count": 9,
     "metadata": {},
     "output_type": "execute_result"
    },
    {
     "data": {
      "image/png": "[encoded data removed]",
      "text/plain": [
       "<Figure size 750x750 with 12 Axes>"
      ]
     },
     "metadata": {},
     "output_type": "display_data"
    }
   ],
   "source": [
    "sns.pairplot(df)\n",
    "# Burada feature 2 ile price arasında  güçlü pozitif linear ilişki olduğu görülüyor.\n",
    "# Yine feature 1 ile price arasında da pozitif linear bir ilişki var.\n",
    "# Ancak feature1 ile feature2 arasında da hiç ilişki yok gözüküyor."
   ]
  },
  {
   "cell_type": "code",
   "execution_count": 10,
   "metadata": {},
   "outputs": [
    {
     "data": {
      "text/plain": [
       "<AxesSubplot:>"
      ]
     },
     "execution_count": 10,
     "metadata": {},
     "output_type": "execute_result"
    },
    {
     "data": {
      "image/png": "[encoded data removed]",
      "text/plain": [
       "<Figure size 1000x600 with 2 Axes>"
      ]
     },
     "metadata": {},
     "output_type": "display_data"
    }
   ],
   "source": [
    "sns.heatmap(df.corr(), annot=True)"
   ]
  },
  {
   "cell_type": "markdown",
   "metadata": {},
   "source": [
    "## Preprocessing of Data\n",
    "- Train | Test Split, Scalling"
   ]
  },
  {
   "cell_type": "code",
   "execution_count": 11,
   "metadata": {},
   "outputs": [],
   "source": [
    "from sklearn.model_selection import train_test_split"
   ]
  },
  {
   "cell_type": "code",
   "execution_count": 12,
   "metadata": {},
   "outputs": [],
   "source": [
    "X = df.drop(columns=\"price\")\n",
    "y = df[\"price\"]\n",
    "\n",
    "# Neural Network'leri kullanırken modeli array olarak beslememiz lazım. \n",
    "# Bunun için de X ve y değişkenlerinin sonuna \".values\" eklememiz gerekiyordu.\n",
    "# Ancak burada eklemedik çünkü biz modeli scale edeceğiz. Yukarıda değerler birbirine yakın çıkmasına rağmen niye scale ?\n",
    "    # Çünkü datayı MinMax scaler ile scale ederek (0-1) arasına getirince modellerimiz daha hızlı çalışıyor.\n",
    "    # Bu yüzden genel yaklaşım olarak X ve y' yi scale edeceğiz. Ancak etmesek de \".values\" ekleyerek array yapmalıyız."
   ]
  },
  {
   "cell_type": "code",
   "execution_count": 13,
   "metadata": {},
   "outputs": [
    {
     "data": {
      "text/html": [
       "<div>\n",
       "<style scoped>\n",
       "    .dataframe tbody tr th:only-of-type {\n",
       "        vertical-align: middle;\n",
       "    }\n",
       "\n",
       "    .dataframe tbody tr th {\n",
       "        vertical-align: top;\n",
       "    }\n",
       "\n",
       "    .dataframe thead th {\n",
       "        text-align: right;\n",
       "    }\n",
       "</style>\n",
       "<table border=\"1\" class=\"dataframe\">\n",
       "  <thead>\n",
       "    <tr style=\"text-align: right;\">\n",
       "      <th></th>\n",
       "      <th>feature1</th>\n",
       "      <th>feature2</th>\n",
       "    </tr>\n",
       "  </thead>\n",
       "  <tbody>\n",
       "    <tr>\n",
       "      <th>0</th>\n",
       "      <td>999.788</td>\n",
       "      <td>999.766</td>\n",
       "    </tr>\n",
       "    <tr>\n",
       "      <th>1</th>\n",
       "      <td>998.862</td>\n",
       "      <td>1001.042</td>\n",
       "    </tr>\n",
       "    <tr>\n",
       "      <th>2</th>\n",
       "      <td>1000.070</td>\n",
       "      <td>998.844</td>\n",
       "    </tr>\n",
       "    <tr>\n",
       "      <th>3</th>\n",
       "      <td>999.952</td>\n",
       "      <td>1000.441</td>\n",
       "    </tr>\n",
       "    <tr>\n",
       "      <th>4</th>\n",
       "      <td>1000.446</td>\n",
       "      <td>1000.339</td>\n",
       "    </tr>\n",
       "  </tbody>\n",
       "</table>\n",
       "</div>"
      ],
      "text/plain": [
       "   feature1  feature2\n",
       "0   999.788   999.766\n",
       "1   998.862  1001.042\n",
       "2  1000.070   998.844\n",
       "3   999.952  1000.441\n",
       "4  1000.446  1000.339"
      ]
     },
     "execution_count": 13,
     "metadata": {},
     "output_type": "execute_result"
    }
   ],
   "source": [
    "X.head()"
   ]
  },
  {
   "cell_type": "code",
   "execution_count": 14,
   "metadata": {},
   "outputs": [],
   "source": [
    "X_train, X_test, y_train, y_test = train_test_split(X, y , test_size = 0.3, random_state = 42)"
   ]
  },
  {
   "cell_type": "code",
   "execution_count": 15,
   "metadata": {},
   "outputs": [
    {
     "data": {
      "text/plain": [
       "(700, 2)"
      ]
     },
     "execution_count": 15,
     "metadata": {},
     "output_type": "execute_result"
    }
   ],
   "source": [
    "X_train.shape"
   ]
  },
  {
   "cell_type": "code",
   "execution_count": 16,
   "metadata": {},
   "outputs": [
    {
     "data": {
      "text/plain": [
       "(300, 2)"
      ]
     },
     "execution_count": 16,
     "metadata": {},
     "output_type": "execute_result"
    }
   ],
   "source": [
    "X_test.shape"
   ]
  },
  {
   "cell_type": "code",
   "execution_count": 17,
   "metadata": {},
   "outputs": [],
   "source": [
    "from sklearn.preprocessing import MinMaxScaler"
   ]
  },
  {
   "cell_type": "code",
   "execution_count": 18,
   "metadata": {},
   "outputs": [],
   "source": [
    "scaler = MinMaxScaler()"
   ]
  },
  {
   "cell_type": "code",
   "execution_count": 19,
   "metadata": {},
   "outputs": [],
   "source": [
    "X_train = scaler.fit_transform(X_train)\n",
    "X_test = scaler.transform(X_test)"
   ]
  },
  {
   "cell_type": "markdown",
   "metadata": {},
   "source": [
    "## Modelling"
   ]
  },
  {
   "cell_type": "code",
   "execution_count": 20,
   "metadata": {},
   "outputs": [],
   "source": [
    "import tensorflow as tf"
   ]
  },
  {
   "cell_type": "code",
   "execution_count": 21,
   "metadata": {},
   "outputs": [],
   "source": [
    "from tensorflow.keras.models import Sequential\n",
    "from tensorflow.keras.layers import Input, Dense, Activation"
   ]
  },
  {
   "cell_type": "code",
   "execution_count": 22,
   "metadata": {},
   "outputs": [
    {
     "data": {
      "text/plain": [
       "(700, 2)"
      ]
     },
     "execution_count": 22,
     "metadata": {},
     "output_type": "execute_result"
    }
   ],
   "source": [
    "X_train.shape"
   ]
  },
  {
   "cell_type": "code",
   "execution_count": 23,
   "metadata": {},
   "outputs": [],
   "source": [
    "# Burada modeli kurarken iki yaklaşım var. İkisini de göstereceğiz ancak biz 2. yaklaşımı tercih edeceğiz. a"
   ]
  },
  {
   "cell_type": "code",
   "execution_count": 24,
   "metadata": {},
   "outputs": [],
   "source": [
    "# First Approach to create model\n",
    "\n",
    "model = Sequential([\n",
    "    Input(shape = X_train.shape[1]),\n",
    "    Dense(units = 4, activation = \"relu\"),\n",
    "    Dense(units = 4, activation = \"relu\"),\n",
    "    Dense(units = 4, activation = \"relu\"),\n",
    "    Dense(units = 1)\n",
    "])"
   ]
  },
  {
   "cell_type": "code",
   "execution_count": 25,
   "metadata": {},
   "outputs": [],
   "source": [
    "# Second Approach to create model\n",
    "model = Sequential()\n",
    "#model.add(Input(shape = X_train.shape[1]))\n",
    "model.add(Dense(units = 4, activation = \"relu\", input_dim = X_train.shape[1]))\n",
    "model.add(Dense(units = 4, activation = \"relu\"))\n",
    "model.add(Dense(units = 4, activation = \"relu\"))\n",
    "model.add(Dense(units = 1))\n",
    "\n",
    "# Burada \"Dense\" kullanmak \"fully-connected layer\" anlamına gelmektedir.\n",
    "# Burada \"units\" olarak belirttiğimiz sayılar her bir layer için nöron sayılarını temsil etmektedir.\n",
    "# Burada ilk katmanda \"input_dim\" olarak datanın şeklini yani feature sayısını vermek zorundayız .\n",
    "    # Bunu da iki şekilde yapabiliriz. Ya ilk layer içine input_dim olarak ya da en başta Input olarak.\n",
    "# İlk katmanda aktivasyon fonksiyonu olmaz. Sadece datanın şekli tanıtılır.\n",
    "# Her layer'a farklı aktivasyon fonksiyonu koyulabilirdi ancak kolaylık olsun diye hepsini aynı(\"relu\") yaptık.\n",
    "# Son layerda bir aktivasyon fonksiyonu belirtmedik çünkü default değeri zaten \"linear\".\n",
    "    # Bize de linear lazım çünkü sonuçlar continous veriler olacak.\n",
    "# unity sayısını belirlemede bir bir kural yok. Elimizdeki data miktarına göre hidden layer ve unity sayısı değişebilir.\n",
    "    # Bizim 1000 satırlık verimiz var ve bunun 700'ünü train için kullanacağız.\n",
    "    # Dolayısıyla çok fazla sayıda layer'a ve units'e gerek yok."
   ]
  },
  {
   "cell_type": "code",
   "execution_count": 26,
   "metadata": {},
   "outputs": [
    {
     "name": "stdout",
     "output_type": "stream",
     "text": [
      "Model: \"sequential_1\"\n",
      "_________________________________________________________________\n",
      " Layer (type)                Output Shape              Param #   \n",
      "=================================================================\n",
      " dense_4 (Dense)             (None, 4)                 12        \n",
      "                                                                 \n",
      " dense_5 (Dense)             (None, 4)                 20        \n",
      "                                                                 \n",
      " dense_6 (Dense)             (None, 4)                 20        \n",
      "                                                                 \n",
      " dense_7 (Dense)             (None, 1)                 5         \n",
      "                                                                 \n",
      "=================================================================\n",
      "Total params: 57\n",
      "Trainable params: 57\n",
      "Non-trainable params: 0\n",
      "_________________________________________________________________\n"
     ]
    }
   ],
   "source": [
    "model.summary()\n",
    "\n",
    "# Burada output shape çıktısı ilk satırda (None, 4) olarak çıkmış. None Batch_sayısını, 4 ise nöron sayısını temsil ediyor.\n",
    "    # Giriş sayısı 2, Nöron sayısı 4, eşik değeri 4 olduğundan  2 * 4 + 4 = 12"
   ]
  },
  {
   "cell_type": "code",
   "execution_count": 27,
   "metadata": {},
   "outputs": [
    {
     "data": {
      "text/plain": [
       "[<tf.Variable 'dense_4/kernel:0' shape=(2, 4) dtype=float32, numpy=\n",
       " array([[ 0.24605012, -0.5773194 , -0.38345003, -0.85785556],\n",
       "        [ 0.22521591, -0.37742043,  0.3074627 ,  0.44552207]],\n",
       "       dtype=float32)>,\n",
       " <tf.Variable 'dense_4/bias:0' shape=(4,) dtype=float32, numpy=array([0., 0., 0., 0.], dtype=float32)>,\n",
       " <tf.Variable 'dense_5/kernel:0' shape=(4, 4) dtype=float32, numpy=\n",
       " array([[ 0.5515942 ,  0.2969709 ,  0.48552674,  0.28117877],\n",
       "        [-0.5783489 , -0.23472273,  0.58786684,  0.8038487 ],\n",
       "        [ 0.46238834,  0.77387196,  0.25144976, -0.03827745],\n",
       "        [-0.5268573 , -0.82336545, -0.09146166,  0.74250084]],\n",
       "       dtype=float32)>,\n",
       " <tf.Variable 'dense_5/bias:0' shape=(4,) dtype=float32, numpy=array([0., 0., 0., 0.], dtype=float32)>,\n",
       " <tf.Variable 'dense_6/kernel:0' shape=(4, 4) dtype=float32, numpy=\n",
       " array([[ 0.50223273,  0.55019945,  0.79603356,  0.6322436 ],\n",
       "        [-0.7718359 , -0.2686687 ,  0.53665775, -0.61868054],\n",
       "        [ 0.60428065,  0.78633577, -0.5904911 , -0.5538578 ],\n",
       "        [ 0.4898836 , -0.5786443 , -0.3049025 , -0.19024974]],\n",
       "       dtype=float32)>,\n",
       " <tf.Variable 'dense_6/bias:0' shape=(4,) dtype=float32, numpy=array([0., 0., 0., 0.], dtype=float32)>,\n",
       " <tf.Variable 'dense_7/kernel:0' shape=(4, 1) dtype=float32, numpy=\n",
       " array([[ 0.23558283],\n",
       "        [ 0.7324724 ],\n",
       "        [-0.86543953],\n",
       "        [-1.0541109 ]], dtype=float32)>,\n",
       " <tf.Variable 'dense_7/bias:0' shape=(1,) dtype=float32, numpy=array([0.], dtype=float32)>]"
      ]
     },
     "execution_count": 27,
     "metadata": {},
     "output_type": "execute_result"
    }
   ],
   "source": [
    "model.weights\n",
    "# Burada başlangıç parametrelerinin değerlerini görüyoruz. Başlangıçta eşikle genelde 0 oluyor."
   ]
  },
  {
   "cell_type": "markdown",
   "metadata": {},
   "source": [
    "### Choosing an optimizer and loss\n",
    "\n",
    "Keep in mind what kind of problem you are trying to solve:\n",
    "\n",
    "    # For a multi-class classification problem\n",
    "    model.compile(optimizer='rmsprop',\n",
    "                  loss='categorical_crossentropy',\n",
    "                  metrics=['accuracy'])\n",
    "\n",
    "    # For a binary classification problem\n",
    "    model.compile(optimizer='rmsprop',\n",
    "                  loss='binary_crossentropy',\n",
    "                  metrics=['accuracy'])\n",
    "\n",
    "    # For a mean squared error regression problem\n",
    "    model.compile(optimizer='rmsprop',\n",
    "                  loss='mse')"
   ]
  },
  {
   "cell_type": "code",
   "execution_count": 28,
   "metadata": {},
   "outputs": [],
   "source": [
    "# Modeli tanımladıktan sonraki aşamamız modeli compile etmek.\n",
    "model.compile(optimizer = \"rmsprop\", loss = \"mse\")\n",
    "# Burada optimizer yerine \"Adam\" da yazılabilirdi. \"Adam\" ve \"rmsprop\" en çok tercih edilen ikisi.\n",
    "# Burada loss = \"mse\" yazdık çünkü bir regresyon işlemi yaparken \"mse\" kullanmamız gerekiyor."
   ]
  },
  {
   "cell_type": "code",
   "execution_count": 29,
   "metadata": {
    "scrolled": true
   },
   "outputs": [
    {
     "ename": "NameError",
     "evalue": "name 'r' is not defined",
     "output_type": "error",
     "traceback": [
      "\u001b[1;31m---------------------------------------------------------------------------\u001b[0m",
      "\u001b[1;31mNameError\u001b[0m                                 Traceback (most recent call last)",
      "File \u001b[1;32m<timed eval>:1\u001b[0m, in \u001b[0;36m<module>\u001b[1;34m\u001b[0m\n",
      "\u001b[1;31mNameError\u001b[0m: name 'r' is not defined"
     ]
    },
    {
     "name": "stdout",
     "output_type": "stream",
     "text": [
      "Epoch 1/250\n",
      "22/22 [==============================] - 0s 1ms/step - loss: 256550.6094\n",
      "Epoch 2/250\n",
      "22/22 [==============================] - 0s 1ms/step - loss: 256363.3594\n",
      "Epoch 3/250\n",
      "22/22 [==============================] - 0s 905us/step - loss: 256172.5469\n",
      "Epoch 4/250\n",
      "22/22 [==============================] - 0s 762us/step - loss: 255952.6406\n",
      "Epoch 5/250\n",
      "22/22 [==============================] - 0s 791us/step - loss: 255697.2188\n",
      "Epoch 6/250\n",
      "22/22 [==============================] - 0s 857us/step - loss: 255406.9219\n",
      "Epoch 7/250\n",
      "22/22 [==============================] - 0s 714us/step - loss: 255078.5625\n",
      "Epoch 8/250\n",
      "22/22 [==============================] - 0s 857us/step - loss: 254711.2500\n",
      "Epoch 9/250\n",
      "22/22 [==============================] - 0s 762us/step - loss: 254302.8125\n",
      "Epoch 10/250\n",
      "22/22 [==============================] - 0s 762us/step - loss: 253848.2031\n",
      "Epoch 11/250\n",
      "22/22 [==============================] - 0s 762us/step - loss: 253347.2656\n",
      "Epoch 12/250\n",
      "22/22 [==============================] - 0s 714us/step - loss: 252794.4844\n",
      "Epoch 13/250\n",
      "22/22 [==============================] - 0s 810us/step - loss: 252191.9844\n",
      "Epoch 14/250\n",
      "22/22 [==============================] - 0s 810us/step - loss: 251533.1250\n",
      "Epoch 15/250\n",
      "22/22 [==============================] - 0s 762us/step - loss: 250815.7969\n",
      "Epoch 16/250\n",
      "22/22 [==============================] - 0s 762us/step - loss: 250035.2969\n",
      "Epoch 17/250\n",
      "22/22 [==============================] - 0s 762us/step - loss: 249180.3125\n",
      "Epoch 18/250\n",
      "22/22 [==============================] - 0s 762us/step - loss: 248251.4531\n",
      "Epoch 19/250\n",
      "22/22 [==============================] - 0s 714us/step - loss: 247237.0781\n",
      "Epoch 20/250\n",
      "22/22 [==============================] - 0s 714us/step - loss: 246134.1094\n",
      "Epoch 21/250\n",
      "22/22 [==============================] - 0s 762us/step - loss: 244940.8281\n",
      "Epoch 22/250\n",
      "22/22 [==============================] - 0s 762us/step - loss: 243653.6406\n",
      "Epoch 23/250\n",
      "22/22 [==============================] - 0s 809us/step - loss: 242261.1719\n",
      "Epoch 24/250\n",
      "22/22 [==============================] - 0s 857us/step - loss: 240769.5156\n",
      "Epoch 25/250\n",
      "22/22 [==============================] - 0s 762us/step - loss: 239162.8750\n",
      "Epoch 26/250\n",
      "22/22 [==============================] - 0s 762us/step - loss: 237442.4688\n",
      "Epoch 27/250\n",
      "22/22 [==============================] - 0s 714us/step - loss: 235598.1875\n",
      "Epoch 28/250\n",
      "22/22 [==============================] - 0s 714us/step - loss: 233598.9219\n",
      "Epoch 29/250\n",
      "22/22 [==============================] - 0s 762us/step - loss: 231472.1406\n",
      "Epoch 30/250\n",
      "22/22 [==============================] - 0s 810us/step - loss: 229172.7031\n",
      "Epoch 31/250\n",
      "22/22 [==============================] - 0s 762us/step - loss: 226725.0312\n",
      "Epoch 32/250\n",
      "22/22 [==============================] - 0s 762us/step - loss: 224131.1719\n",
      "Epoch 33/250\n",
      "22/22 [==============================] - 0s 714us/step - loss: 221364.4844\n",
      "Epoch 34/250\n",
      "22/22 [==============================] - 0s 762us/step - loss: 218421.5781\n",
      "Epoch 35/250\n",
      "22/22 [==============================] - 0s 762us/step - loss: 215318.1875\n",
      "Epoch 36/250\n",
      "22/22 [==============================] - 0s 762us/step - loss: 212015.0781\n",
      "Epoch 37/250\n",
      "22/22 [==============================] - 0s 762us/step - loss: 208546.8125\n",
      "Epoch 38/250\n",
      "22/22 [==============================] - 0s 810us/step - loss: 204876.9844\n",
      "Epoch 39/250\n",
      "22/22 [==============================] - 0s 762us/step - loss: 201018.7031\n",
      "Epoch 40/250\n",
      "22/22 [==============================] - 0s 776us/step - loss: 196964.3906\n",
      "Epoch 41/250\n",
      "22/22 [==============================] - 0s 809us/step - loss: 192735.9844\n",
      "Epoch 42/250\n",
      "22/22 [==============================] - 0s 762us/step - loss: 188290.8750\n",
      "Epoch 43/250\n",
      "22/22 [==============================] - 0s 744us/step - loss: 183652.0156\n",
      "Epoch 44/250\n",
      "22/22 [==============================] - 0s 714us/step - loss: 178821.6875\n",
      "Epoch 45/250\n",
      "22/22 [==============================] - 0s 714us/step - loss: 173805.0000\n",
      "Epoch 46/250\n",
      "22/22 [==============================] - 0s 715us/step - loss: 168586.3125\n",
      "Epoch 47/250\n",
      "22/22 [==============================] - 0s 762us/step - loss: 163197.0938\n",
      "Epoch 48/250\n",
      "22/22 [==============================] - 0s 762us/step - loss: 157585.0000\n",
      "Epoch 49/250\n",
      "22/22 [==============================] - 0s 714us/step - loss: 151832.9219\n",
      "Epoch 50/250\n",
      "22/22 [==============================] - 0s 714us/step - loss: 145921.3438\n",
      "Epoch 51/250\n",
      "22/22 [==============================] - 0s 762us/step - loss: 139815.5469\n",
      "Epoch 52/250\n",
      "22/22 [==============================] - 0s 762us/step - loss: 133581.5469\n",
      "Epoch 53/250\n",
      "22/22 [==============================] - 0s 762us/step - loss: 127167.5000\n",
      "Epoch 54/250\n",
      "22/22 [==============================] - 0s 762us/step - loss: 120654.9844\n",
      "Epoch 55/250\n",
      "22/22 [==============================] - 0s 762us/step - loss: 114026.5156\n",
      "Epoch 56/250\n",
      "22/22 [==============================] - 0s 762us/step - loss: 107318.0000\n",
      "Epoch 57/250\n",
      "22/22 [==============================] - 0s 762us/step - loss: 100468.5234\n",
      "Epoch 58/250\n",
      "22/22 [==============================] - 0s 715us/step - loss: 93630.1172\n",
      "Epoch 59/250\n",
      "22/22 [==============================] - 0s 714us/step - loss: 86777.1484\n",
      "Epoch 60/250\n",
      "22/22 [==============================] - 0s 762us/step - loss: 79926.6328\n",
      "Epoch 61/250\n",
      "22/22 [==============================] - 0s 714us/step - loss: 73092.2344\n",
      "Epoch 62/250\n",
      "22/22 [==============================] - 0s 762us/step - loss: 66292.7344\n",
      "Epoch 63/250\n",
      "22/22 [==============================] - 0s 810us/step - loss: 59600.0039\n",
      "Epoch 64/250\n",
      "22/22 [==============================] - 0s 762us/step - loss: 53013.6133\n",
      "Epoch 65/250\n",
      "22/22 [==============================] - 0s 762us/step - loss: 46651.3477\n",
      "Epoch 66/250\n",
      "22/22 [==============================] - 0s 715us/step - loss: 40486.4844\n",
      "Epoch 67/250\n",
      "22/22 [==============================] - 0s 762us/step - loss: 34572.1758\n",
      "Epoch 68/250\n",
      "22/22 [==============================] - 0s 762us/step - loss: 28971.0664\n",
      "Epoch 69/250\n",
      "22/22 [==============================] - 0s 714us/step - loss: 23773.8711\n",
      "Epoch 70/250\n",
      "22/22 [==============================] - 0s 803us/step - loss: 18955.5605\n",
      "Epoch 71/250\n",
      "22/22 [==============================] - 0s 810us/step - loss: 14647.4590\n",
      "Epoch 72/250\n",
      "22/22 [==============================] - 0s 714us/step - loss: 10894.9932\n",
      "Epoch 73/250\n",
      "22/22 [==============================] - 0s 762us/step - loss: 7698.3794\n",
      "Epoch 74/250\n",
      "22/22 [==============================] - 0s 762us/step - loss: 5180.9497\n",
      "Epoch 75/250\n",
      "22/22 [==============================] - 0s 809us/step - loss: 3352.7754\n",
      "Epoch 76/250\n",
      "22/22 [==============================] - 0s 762us/step - loss: 2243.1831\n",
      "Epoch 77/250\n",
      "22/22 [==============================] - 0s 762us/step - loss: 1755.3318\n",
      "Epoch 78/250\n",
      "22/22 [==============================] - 0s 714us/step - loss: 1625.4622\n",
      "Epoch 79/250\n",
      "22/22 [==============================] - 0s 762us/step - loss: 1590.8442\n",
      "Epoch 80/250\n",
      "22/22 [==============================] - 0s 762us/step - loss: 1555.4679\n",
      "Epoch 81/250\n",
      "22/22 [==============================] - 0s 762us/step - loss: 1519.7527\n",
      "Epoch 82/250\n",
      "22/22 [==============================] - 0s 810us/step - loss: 1485.4982\n",
      "Epoch 83/250\n",
      "22/22 [==============================] - 0s 762us/step - loss: 1451.6512\n",
      "Epoch 84/250\n",
      "22/22 [==============================] - 0s 809us/step - loss: 1416.3406\n",
      "Epoch 85/250\n",
      "22/22 [==============================] - 0s 714us/step - loss: 1386.6624\n",
      "Epoch 86/250\n",
      "22/22 [==============================] - 0s 714us/step - loss: 1352.6277\n",
      "Epoch 87/250\n",
      "22/22 [==============================] - 0s 762us/step - loss: 1320.9856\n",
      "Epoch 88/250\n",
      "22/22 [==============================] - 0s 714us/step - loss: 1288.0294\n",
      "Epoch 89/250\n",
      "22/22 [==============================] - 0s 810us/step - loss: 1260.6171\n",
      "Epoch 90/250\n",
      "22/22 [==============================] - 0s 715us/step - loss: 1231.6097\n",
      "Epoch 91/250\n",
      "22/22 [==============================] - 0s 2ms/step - loss: 1202.2245\n",
      "Epoch 92/250\n",
      "22/22 [==============================] - 0s 905us/step - loss: 1168.2308\n",
      "Epoch 93/250\n",
      "22/22 [==============================] - 0s 762us/step - loss: 1144.7671\n",
      "Epoch 94/250\n",
      "22/22 [==============================] - 0s 762us/step - loss: 1116.9498\n"
     ]
    },
    {
     "name": "stdout",
     "output_type": "stream",
     "text": [
      "Epoch 95/250\n",
      "22/22 [==============================] - 0s 809us/step - loss: 1081.6608\n",
      "Epoch 96/250\n",
      "22/22 [==============================] - 0s 714us/step - loss: 1056.7937\n",
      "Epoch 97/250\n",
      "22/22 [==============================] - 0s 762us/step - loss: 1024.3516\n",
      "Epoch 98/250\n",
      "22/22 [==============================] - 0s 762us/step - loss: 993.9888\n",
      "Epoch 99/250\n",
      "22/22 [==============================] - 0s 762us/step - loss: 962.7400\n",
      "Epoch 100/250\n",
      "22/22 [==============================] - 0s 762us/step - loss: 935.1256\n",
      "Epoch 101/250\n",
      "22/22 [==============================] - 0s 714us/step - loss: 902.4610\n",
      "Epoch 102/250\n",
      "22/22 [==============================] - 0s 714us/step - loss: 873.5925\n",
      "Epoch 103/250\n",
      "22/22 [==============================] - 0s 714us/step - loss: 844.2238\n",
      "Epoch 104/250\n",
      "22/22 [==============================] - 0s 762us/step - loss: 821.8586\n",
      "Epoch 105/250\n",
      "22/22 [==============================] - 0s 762us/step - loss: 798.3359\n",
      "Epoch 106/250\n",
      "22/22 [==============================] - 0s 762us/step - loss: 771.2031\n",
      "Epoch 107/250\n",
      "22/22 [==============================] - 0s 762us/step - loss: 748.1367\n",
      "Epoch 108/250\n",
      "22/22 [==============================] - 0s 761us/step - loss: 718.5139\n",
      "Epoch 109/250\n",
      "22/22 [==============================] - 0s 762us/step - loss: 702.4396\n",
      "Epoch 110/250\n",
      "22/22 [==============================] - 0s 761us/step - loss: 675.6295\n",
      "Epoch 111/250\n",
      "22/22 [==============================] - 0s 714us/step - loss: 647.3522\n",
      "Epoch 112/250\n",
      "22/22 [==============================] - 0s 762us/step - loss: 622.6656\n",
      "Epoch 113/250\n",
      "22/22 [==============================] - 0s 714us/step - loss: 599.9835\n",
      "Epoch 114/250\n",
      "22/22 [==============================] - 0s 762us/step - loss: 576.6898\n",
      "Epoch 115/250\n",
      "22/22 [==============================] - 0s 714us/step - loss: 555.4467\n",
      "Epoch 116/250\n",
      "22/22 [==============================] - 0s 715us/step - loss: 531.8143\n",
      "Epoch 117/250\n",
      "22/22 [==============================] - 0s 714us/step - loss: 511.4596\n",
      "Epoch 118/250\n",
      "22/22 [==============================] - 0s 714us/step - loss: 490.0821\n",
      "Epoch 119/250\n",
      "22/22 [==============================] - 0s 809us/step - loss: 467.2941\n",
      "Epoch 120/250\n",
      "22/22 [==============================] - 0s 762us/step - loss: 445.3753\n",
      "Epoch 121/250\n",
      "22/22 [==============================] - 0s 762us/step - loss: 427.0813\n",
      "Epoch 122/250\n",
      "22/22 [==============================] - 0s 762us/step - loss: 406.5214\n",
      "Epoch 123/250\n",
      "22/22 [==============================] - 0s 762us/step - loss: 389.0826\n",
      "Epoch 124/250\n",
      "22/22 [==============================] - 0s 762us/step - loss: 370.8823\n",
      "Epoch 125/250\n",
      "22/22 [==============================] - 0s 762us/step - loss: 353.8241\n",
      "Epoch 126/250\n",
      "22/22 [==============================] - 0s 762us/step - loss: 338.4694\n",
      "Epoch 127/250\n",
      "22/22 [==============================] - 0s 762us/step - loss: 319.8190\n",
      "Epoch 128/250\n",
      "22/22 [==============================] - 0s 714us/step - loss: 307.1267\n",
      "Epoch 129/250\n",
      "22/22 [==============================] - 0s 762us/step - loss: 293.1927\n",
      "Epoch 130/250\n",
      "22/22 [==============================] - 0s 762us/step - loss: 277.8850\n",
      "Epoch 131/250\n",
      "22/22 [==============================] - 0s 809us/step - loss: 263.4472\n",
      "Epoch 132/250\n",
      "22/22 [==============================] - 0s 810us/step - loss: 246.1636\n",
      "Epoch 133/250\n",
      "22/22 [==============================] - 0s 714us/step - loss: 233.3908\n",
      "Epoch 134/250\n",
      "22/22 [==============================] - 0s 762us/step - loss: 217.1045\n",
      "Epoch 135/250\n",
      "22/22 [==============================] - 0s 762us/step - loss: 203.5916\n",
      "Epoch 136/250\n",
      "22/22 [==============================] - 0s 715us/step - loss: 192.0794\n",
      "Epoch 137/250\n",
      "22/22 [==============================] - 0s 762us/step - loss: 180.1773\n",
      "Epoch 138/250\n",
      "22/22 [==============================] - 0s 714us/step - loss: 168.7910\n",
      "Epoch 139/250\n",
      "22/22 [==============================] - 0s 714us/step - loss: 157.5356\n",
      "Epoch 140/250\n",
      "22/22 [==============================] - 0s 714us/step - loss: 146.8962\n",
      "Epoch 141/250\n",
      "22/22 [==============================] - 0s 762us/step - loss: 136.4191\n",
      "Epoch 142/250\n",
      "22/22 [==============================] - 0s 762us/step - loss: 126.3112\n",
      "Epoch 143/250\n",
      "22/22 [==============================] - 0s 810us/step - loss: 117.4487\n",
      "Epoch 144/250\n",
      "22/22 [==============================] - 0s 762us/step - loss: 108.5502\n",
      "Epoch 145/250\n",
      "22/22 [==============================] - 0s 714us/step - loss: 100.4827\n",
      "Epoch 146/250\n",
      "22/22 [==============================] - 0s 714us/step - loss: 92.4466\n",
      "Epoch 147/250\n",
      "22/22 [==============================] - 0s 714us/step - loss: 85.3810\n",
      "Epoch 148/250\n",
      "22/22 [==============================] - 0s 762us/step - loss: 77.8045\n",
      "Epoch 149/250\n",
      "22/22 [==============================] - 0s 715us/step - loss: 71.8307\n",
      "Epoch 150/250\n",
      "22/22 [==============================] - 0s 762us/step - loss: 65.7487\n",
      "Epoch 151/250\n",
      "22/22 [==============================] - 0s 714us/step - loss: 60.0600\n",
      "Epoch 152/250\n",
      "22/22 [==============================] - 0s 762us/step - loss: 55.1243\n",
      "Epoch 153/250\n",
      "22/22 [==============================] - 0s 762us/step - loss: 51.2464\n",
      "Epoch 154/250\n",
      "22/22 [==============================] - 0s 810us/step - loss: 46.9201\n",
      "Epoch 155/250\n",
      "22/22 [==============================] - 0s 809us/step - loss: 43.5190\n",
      "Epoch 156/250\n",
      "22/22 [==============================] - 0s 762us/step - loss: 41.0476\n",
      "Epoch 157/250\n",
      "22/22 [==============================] - 0s 762us/step - loss: 37.8015\n",
      "Epoch 158/250\n",
      "22/22 [==============================] - 0s 762us/step - loss: 35.3979\n",
      "Epoch 159/250\n",
      "22/22 [==============================] - 0s 762us/step - loss: 34.0563\n",
      "Epoch 160/250\n",
      "22/22 [==============================] - 0s 762us/step - loss: 32.5772\n",
      "Epoch 161/250\n",
      "22/22 [==============================] - 0s 714us/step - loss: 31.0371\n",
      "Epoch 162/250\n",
      "22/22 [==============================] - 0s 762us/step - loss: 30.1023\n",
      "Epoch 163/250\n",
      "22/22 [==============================] - 0s 714us/step - loss: 29.0700\n",
      "Epoch 164/250\n",
      "22/22 [==============================] - 0s 714us/step - loss: 28.0636\n",
      "Epoch 165/250\n",
      "22/22 [==============================] - 0s 762us/step - loss: 26.9590\n",
      "Epoch 166/250\n",
      "22/22 [==============================] - 0s 762us/step - loss: 27.1923\n",
      "Epoch 167/250\n",
      "22/22 [==============================] - 0s 762us/step - loss: 26.0278\n",
      "Epoch 168/250\n",
      "22/22 [==============================] - 0s 762us/step - loss: 26.1088\n",
      "Epoch 169/250\n",
      "22/22 [==============================] - 0s 762us/step - loss: 25.6007\n",
      "Epoch 170/250\n",
      "22/22 [==============================] - 0s 762us/step - loss: 25.6393\n",
      "Epoch 171/250\n",
      "22/22 [==============================] - 0s 714us/step - loss: 25.5795\n",
      "Epoch 172/250\n",
      "22/22 [==============================] - 0s 762us/step - loss: 25.4098\n",
      "Epoch 173/250\n",
      "22/22 [==============================] - 0s 714us/step - loss: 24.8869\n",
      "Epoch 174/250\n",
      "22/22 [==============================] - 0s 762us/step - loss: 24.7333\n",
      "Epoch 175/250\n",
      "22/22 [==============================] - 0s 714us/step - loss: 24.7909\n",
      "Epoch 176/250\n",
      "22/22 [==============================] - 0s 715us/step - loss: 25.0072\n",
      "Epoch 177/250\n",
      "22/22 [==============================] - 0s 762us/step - loss: 24.7122\n",
      "Epoch 178/250\n",
      "22/22 [==============================] - 0s 762us/step - loss: 24.3174\n",
      "Epoch 179/250\n",
      "22/22 [==============================] - 0s 762us/step - loss: 24.9400\n",
      "Epoch 180/250\n",
      "22/22 [==============================] - 0s 762us/step - loss: 24.6983\n",
      "Epoch 181/250\n",
      "22/22 [==============================] - 0s 762us/step - loss: 24.5849\n",
      "Epoch 182/250\n",
      "22/22 [==============================] - 0s 762us/step - loss: 24.6049\n",
      "Epoch 183/250\n",
      "22/22 [==============================] - 0s 762us/step - loss: 24.7699\n",
      "Epoch 184/250\n",
      "22/22 [==============================] - 0s 714us/step - loss: 24.7690\n",
      "Epoch 185/250\n",
      "22/22 [==============================] - 0s 714us/step - loss: 24.4849\n",
      "Epoch 186/250\n",
      "22/22 [==============================] - 0s 667us/step - loss: 24.1483\n",
      "Epoch 187/250\n",
      "22/22 [==============================] - 0s 762us/step - loss: 24.1525\n",
      "Epoch 188/250\n",
      "22/22 [==============================] - 0s 762us/step - loss: 24.4942\n",
      "Epoch 189/250\n",
      "22/22 [==============================] - 0s 762us/step - loss: 24.1139\n",
      "Epoch 190/250\n"
     ]
    },
    {
     "name": "stdout",
     "output_type": "stream",
     "text": [
      "22/22 [==============================] - 0s 762us/step - loss: 24.9695\n",
      "Epoch 191/250\n",
      "22/22 [==============================] - 0s 809us/step - loss: 24.5761\n",
      "Epoch 192/250\n",
      "22/22 [==============================] - 0s 762us/step - loss: 24.2986\n",
      "Epoch 193/250\n",
      "22/22 [==============================] - 0s 762us/step - loss: 24.5842\n",
      "Epoch 194/250\n",
      "22/22 [==============================] - 0s 714us/step - loss: 24.5809\n",
      "Epoch 195/250\n",
      "22/22 [==============================] - 0s 762us/step - loss: 24.1701\n",
      "Epoch 196/250\n",
      "22/22 [==============================] - 0s 715us/step - loss: 24.1335\n",
      "Epoch 197/250\n",
      "22/22 [==============================] - 0s 762us/step - loss: 24.2806\n",
      "Epoch 198/250\n",
      "22/22 [==============================] - 0s 667us/step - loss: 24.5542\n",
      "Epoch 199/250\n",
      "22/22 [==============================] - 0s 762us/step - loss: 24.1059\n",
      "Epoch 200/250\n",
      "22/22 [==============================] - 0s 809us/step - loss: 24.6148\n",
      "Epoch 201/250\n",
      "22/22 [==============================] - 0s 809us/step - loss: 24.1593\n",
      "Epoch 202/250\n",
      "22/22 [==============================] - 0s 714us/step - loss: 24.5131\n",
      "Epoch 203/250\n",
      "22/22 [==============================] - 0s 762us/step - loss: 23.6658\n",
      "Epoch 204/250\n",
      "22/22 [==============================] - 0s 762us/step - loss: 24.5518\n",
      "Epoch 205/250\n",
      "22/22 [==============================] - 0s 762us/step - loss: 24.3262\n",
      "Epoch 206/250\n",
      "22/22 [==============================] - 0s 714us/step - loss: 24.4001\n",
      "Epoch 207/250\n",
      "22/22 [==============================] - 0s 762us/step - loss: 24.4546\n",
      "Epoch 208/250\n",
      "22/22 [==============================] - 0s 714us/step - loss: 24.2866\n",
      "Epoch 209/250\n",
      "22/22 [==============================] - 0s 762us/step - loss: 24.5272\n",
      "Epoch 210/250\n",
      "22/22 [==============================] - 0s 714us/step - loss: 24.3207\n",
      "Epoch 211/250\n",
      "22/22 [==============================] - 0s 762us/step - loss: 24.5951\n",
      "Epoch 212/250\n",
      "22/22 [==============================] - 0s 762us/step - loss: 23.9562\n",
      "Epoch 213/250\n",
      "22/22 [==============================] - 0s 762us/step - loss: 24.4960\n",
      "Epoch 214/250\n",
      "22/22 [==============================] - 0s 762us/step - loss: 24.1280\n",
      "Epoch 215/250\n",
      "22/22 [==============================] - 0s 715us/step - loss: 24.4931\n",
      "Epoch 216/250\n",
      "22/22 [==============================] - 0s 762us/step - loss: 24.4718\n",
      "Epoch 217/250\n",
      "22/22 [==============================] - 0s 762us/step - loss: 23.8721\n",
      "Epoch 218/250\n",
      "22/22 [==============================] - 0s 762us/step - loss: 24.4748\n",
      "Epoch 219/250\n",
      "22/22 [==============================] - 0s 714us/step - loss: 24.0449\n",
      "Epoch 220/250\n",
      "22/22 [==============================] - 0s 762us/step - loss: 24.0815\n",
      "Epoch 221/250\n",
      "22/22 [==============================] - 0s 714us/step - loss: 24.4468\n",
      "Epoch 222/250\n",
      "22/22 [==============================] - 0s 762us/step - loss: 24.2082\n",
      "Epoch 223/250\n",
      "22/22 [==============================] - 0s 762us/step - loss: 23.8498\n",
      "Epoch 224/250\n",
      "22/22 [==============================] - 0s 762us/step - loss: 24.1700\n",
      "Epoch 225/250\n",
      "22/22 [==============================] - 0s 762us/step - loss: 24.4755\n",
      "Epoch 226/250\n",
      "22/22 [==============================] - 0s 809us/step - loss: 24.3194\n",
      "Epoch 227/250\n",
      "22/22 [==============================] - 0s 762us/step - loss: 24.3576\n",
      "Epoch 228/250\n",
      "22/22 [==============================] - 0s 715us/step - loss: 24.3909\n",
      "Epoch 229/250\n",
      "22/22 [==============================] - 0s 714us/step - loss: 24.7101\n",
      "Epoch 230/250\n",
      "22/22 [==============================] - 0s 762us/step - loss: 24.3183\n",
      "Epoch 231/250\n",
      "22/22 [==============================] - 0s 715us/step - loss: 24.2113\n",
      "Epoch 232/250\n",
      "22/22 [==============================] - 0s 762us/step - loss: 24.1959\n",
      "Epoch 233/250\n",
      "22/22 [==============================] - 0s 762us/step - loss: 24.1490\n",
      "Epoch 234/250\n",
      "22/22 [==============================] - 0s 762us/step - loss: 24.7244\n",
      "Epoch 235/250\n",
      "22/22 [==============================] - 0s 762us/step - loss: 23.9814\n",
      "Epoch 236/250\n",
      "22/22 [==============================] - 0s 762us/step - loss: 24.6600\n",
      "Epoch 237/250\n",
      "22/22 [==============================] - 0s 714us/step - loss: 24.4945\n",
      "Epoch 238/250\n",
      "22/22 [==============================] - 0s 762us/step - loss: 24.7297\n",
      "Epoch 239/250\n",
      "22/22 [==============================] - 0s 762us/step - loss: 24.3272\n",
      "Epoch 240/250\n",
      "22/22 [==============================] - 0s 715us/step - loss: 24.2091\n",
      "Epoch 241/250\n",
      "22/22 [==============================] - 0s 762us/step - loss: 24.4526\n",
      "Epoch 242/250\n",
      "22/22 [==============================] - 0s 762us/step - loss: 24.2279\n",
      "Epoch 243/250\n",
      "22/22 [==============================] - 0s 762us/step - loss: 24.5814\n",
      "Epoch 244/250\n",
      "22/22 [==============================] - 0s 762us/step - loss: 24.2244\n",
      "Epoch 245/250\n",
      "22/22 [==============================] - 0s 810us/step - loss: 24.6919\n",
      "Epoch 246/250\n",
      "22/22 [==============================] - 0s 809us/step - loss: 24.2269\n",
      "Epoch 247/250\n",
      "22/22 [==============================] - 0s 715us/step - loss: 24.5800\n",
      "Epoch 248/250\n",
      "22/22 [==============================] - 0s 762us/step - loss: 23.9622\n",
      "Epoch 249/250\n",
      "22/22 [==============================] - 0s 762us/step - loss: 24.8038\n",
      "Epoch 250/250\n",
      "22/22 [==============================] - 0s 714us/step - loss: 24.5769\n"
     ]
    },
    {
     "data": {
      "text/plain": [
       "<keras.callbacks.History at 0x170a4cde190>"
      ]
     },
     "execution_count": 29,
     "metadata": {},
     "output_type": "execute_result"
    }
   ],
   "source": [
    "# Modeli compile ettikten sonra sıra modeli fit etmekte.\n",
    "model.fit(x = X_train, y = y_train, batch_size = 32, epochs = 250)\n",
    "\n",
    "# batch_size = 32 demek her bir batch'de 32 satır var demektir. Eğitim datamız 700 adet veriden oluşuyordu.\n",
    "    # 700 / 32 = 21 yapar ve 28 adet satır kalır bunu da bir sonraki batch'e yollar. Toplam 22 batch'imiz olur.\n",
    "    # Yani her epoch'da 22 iterasyon yapacak.\n",
    "# batch_size' ı belirlerken 2'nin katı olan bir sayı belirlemeniz önerilir.\n",
    "    \n",
    "# Burada \"early stop\" koymadığımız için 250 epoch'un tamamını yapacak.\n",
    "# Her bir iterasyonda loss değişiyor. Batch bitince ortalamasını alıp uyazdırıyor.\n",
    "\n",
    "# !! Notebook'u Sequentail() aşamasından itibaren birkaç defa baştan çalıştırarak local minimaya girip girmediğimizi\n",
    "    # kontrol edebiliriz.30 kere çalıştırmak öneriliyor.\n",
    "    # Burada herbir çalıştırmada bir öncekine göre iyi skor aldıkça modeli save etmeniz ve en iyi modele ulaşmanız tavsiye edlr.\n",
    "    "
   ]
  },
  {
   "cell_type": "code",
   "execution_count": 30,
   "metadata": {},
   "outputs": [
    {
     "data": {
      "text/plain": [
       "{'loss': [256550.609375,\n",
       "  256363.359375,\n",
       "  256172.546875,\n",
       "  255952.640625,\n",
       "  255697.21875,\n",
       "  255406.921875,\n",
       "  255078.5625,\n",
       "  254711.25,\n",
       "  254302.8125,\n",
       "  253848.203125,\n",
       "  253347.265625,\n",
       "  252794.484375,\n",
       "  252191.984375,\n",
       "  251533.125,\n",
       "  250815.796875,\n",
       "  250035.296875,\n",
       "  249180.3125,\n",
       "  248251.453125,\n",
       "  247237.078125,\n",
       "  246134.109375,\n",
       "  244940.828125,\n",
       "  243653.640625,\n",
       "  242261.171875,\n",
       "  240769.515625,\n",
       "  239162.875,\n",
       "  237442.46875,\n",
       "  235598.1875,\n",
       "  233598.921875,\n",
       "  231472.140625,\n",
       "  229172.703125,\n",
       "  226725.03125,\n",
       "  224131.171875,\n",
       "  221364.484375,\n",
       "  218421.578125,\n",
       "  215318.1875,\n",
       "  212015.078125,\n",
       "  208546.8125,\n",
       "  204876.984375,\n",
       "  201018.703125,\n",
       "  196964.390625,\n",
       "  192735.984375,\n",
       "  188290.875,\n",
       "  183652.015625,\n",
       "  178821.6875,\n",
       "  173805.0,\n",
       "  168586.3125,\n",
       "  163197.09375,\n",
       "  157585.0,\n",
       "  151832.921875,\n",
       "  145921.34375,\n",
       "  139815.546875,\n",
       "  133581.546875,\n",
       "  127167.5,\n",
       "  120654.984375,\n",
       "  114026.515625,\n",
       "  107318.0,\n",
       "  100468.5234375,\n",
       "  93630.1171875,\n",
       "  86777.1484375,\n",
       "  79926.6328125,\n",
       "  73092.234375,\n",
       "  66292.734375,\n",
       "  59600.00390625,\n",
       "  53013.61328125,\n",
       "  46651.34765625,\n",
       "  40486.484375,\n",
       "  34572.17578125,\n",
       "  28971.06640625,\n",
       "  23773.87109375,\n",
       "  18955.560546875,\n",
       "  14647.458984375,\n",
       "  10894.9931640625,\n",
       "  7698.37939453125,\n",
       "  5180.94970703125,\n",
       "  3352.775390625,\n",
       "  2243.18310546875,\n",
       "  1755.331787109375,\n",
       "  1625.462158203125,\n",
       "  1590.84423828125,\n",
       "  1555.4678955078125,\n",
       "  1519.752685546875,\n",
       "  1485.4981689453125,\n",
       "  1451.6512451171875,\n",
       "  1416.340576171875,\n",
       "  1386.662353515625,\n",
       "  1352.627685546875,\n",
       "  1320.985595703125,\n",
       "  1288.0294189453125,\n",
       "  1260.6170654296875,\n",
       "  1231.6097412109375,\n",
       "  1202.2244873046875,\n",
       "  1168.2308349609375,\n",
       "  1144.76708984375,\n",
       "  1116.9498291015625,\n",
       "  1081.6607666015625,\n",
       "  1056.793701171875,\n",
       "  1024.3515625,\n",
       "  993.98876953125,\n",
       "  962.739990234375,\n",
       "  935.1256103515625,\n",
       "  902.4609985351562,\n",
       "  873.592529296875,\n",
       "  844.2238159179688,\n",
       "  821.858642578125,\n",
       "  798.3358764648438,\n",
       "  771.203125,\n",
       "  748.13671875,\n",
       "  718.513916015625,\n",
       "  702.4396362304688,\n",
       "  675.6294555664062,\n",
       "  647.3521728515625,\n",
       "  622.6655883789062,\n",
       "  599.9834594726562,\n",
       "  576.6897583007812,\n",
       "  555.4466552734375,\n",
       "  531.8142700195312,\n",
       "  511.4595642089844,\n",
       "  490.08209228515625,\n",
       "  467.2940673828125,\n",
       "  445.37530517578125,\n",
       "  427.0813293457031,\n",
       "  406.5213928222656,\n",
       "  389.0826416015625,\n",
       "  370.88232421875,\n",
       "  353.8240966796875,\n",
       "  338.46942138671875,\n",
       "  319.8189697265625,\n",
       "  307.1267395019531,\n",
       "  293.19268798828125,\n",
       "  277.8849792480469,\n",
       "  263.4471740722656,\n",
       "  246.1636199951172,\n",
       "  233.39080810546875,\n",
       "  217.10450744628906,\n",
       "  203.59164428710938,\n",
       "  192.0793914794922,\n",
       "  180.17733764648438,\n",
       "  168.79103088378906,\n",
       "  157.53562927246094,\n",
       "  146.896240234375,\n",
       "  136.41912841796875,\n",
       "  126.3111572265625,\n",
       "  117.44873046875,\n",
       "  108.55023193359375,\n",
       "  100.48268127441406,\n",
       "  92.4466323852539,\n",
       "  85.3809814453125,\n",
       "  77.80450439453125,\n",
       "  71.83065032958984,\n",
       "  65.7486572265625,\n",
       "  60.060001373291016,\n",
       "  55.12430953979492,\n",
       "  51.24643325805664,\n",
       "  46.92014694213867,\n",
       "  43.51899337768555,\n",
       "  41.047607421875,\n",
       "  37.801490783691406,\n",
       "  35.39789581298828,\n",
       "  34.05634689331055,\n",
       "  32.57718276977539,\n",
       "  31.037078857421875,\n",
       "  30.10233497619629,\n",
       "  29.070003509521484,\n",
       "  28.06357765197754,\n",
       "  26.959003448486328,\n",
       "  27.192256927490234,\n",
       "  26.027812957763672,\n",
       "  26.108827590942383,\n",
       "  25.600749969482422,\n",
       "  25.639257431030273,\n",
       "  25.579456329345703,\n",
       "  25.409805297851562,\n",
       "  24.886898040771484,\n",
       "  24.73333168029785,\n",
       "  24.79085922241211,\n",
       "  25.007226943969727,\n",
       "  24.712154388427734,\n",
       "  24.317424774169922,\n",
       "  24.94001579284668,\n",
       "  24.698261260986328,\n",
       "  24.584854125976562,\n",
       "  24.604949951171875,\n",
       "  24.769947052001953,\n",
       "  24.769006729125977,\n",
       "  24.484865188598633,\n",
       "  24.148305892944336,\n",
       "  24.152542114257812,\n",
       "  24.49417495727539,\n",
       "  24.113889694213867,\n",
       "  24.969467163085938,\n",
       "  24.576082229614258,\n",
       "  24.29861831665039,\n",
       "  24.584163665771484,\n",
       "  24.58085060119629,\n",
       "  24.170133590698242,\n",
       "  24.133451461791992,\n",
       "  24.2806396484375,\n",
       "  24.554224014282227,\n",
       "  24.10589599609375,\n",
       "  24.614835739135742,\n",
       "  24.15929412841797,\n",
       "  24.513057708740234,\n",
       "  23.665836334228516,\n",
       "  24.551822662353516,\n",
       "  24.32622528076172,\n",
       "  24.40010643005371,\n",
       "  24.45464324951172,\n",
       "  24.28662109375,\n",
       "  24.527170181274414,\n",
       "  24.32065773010254,\n",
       "  24.5950927734375,\n",
       "  23.956218719482422,\n",
       "  24.496002197265625,\n",
       "  24.12797737121582,\n",
       "  24.493104934692383,\n",
       "  24.471817016601562,\n",
       "  23.87210464477539,\n",
       "  24.474824905395508,\n",
       "  24.044897079467773,\n",
       "  24.081514358520508,\n",
       "  24.44677734375,\n",
       "  24.20819664001465,\n",
       "  23.849821090698242,\n",
       "  24.17002296447754,\n",
       "  24.47553825378418,\n",
       "  24.319364547729492,\n",
       "  24.35758399963379,\n",
       "  24.390939712524414,\n",
       "  24.710119247436523,\n",
       "  24.318347930908203,\n",
       "  24.211318969726562,\n",
       "  24.19594955444336,\n",
       "  24.148962020874023,\n",
       "  24.724441528320312,\n",
       "  23.981386184692383,\n",
       "  24.6600284576416,\n",
       "  24.494464874267578,\n",
       "  24.729726791381836,\n",
       "  24.327219009399414,\n",
       "  24.209062576293945,\n",
       "  24.4526424407959,\n",
       "  24.227893829345703,\n",
       "  24.581384658813477,\n",
       "  24.22443389892578,\n",
       "  24.691865921020508,\n",
       "  24.22694969177246,\n",
       "  24.579986572265625,\n",
       "  23.962223052978516,\n",
       "  24.80382537841797,\n",
       "  24.57694435119629]}"
      ]
     },
     "execution_count": 30,
     "metadata": {},
     "output_type": "execute_result"
    }
   ],
   "source": [
    "model.history.history\n",
    "# Burada modelin history'sine baktığımızda her bir epoch'daki loss'ları görüyoruz. \n",
    "# \"mse\" kullandığımız için sayılar büyük çıkıyor."
   ]
  },
  {
   "cell_type": "code",
   "execution_count": 31,
   "metadata": {},
   "outputs": [
    {
     "data": {
      "text/html": [
       "<div>\n",
       "<style scoped>\n",
       "    .dataframe tbody tr th:only-of-type {\n",
       "        vertical-align: middle;\n",
       "    }\n",
       "\n",
       "    .dataframe tbody tr th {\n",
       "        vertical-align: top;\n",
       "    }\n",
       "\n",
       "    .dataframe thead th {\n",
       "        text-align: right;\n",
       "    }\n",
       "</style>\n",
       "<table border=\"1\" class=\"dataframe\">\n",
       "  <thead>\n",
       "    <tr style=\"text-align: right;\">\n",
       "      <th></th>\n",
       "      <th>loss</th>\n",
       "    </tr>\n",
       "  </thead>\n",
       "  <tbody>\n",
       "    <tr>\n",
       "      <th>0</th>\n",
       "      <td>256550.609</td>\n",
       "    </tr>\n",
       "    <tr>\n",
       "      <th>1</th>\n",
       "      <td>256363.359</td>\n",
       "    </tr>\n",
       "    <tr>\n",
       "      <th>2</th>\n",
       "      <td>256172.547</td>\n",
       "    </tr>\n",
       "    <tr>\n",
       "      <th>3</th>\n",
       "      <td>255952.641</td>\n",
       "    </tr>\n",
       "    <tr>\n",
       "      <th>4</th>\n",
       "      <td>255697.219</td>\n",
       "    </tr>\n",
       "    <tr>\n",
       "      <th>...</th>\n",
       "      <td>...</td>\n",
       "    </tr>\n",
       "    <tr>\n",
       "      <th>245</th>\n",
       "      <td>24.227</td>\n",
       "    </tr>\n",
       "    <tr>\n",
       "      <th>246</th>\n",
       "      <td>24.580</td>\n",
       "    </tr>\n",
       "    <tr>\n",
       "      <th>247</th>\n",
       "      <td>23.962</td>\n",
       "    </tr>\n",
       "    <tr>\n",
       "      <th>248</th>\n",
       "      <td>24.804</td>\n",
       "    </tr>\n",
       "    <tr>\n",
       "      <th>249</th>\n",
       "      <td>24.577</td>\n",
       "    </tr>\n",
       "  </tbody>\n",
       "</table>\n",
       "<p>250 rows × 1 columns</p>\n",
       "</div>"
      ],
      "text/plain": [
       "          loss\n",
       "0   256550.609\n",
       "1   256363.359\n",
       "2   256172.547\n",
       "3   255952.641\n",
       "4   255697.219\n",
       "..         ...\n",
       "245     24.227\n",
       "246     24.580\n",
       "247     23.962\n",
       "248     24.804\n",
       "249     24.577\n",
       "\n",
       "[250 rows x 1 columns]"
      ]
     },
     "execution_count": 31,
     "metadata": {},
     "output_type": "execute_result"
    }
   ],
   "source": [
    "pd.DataFrame(model.history.history)"
   ]
  },
  {
   "cell_type": "code",
   "execution_count": 33,
   "metadata": {},
   "outputs": [
    {
     "data": {
      "image/png": "[encoded data removed]",
      "text/plain": [
       "<Figure size 1000x600 with 1 Axes>"
      ]
     },
     "metadata": {},
     "output_type": "display_data"
    }
   ],
   "source": [
    "loss_df = pd.DataFrame(model.history.history)\n",
    "loss_df.plot();\n",
    "# Burada ilk bakışta sanki 75 epoch'tan sonra hiçbir iyileşme olmuyor gibi gözüküyor ancak yakından baksak daha iyi."
   ]
  },
  {
   "cell_type": "code",
   "execution_count": 36,
   "metadata": {},
   "outputs": [
    {
     "data": {
      "image/png": "[encoded data removed]",
      "text/plain": [
       "<Figure size 1000x600 with 1 Axes>"
      ]
     },
     "metadata": {},
     "output_type": "display_data"
    }
   ],
   "source": [
    "fig, ax = plt.subplots()\n",
    "ax.plot(loss_df)\n",
    "ax.set_xlabel(\"Epoch\")\n",
    "ax.set_ylabel(\"Loss\")\n",
    "ax.set_title(\"Loss - Epoch Graph\")\n",
    "ax.set_xlim([0, 250])\n",
    "ax.set_ylim([0, 3000]);\n",
    "\n",
    "# Yakından bakınca aslında 160 epoch'a kadar bir iyileşme olduğunu görüyoruz.\n",
    "# Eğer early stop tanımlasaydık bu epoch sayısında kendi kendine durabilirdi. 250 taneyi beklemeye gerek kalmazdı."
   ]
  },
  {
   "cell_type": "markdown",
   "metadata": {},
   "source": [
    "## Model Performance"
   ]
  },
  {
   "cell_type": "code",
   "execution_count": 37,
   "metadata": {},
   "outputs": [],
   "source": [
    "from sklearn.metrics import mean_squared_error, mean_absolute_error, r2_score"
   ]
  },
  {
   "cell_type": "code",
   "execution_count": 40,
   "metadata": {},
   "outputs": [
    {
     "data": {
      "text/plain": [
       "23.73802947998047"
      ]
     },
     "execution_count": 40,
     "metadata": {},
     "output_type": "execute_result"
    }
   ],
   "source": [
    "model.evaluate(X_train, y_train, verbose = 0)\n",
    "# Burada modelin train datası için en son elde ettiği \"mse\" skorunu görüyoruz. Gayet düşük ve iyi bir sayı..."
   ]
  },
  {
   "cell_type": "code",
   "execution_count": 42,
   "metadata": {},
   "outputs": [
    {
     "data": {
      "text/plain": [
       "25.047748565673828"
      ]
     },
     "execution_count": 42,
     "metadata": {},
     "output_type": "execute_result"
    }
   ],
   "source": [
    "model.evaluate(X_test, y_test, verbose = 0)\n",
    "# # Burada da test datasındaki \"mse\" skore'unu görüyoruz."
   ]
  },
  {
   "cell_type": "code",
   "execution_count": 43,
   "metadata": {},
   "outputs": [
    {
     "name": "stdout",
     "output_type": "stream",
     "text": [
      "10/10 [==============================] - 0s 2ms/step\n"
     ]
    },
    {
     "data": {
      "text/plain": [
       "(300, 1)"
      ]
     },
     "execution_count": 43,
     "metadata": {},
     "output_type": "execute_result"
    }
   ],
   "source": [
    "y_pred = model.predict(X_test)\n",
    "y_pred.shape"
   ]
  },
  {
   "cell_type": "code",
   "execution_count": 44,
   "metadata": {},
   "outputs": [
    {
     "data": {
      "text/plain": [
       "(300,)"
      ]
     },
     "execution_count": 44,
     "metadata": {},
     "output_type": "execute_result"
    }
   ],
   "source": [
    "y_test.shape"
   ]
  },
  {
   "cell_type": "code",
   "execution_count": 52,
   "metadata": {},
   "outputs": [
    {
     "data": {
      "text/plain": [
       "(300,)"
      ]
     },
     "execution_count": 52,
     "metadata": {},
     "output_type": "execute_result"
    }
   ],
   "source": [
    "y_pred.reshape(-1).shape"
   ]
  },
  {
   "cell_type": "code",
   "execution_count": 54,
   "metadata": {},
   "outputs": [
    {
     "data": {
      "text/html": [
       "<div>\n",
       "<style scoped>\n",
       "    .dataframe tbody tr th:only-of-type {\n",
       "        vertical-align: middle;\n",
       "    }\n",
       "\n",
       "    .dataframe tbody tr th {\n",
       "        vertical-align: top;\n",
       "    }\n",
       "\n",
       "    .dataframe thead th {\n",
       "        text-align: right;\n",
       "    }\n",
       "</style>\n",
       "<table border=\"1\" class=\"dataframe\">\n",
       "  <thead>\n",
       "    <tr style=\"text-align: right;\">\n",
       "      <th></th>\n",
       "      <th>Actual</th>\n",
       "      <th>Pred</th>\n",
       "    </tr>\n",
       "  </thead>\n",
       "  <tbody>\n",
       "    <tr>\n",
       "      <th>2</th>\n",
       "      <td>410.297</td>\n",
       "      <td>400.279</td>\n",
       "    </tr>\n",
       "    <tr>\n",
       "      <th>494</th>\n",
       "      <td>547.073</td>\n",
       "      <td>542.243</td>\n",
       "    </tr>\n",
       "    <tr>\n",
       "      <th>33</th>\n",
       "      <td>448.430</td>\n",
       "      <td>460.337</td>\n",
       "    </tr>\n",
       "    <tr>\n",
       "      <th>977</th>\n",
       "      <td>480.877</td>\n",
       "      <td>474.432</td>\n",
       "    </tr>\n",
       "    <tr>\n",
       "      <th>449</th>\n",
       "      <td>383.934</td>\n",
       "      <td>388.254</td>\n",
       "    </tr>\n",
       "    <tr>\n",
       "      <th>527</th>\n",
       "      <td>379.110</td>\n",
       "      <td>378.857</td>\n",
       "    </tr>\n",
       "    <tr>\n",
       "      <th>439</th>\n",
       "      <td>316.951</td>\n",
       "      <td>318.643</td>\n",
       "    </tr>\n",
       "    <tr>\n",
       "      <th>975</th>\n",
       "      <td>447.053</td>\n",
       "      <td>446.095</td>\n",
       "    </tr>\n",
       "    <tr>\n",
       "      <th>985</th>\n",
       "      <td>515.325</td>\n",
       "      <td>524.645</td>\n",
       "    </tr>\n",
       "    <tr>\n",
       "      <th>314</th>\n",
       "      <td>504.431</td>\n",
       "      <td>504.317</td>\n",
       "    </tr>\n",
       "  </tbody>\n",
       "</table>\n",
       "</div>"
      ],
      "text/plain": [
       "     Actual    Pred\n",
       "2   410.297 400.279\n",
       "494 547.073 542.243\n",
       "33  448.430 460.337\n",
       "977 480.877 474.432\n",
       "449 383.934 388.254\n",
       "527 379.110 378.857\n",
       "439 316.951 318.643\n",
       "975 447.053 446.095\n",
       "985 515.325 524.645\n",
       "314 504.431 504.317"
      ]
     },
     "execution_count": 54,
     "metadata": {},
     "output_type": "execute_result"
    }
   ],
   "source": [
    "my_dict = {\"Actual\" : y_test, \"Pred\" : y_pred.reshape(-1,)}\n",
    "compare = pd.DataFrame(my_dict)\n",
    "compare.sample(10)"
   ]
  },
  {
   "cell_type": "code",
   "execution_count": 55,
   "metadata": {},
   "outputs": [
    {
     "data": {
      "image/png": "[encoded data removed]",
      "text/plain": [
       "<Figure size 1000x600 with 1 Axes>"
      ]
     },
     "metadata": {},
     "output_type": "display_data"
    }
   ],
   "source": [
    "sns.scatterplot(x = \"Actual\", y= \"Pred\", data = compare);"
   ]
  },
  {
   "cell_type": "code",
   "execution_count": 61,
   "metadata": {},
   "outputs": [],
   "source": [
    "def eval_metric(actual, pred):\n",
    "    mae = mean_absolute_error(actual, pred)\n",
    "    mse = mean_squared_error(actual, pred)\n",
    "    rmse = np.sqrt(mse)\n",
    "    score = r2_score(actual, pred)\n",
    "    return print(\"r2_score: \", score, \"\\nmae: \", mae, \"\\nmse: \", mse, \"\\nrmse: \", rmse)"
   ]
  },
  {
   "cell_type": "code",
   "execution_count": 62,
   "metadata": {},
   "outputs": [
    {
     "name": "stdout",
     "output_type": "stream",
     "text": [
      "r2_score:  0.99715108494169 \n",
      "mae:  4.0104271623698216 \n",
      "mse:  25.04775140473242 \n",
      "rmse:  5.004772862451643\n"
     ]
    }
   ],
   "source": [
    "eval_metric(y_test, y_pred)"
   ]
  },
  {
   "cell_type": "markdown",
   "metadata": {},
   "source": [
    "## Final Model and Model Deployment"
   ]
  },
  {
   "cell_type": "markdown",
   "metadata": {},
   "source": [
    "### Final Model Training"
   ]
  },
  {
   "cell_type": "code",
   "execution_count": 64,
   "metadata": {},
   "outputs": [],
   "source": [
    "scaler = MinMaxScaler().fit(X)"
   ]
  },
  {
   "cell_type": "code",
   "execution_count": 66,
   "metadata": {},
   "outputs": [],
   "source": [
    "import pickle\n",
    "pickle.dump(scaler, open(\"scaler_fake_reg.pkl\", \"wb\"))"
   ]
  },
  {
   "cell_type": "code",
   "execution_count": 67,
   "metadata": {},
   "outputs": [],
   "source": [
    "X_scaled = scaler.transform(X)"
   ]
  },
  {
   "cell_type": "code",
   "execution_count": 69,
   "metadata": {},
   "outputs": [
    {
     "name": "stdout",
     "output_type": "stream",
     "text": [
      "Epoch 1/250\n",
      "32/32 [==============================] - 0s 1ms/step - loss: 257156.7188\n",
      "Epoch 2/250\n",
      "32/32 [==============================] - 0s 851us/step - loss: 256786.7031\n",
      "Epoch 3/250\n",
      "32/32 [==============================] - 0s 463us/step - loss: 256340.1094\n",
      "Epoch 4/250\n",
      "32/32 [==============================] - 0s 594us/step - loss: 255803.3281\n",
      "Epoch 5/250\n",
      "32/32 [==============================] - 0s 1ms/step - loss: 255161.1094\n",
      "Epoch 6/250\n",
      "32/32 [==============================] - 0s 787us/step - loss: 254398.8750\n",
      "Epoch 7/250\n",
      "32/32 [==============================] - 0s 1ms/step - loss: 253514.3438\n",
      "Epoch 8/250\n",
      "32/32 [==============================] - 0s 584us/step - loss: 252489.3438\n",
      "Epoch 9/250\n",
      "32/32 [==============================] - 0s 1ms/step - loss: 251310.7031\n",
      "Epoch 10/250\n",
      "32/32 [==============================] - 0s 483us/step - loss: 249972.5938\n",
      "Epoch 11/250\n",
      "32/32 [==============================] - 0s 1ms/step - loss: 248464.1719\n",
      "Epoch 12/250\n",
      "32/32 [==============================] - 0s 447us/step - loss: 246771.3281\n",
      "Epoch 13/250\n",
      "32/32 [==============================] - 0s 662us/step - loss: 244880.7500\n",
      "Epoch 14/250\n",
      "32/32 [==============================] - 0s 984us/step - loss: 242749.6875\n",
      "Epoch 15/250\n",
      "32/32 [==============================] - 0s 552us/step - loss: 240357.5938\n",
      "Epoch 16/250\n",
      "32/32 [==============================] - 0s 1ms/step - loss: 237682.7656\n",
      "Epoch 17/250\n",
      "32/32 [==============================] - 0s 881us/step - loss: 234708.8750\n",
      "Epoch 18/250\n",
      "32/32 [==============================] - 0s 548us/step - loss: 231424.9531\n",
      "Epoch 19/250\n",
      "32/32 [==============================] - 0s 1ms/step - loss: 227808.5469\n",
      "Epoch 20/250\n",
      "32/32 [==============================] - 0s 491us/step - loss: 223844.4375\n",
      "Epoch 21/250\n",
      "32/32 [==============================] - 0s 1ms/step - loss: 219487.2500\n",
      "Epoch 22/250\n",
      "32/32 [==============================] - 0s 522us/step - loss: 214750.2188\n",
      "Epoch 23/250\n",
      "32/32 [==============================] - 0s 591us/step - loss: 209646.1562\n",
      "Epoch 24/250\n",
      "32/32 [==============================] - 0s 1ms/step - loss: 204115.6875\n",
      "Epoch 25/250\n",
      "32/32 [==============================] - 0s 877us/step - loss: 198177.1562\n",
      "Epoch 26/250\n",
      "32/32 [==============================] - 0s 552us/step - loss: 191825.0938\n",
      "Epoch 27/250\n",
      "32/32 [==============================] - 0s 589us/step - loss: 185044.5781\n",
      "Epoch 28/250\n",
      "32/32 [==============================] - 0s 1ms/step - loss: 177847.8594\n",
      "Epoch 29/250\n",
      "32/32 [==============================] - 0s 1ms/step - loss: 170269.9531\n",
      "Epoch 30/250\n",
      "32/32 [==============================] - 0s 918us/step - loss: 162259.7812\n",
      "Epoch 31/250\n",
      "32/32 [==============================] - 0s 545us/step - loss: 153859.3906\n",
      "Epoch 32/250\n",
      "32/32 [==============================] - 0s 656us/step - loss: 145125.6250\n",
      "Epoch 33/250\n",
      "32/32 [==============================] - 0s 1ms/step - loss: 135997.6250\n",
      "Epoch 34/250\n",
      "32/32 [==============================] - 0s 501us/step - loss: 126585.9453\n",
      "Epoch 35/250\n",
      "32/32 [==============================] - 0s 593us/step - loss: 116839.1875\n",
      "Epoch 36/250\n",
      "32/32 [==============================] - 0s 1ms/step - loss: 106746.3203\n",
      "Epoch 37/250\n",
      "32/32 [==============================] - 0s 979us/step - loss: 96598.0312\n",
      "Epoch 38/250\n",
      "32/32 [==============================] - 0s 522us/step - loss: 86306.2891\n",
      "Epoch 39/250\n",
      "32/32 [==============================] - 0s 1ms/step - loss: 76012.8125\n",
      "Epoch 40/250\n",
      "32/32 [==============================] - 0s 553us/step - loss: 65729.4844\n",
      "Epoch 41/250\n",
      "32/32 [==============================] - 0s 655us/step - loss: 55710.8711\n",
      "Epoch 42/250\n",
      "32/32 [==============================] - 0s 1ms/step - loss: 46014.4766\n",
      "Epoch 43/250\n",
      "32/32 [==============================] - 0s 666us/step - loss: 36878.6484\n",
      "Epoch 44/250\n",
      "32/32 [==============================] - 0s 660us/step - loss: 28397.4160\n",
      "Epoch 45/250\n",
      "32/32 [==============================] - 0s 986us/step - loss: 20840.3770\n",
      "Epoch 46/250\n",
      "32/32 [==============================] - 0s 558us/step - loss: 14231.1250\n",
      "Epoch 47/250\n",
      "32/32 [==============================] - 0s 1ms/step - loss: 9012.7402\n",
      "Epoch 48/250\n",
      "32/32 [==============================] - 0s 449us/step - loss: 5228.0747\n",
      "Epoch 49/250\n",
      "32/32 [==============================] - 0s 684us/step - loss: 3047.7683\n",
      "Epoch 50/250\n",
      "32/32 [==============================] - 0s 961us/step - loss: 2308.9382\n",
      "Epoch 51/250\n",
      "32/32 [==============================] - 0s 516us/step - loss: 2217.5798\n",
      "Epoch 52/250\n",
      "32/32 [==============================] - 0s 1ms/step - loss: 2162.8835\n",
      "Epoch 53/250\n",
      "32/32 [==============================] - 0s 611us/step - loss: 2114.1812\n",
      "Epoch 54/250\n",
      "32/32 [==============================] - 0s 616us/step - loss: 2059.9604\n",
      "Epoch 55/250\n",
      "32/32 [==============================] - 0s 1ms/step - loss: 2008.8859\n",
      "Epoch 56/250\n",
      "32/32 [==============================] - 0s 595us/step - loss: 1958.6812\n",
      "Epoch 57/250\n",
      "32/32 [==============================] - 0s 720us/step - loss: 1910.9539\n",
      "Epoch 58/250\n",
      "32/32 [==============================] - 0s 927us/step - loss: 1862.5964\n",
      "Epoch 59/250\n",
      "32/32 [==============================] - 0s 626us/step - loss: 1810.4824\n",
      "Epoch 60/250\n",
      "32/32 [==============================] - 0s 974us/step - loss: 1758.1313\n",
      "Epoch 61/250\n",
      "32/32 [==============================] - 0s 504us/step - loss: 1708.1056\n",
      "Epoch 62/250\n",
      "32/32 [==============================] - 0s 936us/step - loss: 1658.8901\n",
      "Epoch 63/250\n",
      "32/32 [==============================] - 0s 569us/step - loss: 1606.0990\n",
      "Epoch 64/250\n",
      "32/32 [==============================] - 0s 547us/step - loss: 1555.7605\n",
      "Epoch 65/250\n",
      "32/32 [==============================] - 0s 664us/step - loss: 1504.3339\n",
      "Epoch 66/250\n",
      "32/32 [==============================] - 0s 539us/step - loss: 1452.2625\n",
      "Epoch 67/250\n",
      "32/32 [==============================] - 0s 1ms/step - loss: 1407.2042\n",
      "Epoch 68/250\n",
      "32/32 [==============================] - 0s 507us/step - loss: 1359.1475\n",
      "Epoch 69/250\n",
      "32/32 [==============================] - 0s 947us/step - loss: 1307.6162\n",
      "Epoch 70/250\n",
      "32/32 [==============================] - 0s 628us/step - loss: 1258.3590\n",
      "Epoch 71/250\n",
      "32/32 [==============================] - 0s 522us/step - loss: 1208.5067\n",
      "Epoch 72/250\n",
      "32/32 [==============================] - 0s 675us/step - loss: 1163.7314\n",
      "Epoch 73/250\n",
      "32/32 [==============================] - 0s 553us/step - loss: 1115.8940\n",
      "Epoch 74/250\n",
      "32/32 [==============================] - 0s 987us/step - loss: 1070.1820\n",
      "Epoch 75/250\n",
      "32/32 [==============================] - 0s 1ms/step - loss: 1028.5090\n",
      "Epoch 76/250\n",
      "32/32 [==============================] - 0s 841us/step - loss: 985.1388\n",
      "Epoch 77/250\n",
      "32/32 [==============================] - 0s 923us/step - loss: 943.3148\n",
      "Epoch 78/250\n",
      "32/32 [==============================] - 0s 666us/step - loss: 907.9081\n",
      "Epoch 79/250\n",
      "32/32 [==============================] - 0s 964us/step - loss: 870.7682\n",
      "Epoch 80/250\n",
      "32/32 [==============================] - 0s 622us/step - loss: 831.2036\n",
      "Epoch 81/250\n",
      "32/32 [==============================] - 0s 657us/step - loss: 789.6859\n",
      "Epoch 82/250\n",
      "32/32 [==============================] - 0s 1ms/step - loss: 747.3073\n",
      "Epoch 83/250\n",
      "32/32 [==============================] - 0s 654us/step - loss: 710.0250\n",
      "Epoch 84/250\n",
      "32/32 [==============================] - 0s 687us/step - loss: 671.5571\n",
      "Epoch 85/250\n",
      "32/32 [==============================] - 0s 839us/step - loss: 633.2430\n",
      "Epoch 86/250\n",
      "32/32 [==============================] - 0s 635us/step - loss: 594.5167\n",
      "Epoch 87/250\n",
      "32/32 [==============================] - 0s 532us/step - loss: 560.1461\n",
      "Epoch 88/250\n",
      "32/32 [==============================] - 0s 1ms/step - loss: 524.5017\n",
      "Epoch 89/250\n",
      "32/32 [==============================] - 0s 517us/step - loss: 494.1122\n",
      "Epoch 90/250\n",
      "32/32 [==============================] - 0s 545us/step - loss: 464.8436\n",
      "Epoch 91/250\n",
      "32/32 [==============================] - 0s 651us/step - loss: 434.0283\n",
      "Epoch 92/250\n",
      "32/32 [==============================] - 0s 567us/step - loss: 406.5206\n",
      "Epoch 93/250\n",
      "32/32 [==============================] - 0s 1ms/step - loss: 377.2939\n",
      "Epoch 94/250\n",
      "32/32 [==============================] - 0s 585us/step - loss: 347.2607\n",
      "Epoch 95/250\n",
      "32/32 [==============================] - 0s 925us/step - loss: 322.6829\n",
      "Epoch 96/250\n"
     ]
    },
    {
     "name": "stdout",
     "output_type": "stream",
     "text": [
      "32/32 [==============================] - 0s 591us/step - loss: 295.6337\n",
      "Epoch 97/250\n",
      "32/32 [==============================] - 0s 513us/step - loss: 271.3020\n",
      "Epoch 98/250\n",
      "32/32 [==============================] - 0s 563us/step - loss: 248.0929\n",
      "Epoch 99/250\n",
      "32/32 [==============================] - 0s 533us/step - loss: 224.5339\n",
      "Epoch 100/250\n",
      "32/32 [==============================] - 0s 1ms/step - loss: 202.1249\n",
      "Epoch 101/250\n",
      "32/32 [==============================] - 0s 484us/step - loss: 179.3283\n",
      "Epoch 102/250\n",
      "32/32 [==============================] - 0s 969us/step - loss: 157.4925\n",
      "Epoch 103/250\n",
      "32/32 [==============================] - 0s 537us/step - loss: 139.7103\n",
      "Epoch 104/250\n",
      "32/32 [==============================] - 0s 551us/step - loss: 123.9187\n",
      "Epoch 105/250\n",
      "32/32 [==============================] - 0s 1ms/step - loss: 109.9034\n",
      "Epoch 106/250\n",
      "32/32 [==============================] - 0s 527us/step - loss: 97.1774\n",
      "Epoch 107/250\n",
      "32/32 [==============================] - 0s 637us/step - loss: 86.9561\n",
      "Epoch 108/250\n",
      "32/32 [==============================] - 0s 1ms/step - loss: 75.9041\n",
      "Epoch 109/250\n",
      "32/32 [==============================] - 0s 505us/step - loss: 66.6560\n",
      "Epoch 110/250\n",
      "32/32 [==============================] - 0s 1ms/step - loss: 59.1349\n",
      "Epoch 111/250\n",
      "32/32 [==============================] - 0s 1ms/step - loss: 51.9106\n",
      "Epoch 112/250\n",
      "32/32 [==============================] - 0s 618us/step - loss: 46.2946\n",
      "Epoch 113/250\n",
      "32/32 [==============================] - 0s 1ms/step - loss: 40.9512\n",
      "Epoch 114/250\n",
      "32/32 [==============================] - 0s 473us/step - loss: 37.1801\n",
      "Epoch 115/250\n",
      "32/32 [==============================] - 0s 643us/step - loss: 34.2413\n",
      "Epoch 116/250\n",
      "32/32 [==============================] - 0s 969us/step - loss: 31.9417\n",
      "Epoch 117/250\n",
      "32/32 [==============================] - 0s 580us/step - loss: 29.3119\n",
      "Epoch 118/250\n",
      "32/32 [==============================] - 0s 1ms/step - loss: 28.6451\n",
      "Epoch 119/250\n",
      "32/32 [==============================] - 0s 786us/step - loss: 27.5795\n",
      "Epoch 120/250\n",
      "32/32 [==============================] - 0s 586us/step - loss: 26.7229\n",
      "Epoch 121/250\n",
      "32/32 [==============================] - 0s 961us/step - loss: 26.0758\n",
      "Epoch 122/250\n",
      "32/32 [==============================] - 0s 585us/step - loss: 26.0096\n",
      "Epoch 123/250\n",
      "32/32 [==============================] - 0s 997us/step - loss: 25.7727\n",
      "Epoch 124/250\n",
      "32/32 [==============================] - 0s 502us/step - loss: 25.6583\n",
      "Epoch 125/250\n",
      "32/32 [==============================] - 0s 1ms/step - loss: 25.1540\n",
      "Epoch 126/250\n",
      "32/32 [==============================] - 0s 941us/step - loss: 25.6664\n",
      "Epoch 127/250\n",
      "32/32 [==============================] - 0s 630us/step - loss: 25.0576\n",
      "Epoch 128/250\n",
      "32/32 [==============================] - 0s 1ms/step - loss: 25.1125\n",
      "Epoch 129/250\n",
      "32/32 [==============================] - 0s 439us/step - loss: 24.9829\n",
      "Epoch 130/250\n",
      "32/32 [==============================] - 0s 637us/step - loss: 25.2722\n",
      "Epoch 131/250\n",
      "32/32 [==============================] - 0s 1ms/step - loss: 25.0751\n",
      "Epoch 132/250\n",
      "32/32 [==============================] - 0s 507us/step - loss: 24.7365\n",
      "Epoch 133/250\n",
      "32/32 [==============================] - 0s 1ms/step - loss: 24.7619\n",
      "Epoch 134/250\n",
      "32/32 [==============================] - 0s 978us/step - loss: 24.7817\n",
      "Epoch 135/250\n",
      "32/32 [==============================] - 0s 538us/step - loss: 24.6847\n",
      "Epoch 136/250\n",
      "32/32 [==============================] - 0s 1ms/step - loss: 24.9991\n",
      "Epoch 137/250\n",
      "32/32 [==============================] - 0s 994us/step - loss: 24.2062\n",
      "Epoch 138/250\n",
      "32/32 [==============================] - 0s 546us/step - loss: 25.3446\n",
      "Epoch 139/250\n",
      "32/32 [==============================] - 0s 698us/step - loss: 25.1984\n",
      "Epoch 140/250\n",
      "32/32 [==============================] - 0s 1ms/step - loss: 24.8867\n",
      "Epoch 141/250\n",
      "32/32 [==============================] - 0s 484us/step - loss: 24.8824\n",
      "Epoch 142/250\n",
      "32/32 [==============================] - 0s 694us/step - loss: 24.6927\n",
      "Epoch 143/250\n",
      "32/32 [==============================] - 0s 984us/step - loss: 24.9816\n",
      "Epoch 144/250\n",
      "32/32 [==============================] - 0s 545us/step - loss: 24.9226\n",
      "Epoch 145/250\n",
      "32/32 [==============================] - 0s 1ms/step - loss: 24.8463\n",
      "Epoch 146/250\n",
      "32/32 [==============================] - 0s 525us/step - loss: 24.8469\n",
      "Epoch 147/250\n",
      "32/32 [==============================] - 0s 1ms/step - loss: 25.0103\n",
      "Epoch 148/250\n",
      "32/32 [==============================] - 0s 523us/step - loss: 24.7787\n",
      "Epoch 149/250\n",
      "32/32 [==============================] - 0s 961us/step - loss: 25.0213\n",
      "Epoch 150/250\n",
      "32/32 [==============================] - 0s 623us/step - loss: 24.5746\n",
      "Epoch 151/250\n",
      "32/32 [==============================] - 0s 957us/step - loss: 24.7215\n",
      "Epoch 152/250\n",
      "32/32 [==============================] - 0s 556us/step - loss: 24.7534\n",
      "Epoch 153/250\n",
      "32/32 [==============================] - 0s 928us/step - loss: 24.8511\n",
      "Epoch 154/250\n",
      "32/32 [==============================] - 0s 603us/step - loss: 24.6666\n",
      "Epoch 155/250\n",
      "32/32 [==============================] - 0s 530us/step - loss: 25.0743\n",
      "Epoch 156/250\n",
      "32/32 [==============================] - 0s 680us/step - loss: 24.8691\n",
      "Epoch 157/250\n",
      "32/32 [==============================] - 0s 530us/step - loss: 24.3976\n",
      "Epoch 158/250\n",
      "32/32 [==============================] - 0s 631us/step - loss: 24.6952\n",
      "Epoch 159/250\n",
      "32/32 [==============================] - 0s 534us/step - loss: 24.6943\n",
      "Epoch 160/250\n",
      "32/32 [==============================] - 0s 662us/step - loss: 25.1353\n",
      "Epoch 161/250\n",
      "32/32 [==============================] - 0s 518us/step - loss: 24.4566\n",
      "Epoch 162/250\n",
      "32/32 [==============================] - 0s 680us/step - loss: 25.1259\n",
      "Epoch 163/250\n",
      "32/32 [==============================] - 0s 544us/step - loss: 24.8600\n",
      "Epoch 164/250\n",
      "32/32 [==============================] - 0s 1ms/step - loss: 24.7986\n",
      "Epoch 165/250\n",
      "32/32 [==============================] - 0s 1ms/step - loss: 25.0380\n",
      "Epoch 166/250\n",
      "32/32 [==============================] - 0s 630us/step - loss: 24.7610\n",
      "Epoch 167/250\n",
      "32/32 [==============================] - 0s 918us/step - loss: 24.6370\n",
      "Epoch 168/250\n",
      "32/32 [==============================] - 0s 592us/step - loss: 24.7697\n",
      "Epoch 169/250\n",
      "32/32 [==============================] - 0s 923us/step - loss: 24.5358\n",
      "Epoch 170/250\n",
      "32/32 [==============================] - 0s 646us/step - loss: 25.0665\n",
      "Epoch 171/250\n",
      "32/32 [==============================] - 0s 970us/step - loss: 25.0294\n",
      "Epoch 172/250\n",
      "32/32 [==============================] - 0s 588us/step - loss: 24.8263\n",
      "Epoch 173/250\n",
      "32/32 [==============================] - 0s 928us/step - loss: 25.2078\n",
      "Epoch 174/250\n",
      "32/32 [==============================] - 0s 467us/step - loss: 24.6049\n",
      "Epoch 175/250\n",
      "32/32 [==============================] - 0s 616us/step - loss: 25.0003\n",
      "Epoch 176/250\n",
      "32/32 [==============================] - 0s 611us/step - loss: 24.4246\n",
      "Epoch 177/250\n",
      "32/32 [==============================] - 0s 649us/step - loss: 24.9152\n",
      "Epoch 178/250\n",
      "32/32 [==============================] - 0s 698us/step - loss: 24.6324\n",
      "Epoch 179/250\n",
      "32/32 [==============================] - 0s 530us/step - loss: 24.8464\n",
      "Epoch 180/250\n",
      "32/32 [==============================] - 0s 665us/step - loss: 24.7616\n",
      "Epoch 181/250\n",
      "32/32 [==============================] - 0s 623us/step - loss: 24.9012\n",
      "Epoch 182/250\n",
      "32/32 [==============================] - 0s 675us/step - loss: 24.6763\n",
      "Epoch 183/250\n",
      "32/32 [==============================] - 0s 556us/step - loss: 24.7343\n",
      "Epoch 184/250\n",
      "32/32 [==============================] - 0s 684us/step - loss: 24.7330\n",
      "Epoch 185/250\n",
      "32/32 [==============================] - 0s 895us/step - loss: 25.0481\n",
      "Epoch 186/250\n",
      "32/32 [==============================] - 0s 674us/step - loss: 24.8335\n",
      "Epoch 187/250\n",
      "32/32 [==============================] - 0s 931us/step - loss: 25.3910\n",
      "Epoch 188/250\n",
      "32/32 [==============================] - 0s 621us/step - loss: 24.5503\n",
      "Epoch 189/250\n",
      "32/32 [==============================] - 0s 983us/step - loss: 25.0765\n",
      "Epoch 190/250\n",
      "32/32 [==============================] - 0s 611us/step - loss: 24.7341\n",
      "Epoch 191/250\n",
      "32/32 [==============================] - 0s 907us/step - loss: 24.6211\n",
      "Epoch 192/250\n"
     ]
    },
    {
     "name": "stdout",
     "output_type": "stream",
     "text": [
      "32/32 [==============================] - 0s 631us/step - loss: 24.6352\n",
      "Epoch 193/250\n",
      "32/32 [==============================] - 0s 977us/step - loss: 24.5136\n",
      "Epoch 194/250\n",
      "32/32 [==============================] - 0s 564us/step - loss: 24.6156\n",
      "Epoch 195/250\n",
      "32/32 [==============================] - 0s 1ms/step - loss: 25.3560\n",
      "Epoch 196/250\n",
      "32/32 [==============================] - 0s 500us/step - loss: 25.1414\n",
      "Epoch 197/250\n",
      "32/32 [==============================] - 0s 971us/step - loss: 24.7179\n",
      "Epoch 198/250\n",
      "32/32 [==============================] - 0s 587us/step - loss: 24.9683\n",
      "Epoch 199/250\n",
      "32/32 [==============================] - 0s 529us/step - loss: 24.6547\n",
      "Epoch 200/250\n",
      "32/32 [==============================] - 0s 762us/step - loss: 25.1687\n",
      "Epoch 201/250\n",
      "32/32 [==============================] - 0s 753us/step - loss: 24.4527\n",
      "Epoch 202/250\n",
      "32/32 [==============================] - 0s 600us/step - loss: 24.9258\n",
      "Epoch 203/250\n",
      "32/32 [==============================] - 0s 927us/step - loss: 24.7535\n",
      "Epoch 204/250\n",
      "32/32 [==============================] - 0s 548us/step - loss: 24.6022\n",
      "Epoch 205/250\n",
      "32/32 [==============================] - 0s 1ms/step - loss: 24.9635\n",
      "Epoch 206/250\n",
      "32/32 [==============================] - 0s 417us/step - loss: 24.9019\n",
      "Epoch 207/250\n",
      "32/32 [==============================] - 0s 1ms/step - loss: 25.1113\n",
      "Epoch 208/250\n",
      "32/32 [==============================] - 0s 517us/step - loss: 24.5032\n",
      "Epoch 209/250\n",
      "32/32 [==============================] - 0s 654us/step - loss: 24.9046\n",
      "Epoch 210/250\n",
      "32/32 [==============================] - 0s 926us/step - loss: 24.8534\n",
      "Epoch 211/250\n",
      "32/32 [==============================] - 0s 636us/step - loss: 24.7072\n",
      "Epoch 212/250\n",
      "32/32 [==============================] - 0s 1ms/step - loss: 24.9187\n",
      "Epoch 213/250\n",
      "32/32 [==============================] - 0s 414us/step - loss: 24.8355\n",
      "Epoch 214/250\n",
      "32/32 [==============================] - 0s 678us/step - loss: 25.0662\n",
      "Epoch 215/250\n",
      "32/32 [==============================] - 0s 1ms/step - loss: 25.0205\n",
      "Epoch 216/250\n",
      "32/32 [==============================] - 0s 849us/step - loss: 24.9899\n",
      "Epoch 217/250\n",
      "32/32 [==============================] - 0s 500us/step - loss: 24.5388\n",
      "Epoch 218/250\n",
      "32/32 [==============================] - 0s 695us/step - loss: 24.8450\n",
      "Epoch 219/250\n",
      "32/32 [==============================] - 0s 981us/step - loss: 25.0265\n",
      "Epoch 220/250\n",
      "32/32 [==============================] - 0s 538us/step - loss: 24.5812\n",
      "Epoch 221/250\n",
      "32/32 [==============================] - 0s 991us/step - loss: 25.0576\n",
      "Epoch 222/250\n",
      "32/32 [==============================] - 0s 549us/step - loss: 25.0682\n",
      "Epoch 223/250\n",
      "32/32 [==============================] - 0s 774us/step - loss: 24.4821\n",
      "Epoch 224/250\n",
      "32/32 [==============================] - 0s 861us/step - loss: 24.6840\n",
      "Epoch 225/250\n",
      "32/32 [==============================] - 0s 609us/step - loss: 24.6436\n",
      "Epoch 226/250\n",
      "32/32 [==============================] - 0s 654us/step - loss: 24.6830\n",
      "Epoch 227/250\n",
      "32/32 [==============================] - 0s 924us/step - loss: 24.7134\n",
      "Epoch 228/250\n",
      "32/32 [==============================] - 0s 618us/step - loss: 24.9423\n",
      "Epoch 229/250\n",
      "32/32 [==============================] - 0s 1ms/step - loss: 24.7308\n",
      "Epoch 230/250\n",
      "32/32 [==============================] - 0s 850us/step - loss: 24.6647\n",
      "Epoch 231/250\n",
      "32/32 [==============================] - 0s 617us/step - loss: 24.3939\n",
      "Epoch 232/250\n",
      "32/32 [==============================] - 0s 1ms/step - loss: 24.4919\n",
      "Epoch 233/250\n",
      "32/32 [==============================] - 0s 1ms/step - loss: 24.9333\n",
      "Epoch 234/250\n",
      "32/32 [==============================] - 0s 822us/step - loss: 24.7478\n",
      "Epoch 235/250\n",
      "32/32 [==============================] - 0s 619us/step - loss: 24.6665\n",
      "Epoch 236/250\n",
      "32/32 [==============================] - 0s 956us/step - loss: 25.0755\n",
      "Epoch 237/250\n",
      "32/32 [==============================] - 0s 594us/step - loss: 24.7314\n",
      "Epoch 238/250\n",
      "32/32 [==============================] - 0s 989us/step - loss: 24.8973\n",
      "Epoch 239/250\n",
      "32/32 [==============================] - 0s 548us/step - loss: 24.8062\n",
      "Epoch 240/250\n",
      "32/32 [==============================] - 0s 1ms/step - loss: 25.1896\n",
      "Epoch 241/250\n",
      "32/32 [==============================] - 0s 957us/step - loss: 24.8768\n",
      "Epoch 242/250\n",
      "32/32 [==============================] - 0s 588us/step - loss: 24.6518\n",
      "Epoch 243/250\n",
      "32/32 [==============================] - 0s 660us/step - loss: 24.7574\n",
      "Epoch 244/250\n",
      "32/32 [==============================] - 0s 984us/step - loss: 24.8098\n",
      "Epoch 245/250\n",
      "32/32 [==============================] - 0s 763us/step - loss: 24.8048\n",
      "Epoch 246/250\n",
      "32/32 [==============================] - 0s 886us/step - loss: 24.6178\n",
      "Epoch 247/250\n",
      "32/32 [==============================] - 0s 505us/step - loss: 25.0311\n",
      "Epoch 248/250\n",
      "32/32 [==============================] - 0s 1ms/step - loss: 24.9871\n",
      "Epoch 249/250\n",
      "32/32 [==============================] - 0s 691us/step - loss: 25.2225\n",
      "Epoch 250/250\n",
      "32/32 [==============================] - 0s 649us/step - loss: 24.5252\n"
     ]
    },
    {
     "data": {
      "text/plain": [
       "<keras.callbacks.History at 0x170af8e6c40>"
      ]
     },
     "execution_count": 69,
     "metadata": {},
     "output_type": "execute_result"
    }
   ],
   "source": [
    "final_model = Sequential()\n",
    "\n",
    "final_model.add(Dense(units = 4, activation = \"relu\")) # input_dim = 2 or input_dim = X_train.shape[1]\n",
    "final_model.add(Dense(units = 4, activation = \"relu\"))\n",
    "final_model.add(Dense(units = 4, activation = \"relu\"))\n",
    "final_model.add(Dense(1))\n",
    "\n",
    "final_model.compile(optimizer = \"rmsprop\", loss = \"mse\")\n",
    "final_model.fit(x = X_scaled, y = y, batch_size = 32, epochs = 250)\n",
    "\n",
    "# Burada final modeli tanımlarken input_dim belirtmedik çünkü daha önce fit yaptığımızda model X'in size'ını öğrendi.\n",
    "    # Ancak burada \"input_dim\" belirtsek de problem değil.\n"
   ]
  },
  {
   "cell_type": "code",
   "execution_count": 70,
   "metadata": {},
   "outputs": [
    {
     "name": "stdout",
     "output_type": "stream",
     "text": [
      "Model: \"sequential_2\"\n",
      "_________________________________________________________________\n",
      " Layer (type)                Output Shape              Param #   \n",
      "=================================================================\n",
      " dense_8 (Dense)             (None, 4)                 12        \n",
      "                                                                 \n",
      " dense_9 (Dense)             (None, 4)                 20        \n",
      "                                                                 \n",
      " dense_10 (Dense)            (None, 4)                 20        \n",
      "                                                                 \n",
      " dense_11 (Dense)            (None, 1)                 5         \n",
      "                                                                 \n",
      "=================================================================\n",
      "Total params: 57\n",
      "Trainable params: 57\n",
      "Non-trainable params: 0\n",
      "_________________________________________________________________\n"
     ]
    }
   ],
   "source": [
    "final_model.summary()"
   ]
  },
  {
   "cell_type": "markdown",
   "metadata": {},
   "source": [
    "### Saving a Model"
   ]
  },
  {
   "cell_type": "markdown",
   "metadata": {},
   "source": [
    "You can save a TensorFlow/Keras model using [`model.save()`](https://www.tensorflow.org/tutorials/keras/save_and_load#save_the_entire_model).\n",
    "\n",
    "Keras saves models by inspecting their architectures. This technique saves everything:\n",
    "\n",
    "- The weight values\n",
    "- The model's architecture\n",
    "- The model's training configuration (what you pass to the .compile() method)\n",
    "- The optimizer and its state, if any (this enables you to restart training where you left off)\n",
    "\n",
    "There are two ways to save a model in TensorFlow:\n",
    "1. The [SavedModel format](https://www.tensorflow.org/tutorials/keras/save_and_load#savedmodel_format) (default).\n",
    "2. The [HDF5 format](https://www.tensorflow.org/tutorials/keras/save_and_load#hdf5_format).\n",
    "\n"
   ]
  },
  {
   "cell_type": "code",
   "execution_count": 71,
   "metadata": {},
   "outputs": [],
   "source": [
    "final_model.save(\"model_fake_reg.h5\")"
   ]
  },
  {
   "cell_type": "code",
   "execution_count": null,
   "metadata": {},
   "outputs": [],
   "source": [
    "# Final model'i kaydederken pickle kullanmıyoruz çükü pickle ile olmuyor. Bunun yerine \"save\" kullanıyoruz.\n",
    "# Dosyayı kaydederken uzantısız da kaydedebilirdik ancak bize genelde .h5 uzantısını tercih edeceğiz."
   ]
  },
  {
   "cell_type": "markdown",
   "metadata": {},
   "source": [
    "### Loading Model"
   ]
  },
  {
   "cell_type": "code",
   "execution_count": 73,
   "metadata": {},
   "outputs": [],
   "source": [
    "from tensorflow.keras.models import load_model\n",
    "# Yine modeli load ederken load_model ile yüklüyoruz. Pickle kullanılmıyor."
   ]
  },
  {
   "cell_type": "code",
   "execution_count": 74,
   "metadata": {},
   "outputs": [],
   "source": [
    "model_fake_reg = load_model(\"model_fake_reg.h5\")"
   ]
  },
  {
   "cell_type": "code",
   "execution_count": 75,
   "metadata": {},
   "outputs": [],
   "source": [
    "# Ancak scaler'ı pickle ile çağırıyoruz\n",
    "scaler_fake_reg = pickle.load(open(\"scaler_fake_reg.pkl\", \"rb\"))"
   ]
  },
  {
   "cell_type": "markdown",
   "metadata": {},
   "source": [
    "## Prediction-1"
   ]
  },
  {
   "cell_type": "code",
   "execution_count": 76,
   "metadata": {},
   "outputs": [],
   "source": [
    "sample = [[998, 1000]]"
   ]
  },
  {
   "cell_type": "code",
   "execution_count": 78,
   "metadata": {},
   "outputs": [],
   "source": [
    "sample_scaled = scaler_fake_reg.transform(sample)"
   ]
  },
  {
   "cell_type": "code",
   "execution_count": 79,
   "metadata": {},
   "outputs": [
    {
     "name": "stdout",
     "output_type": "stream",
     "text": [
      "1/1 [==============================] - 0s 53ms/step\n"
     ]
    },
    {
     "data": {
      "text/plain": [
       "array([[419.2816]], dtype=float32)"
      ]
     },
     "execution_count": 79,
     "metadata": {},
     "output_type": "execute_result"
    }
   ],
   "source": [
    "model_fake_reg.predict(sample_scaled)"
   ]
  },
  {
   "cell_type": "markdown",
   "metadata": {},
   "source": [
    "## Prediction-2"
   ]
  },
  {
   "cell_type": "code",
   "execution_count": 80,
   "metadata": {},
   "outputs": [],
   "source": [
    "my_dict = {\"Feature1\" : [997, 998, 999, 1000, 1001],\n",
    "           \"Feature2\" : [1000, 999, 998, 997, 996]}"
   ]
  },
  {
   "cell_type": "code",
   "execution_count": 81,
   "metadata": {},
   "outputs": [
    {
     "data": {
      "text/html": [
       "<div>\n",
       "<style scoped>\n",
       "    .dataframe tbody tr th:only-of-type {\n",
       "        vertical-align: middle;\n",
       "    }\n",
       "\n",
       "    .dataframe tbody tr th {\n",
       "        vertical-align: top;\n",
       "    }\n",
       "\n",
       "    .dataframe thead th {\n",
       "        text-align: right;\n",
       "    }\n",
       "</style>\n",
       "<table border=\"1\" class=\"dataframe\">\n",
       "  <thead>\n",
       "    <tr style=\"text-align: right;\">\n",
       "      <th></th>\n",
       "      <th>Feature1</th>\n",
       "      <th>Feature2</th>\n",
       "    </tr>\n",
       "  </thead>\n",
       "  <tbody>\n",
       "    <tr>\n",
       "      <th>0</th>\n",
       "      <td>997</td>\n",
       "      <td>1000</td>\n",
       "    </tr>\n",
       "    <tr>\n",
       "      <th>1</th>\n",
       "      <td>998</td>\n",
       "      <td>999</td>\n",
       "    </tr>\n",
       "    <tr>\n",
       "      <th>2</th>\n",
       "      <td>999</td>\n",
       "      <td>998</td>\n",
       "    </tr>\n",
       "    <tr>\n",
       "      <th>3</th>\n",
       "      <td>1000</td>\n",
       "      <td>997</td>\n",
       "    </tr>\n",
       "    <tr>\n",
       "      <th>4</th>\n",
       "      <td>1001</td>\n",
       "      <td>996</td>\n",
       "    </tr>\n",
       "  </tbody>\n",
       "</table>\n",
       "</div>"
      ],
      "text/plain": [
       "   Feature1  Feature2\n",
       "0       997      1000\n",
       "1       998       999\n",
       "2       999       998\n",
       "3      1000       997\n",
       "4      1001       996"
      ]
     },
     "execution_count": 81,
     "metadata": {},
     "output_type": "execute_result"
    }
   ],
   "source": [
    "sample = pd.DataFrame(my_dict)\n",
    "sample"
   ]
  },
  {
   "cell_type": "code",
   "execution_count": 82,
   "metadata": {},
   "outputs": [
    {
     "data": {
      "text/plain": [
       "array([[-0.00948799,  0.52980619],\n",
       "       [ 0.15312457,  0.35345977],\n",
       "       [ 0.31573713,  0.17711336],\n",
       "       [ 0.47834969,  0.00076694],\n",
       "       [ 0.64096225, -0.17557948]])"
      ]
     },
     "execution_count": 82,
     "metadata": {},
     "output_type": "execute_result"
    }
   ],
   "source": [
    "sample_scaled = scaler_fake_reg.transform(sample)\n",
    "sample_scaled"
   ]
  },
  {
   "cell_type": "code",
   "execution_count": 83,
   "metadata": {},
   "outputs": [
    {
     "name": "stdout",
     "output_type": "stream",
     "text": [
      "1/1 [==============================] - 0s 37ms/step\n"
     ]
    },
    {
     "data": {
      "text/plain": [
       "array([[379.15823],\n",
       "       [330.85703],\n",
       "       [282.55582],\n",
       "       [234.25461],\n",
       "       [185.95341]], dtype=float32)"
      ]
     },
     "execution_count": 83,
     "metadata": {},
     "output_type": "execute_result"
    }
   ],
   "source": [
    "model_fake_reg.predict(sample_scaled)"
   ]
  },
  {
   "cell_type": "code",
   "execution_count": null,
   "metadata": {},
   "outputs": [],
   "source": [
    "# Not : Bu notebook'ta \"learning rate\" default olarak kaldı. Bu parametre ile de düzenleme yapacağız."
   ]
  }
 ],
 "metadata": {
  "interpreter": {
   "hash": "aee8b7b246df8f9039afb4144a1f6fd8d2ca17a180786b69acc140d282b71a49"
  },
  "kernelspec": {
   "display_name": "Python 3 (ipykernel)",
   "language": "python",
   "name": "python3"
  },
  "language_info": {
   "codemirror_mode": {
    "name": "ipython",
    "version": 3
   },
   "file_extension": ".py",
   "mimetype": "text/x-python",
   "name": "python",
   "nbconvert_exporter": "python",
   "pygments_lexer": "ipython3",
   "version": "3.9.12"
  },
  "toc": {
   "base_numbering": 1,
   "nav_menu": {},
   "number_sections": false,
   "sideBar": true,
   "skip_h1_title": false,
   "title_cell": "Table of Contents",
   "title_sidebar": "Contents",
   "toc_cell": false,
   "toc_position": {
    "height": "calc(100% - 180px)",
    "left": "10px",
    "top": "150px",
    "width": "300.099px"
   },
   "toc_section_display": true,
   "toc_window_display": true
  }
 },
 "nbformat": 4,
 "nbformat_minor": 4
}
