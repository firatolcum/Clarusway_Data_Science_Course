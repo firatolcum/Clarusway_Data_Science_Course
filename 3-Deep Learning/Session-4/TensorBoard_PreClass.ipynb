{
 "cells": [
  {
   "cell_type": "markdown",
   "id": "a06db88b",
   "metadata": {},
   "source": [
    "# Tensorboard Demo "
   ]
  },
  {
   "cell_type": "code",
   "execution_count": 1,
   "id": "eff6ce71",
   "metadata": {},
   "outputs": [],
   "source": [
    "import tensorflow as tf\n",
    "from tensorflow import keras\n",
    "import matplotlib.pyplot as plt\n",
    "import numpy as np"
   ]
  },
  {
   "cell_type": "code",
   "execution_count": 2,
   "id": "a949df1b",
   "metadata": {},
   "outputs": [],
   "source": [
    "(X_train, y_train), (X_test, y_test) = keras.datasets.mnist.load_data()"
   ]
  },
  {
   "cell_type": "code",
   "execution_count": 3,
   "id": "daddc620",
   "metadata": {},
   "outputs": [
    {
     "data": {
      "text/plain": [
       "60000"
      ]
     },
     "execution_count": 3,
     "metadata": {},
     "output_type": "execute_result"
    }
   ],
   "source": [
    "len(X_train)"
   ]
  },
  {
   "cell_type": "code",
   "execution_count": 4,
   "id": "1e209924",
   "metadata": {},
   "outputs": [
    {
     "data": {
      "text/plain": [
       "10000"
      ]
     },
     "execution_count": 4,
     "metadata": {},
     "output_type": "execute_result"
    }
   ],
   "source": [
    "len(X_test)"
   ]
  },
  {
   "cell_type": "code",
   "execution_count": 5,
   "id": "626aa3b3",
   "metadata": {},
   "outputs": [
    {
     "data": {
      "text/plain": [
       "(28, 28)"
      ]
     },
     "execution_count": 5,
     "metadata": {},
     "output_type": "execute_result"
    }
   ],
   "source": [
    "X_train[0].shape"
   ]
  },
  {
   "cell_type": "code",
   "execution_count": 6,
   "id": "6c3c0e93",
   "metadata": {},
   "outputs": [
    {
     "data": {
      "text/plain": [
       "<matplotlib.image.AxesImage at 0x2797a8077f0>"
      ]
     },
     "execution_count": 6,
     "metadata": {},
     "output_type": "execute_result"
    },
    {
     "data": {
      "image/png": "[encoded data removed]",
      "text/plain": [
       "<Figure size 480x480 with 1 Axes>"
      ]
     },
     "metadata": {},
     "output_type": "display_data"
    }
   ],
   "source": [
    "plt.matshow(X_train[0])"
   ]
  },
  {
   "cell_type": "code",
   "execution_count": 7,
   "id": "739b3907",
   "metadata": {},
   "outputs": [
    {
     "data": {
      "text/plain": [
       "5"
      ]
     },
     "execution_count": 7,
     "metadata": {},
     "output_type": "execute_result"
    }
   ],
   "source": [
    "y_train[0]"
   ]
  },
  {
   "cell_type": "code",
   "execution_count": 8,
   "id": "21e7c734",
   "metadata": {},
   "outputs": [],
   "source": [
    "# Normalizing Data (RGB = 255)\n",
    "X_train = X_train / 255\n",
    "X_test = X_test / 255"
   ]
  },
  {
   "cell_type": "code",
   "execution_count": 9,
   "id": "02620253",
   "metadata": {},
   "outputs": [],
   "source": [
    "X_train_flattened = X_train.reshape(len(X_train), 28*28)\n",
    "X_test_flattened = X_test.reshape(len(X_test), 28*28)"
   ]
  },
  {
   "cell_type": "code",
   "execution_count": 10,
   "id": "738176be",
   "metadata": {},
   "outputs": [
    {
     "data": {
      "text/plain": [
       "(60000, 784)"
      ]
     },
     "execution_count": 10,
     "metadata": {},
     "output_type": "execute_result"
    }
   ],
   "source": [
    "X_train_flattened.shape"
   ]
  },
  {
   "cell_type": "code",
   "execution_count": 11,
   "id": "8c9ccb56",
   "metadata": {},
   "outputs": [
    {
     "name": "stdout",
     "output_type": "stream",
     "text": [
      "Epoch 1/5\n",
      "1875/1875 [==============================] - 2s 948us/step - loss: 0.2718 - accuracy: 0.9240\n",
      "Epoch 2/5\n",
      "1875/1875 [==============================] - 2s 930us/step - loss: 0.1231 - accuracy: 0.9645\n",
      "Epoch 3/5\n",
      "1875/1875 [==============================] - 2s 918us/step - loss: 0.0854 - accuracy: 0.9744\n",
      "Epoch 4/5\n",
      "1875/1875 [==============================] - 2s 935us/step - loss: 0.0637 - accuracy: 0.9809\n",
      "Epoch 5/5\n",
      "1875/1875 [==============================] - 2s 943us/step - loss: 0.0510 - accuracy: 0.9836\n"
     ]
    },
    {
     "data": {
      "text/plain": [
       "<keras.callbacks.History at 0x279775c5b20>"
      ]
     },
     "execution_count": 11,
     "metadata": {},
     "output_type": "execute_result"
    }
   ],
   "source": [
    "model = keras.Sequential([\n",
    "    keras.layers.Flatten(input_shape = (28, 28)),\n",
    "    keras.layers.Dense(100, activation = \"relu\"),\n",
    "    keras.layers.Dense(10, activation = \"sigmoid\")\n",
    "])\n",
    "\n",
    "model.compile(optimizer = \"adam\", loss = \"sparse_categorical_crossentropy\", metrics = [\"accuracy\"])\n",
    "\n",
    "tb_callback = tf.keras.callbacks.TensorBoard(log_dir = \"logs/\", histogram_freq = 1)\n",
    "\n",
    "model.fit(X_train, y_train, epochs = 5, callbacks = [tb_callback])"
   ]
  },
  {
   "cell_type": "code",
   "execution_count": 12,
   "id": "c471cbfe",
   "metadata": {},
   "outputs": [],
   "source": [
    "# load_ext tensorboard\n",
    "# %tensorboard --logdir logs/fit"
   ]
  },
  {
   "cell_type": "markdown",
   "id": "06c9d595",
   "metadata": {},
   "source": [
    "Either run above inline magic or go to git bash or your command prompt and type below to run it,\n",
    "- ``tensorboard --logdir logs/``\n",
    "This will launch tensorboard at this url which you can open in your browser ``http://localhost:6006/``"
   ]
  },
  {
   "cell_type": "code",
   "execution_count": 13,
   "id": "146b4c1b",
   "metadata": {},
   "outputs": [],
   "source": [
    "load_ext tensorboard"
   ]
  },
  {
   "cell_type": "code",
   "execution_count": 14,
   "id": "f2acf9cc",
   "metadata": {},
   "outputs": [
    {
     "data": {
      "text/plain": [
       "Reusing TensorBoard on port 6006 (pid 49564), started 0:03:18 ago. (Use '!kill 49564' to kill it.)"
      ]
     },
     "metadata": {},
     "output_type": "display_data"
    },
    {
     "data": {
      "text/html": [
       "\n",
       "      <iframe id=\"tensorboard-frame-93a2f1de3af1aa8d\" width=\"100%\" height=\"800\" frameborder=\"0\">\n",
       "      </iframe>\n",
       "      <script>\n",
       "        (function() {\n",
       "          const frame = document.getElementById(\"tensorboard-frame-93a2f1de3af1aa8d\");\n",
       "          const url = new URL(\"/\", window.location);\n",
       "          const port = 6006;\n",
       "          if (port) {\n",
       "            url.port = port;\n",
       "          }\n",
       "          frame.src = url;\n",
       "        })();\n",
       "      </script>\n",
       "    "
      ],
      "text/plain": [
       "<IPython.core.display.HTML object>"
      ]
     },
     "metadata": {},
     "output_type": "display_data"
    }
   ],
   "source": [
    "%tensorboard --logdir logs/fit"
   ]
  },
  {
   "cell_type": "code",
   "execution_count": 15,
   "id": "40c1055f",
   "metadata": {},
   "outputs": [
    {
     "data": {
      "text/plain": [
       "[array([[ 0.04768832,  0.00381958,  0.04573585, ...,  0.02520684,\n",
       "         -0.07257047,  0.05184804],\n",
       "        [ 0.08176717, -0.04887146, -0.07369404, ..., -0.05825021,\n",
       "         -0.04425518,  0.02154694],\n",
       "        [ 0.0761583 , -0.03376767, -0.06527914, ..., -0.0251664 ,\n",
       "         -0.03529958,  0.0769759 ],\n",
       "        ...,\n",
       "        [ 0.07922676, -0.07484239,  0.02692597, ...,  0.04948302,\n",
       "         -0.07067174, -0.00631443],\n",
       "        [-0.07859506, -0.02612533, -0.00643826, ..., -0.02496542,\n",
       "         -0.07605013, -0.05158684],\n",
       "        [ 0.04259185,  0.05443501, -0.01135634, ..., -0.05208591,\n",
       "          0.06318986,  0.02716717]], dtype=float32),\n",
       " array([ 0.0546514 ,  0.09756673,  0.07592566,  0.00794032, -0.14727728,\n",
       "         0.11072762, -0.11200832, -0.05232001,  0.00179016, -0.1518443 ,\n",
       "        -0.01866807, -0.15836063,  0.270489  ,  0.00276182,  0.02809832,\n",
       "         0.00781741,  0.02364472,  0.15110326,  0.02361796,  0.07855543,\n",
       "        -0.05797185, -0.07643694, -0.06964354, -0.11483561,  0.15218651,\n",
       "        -0.04971036,  0.0246703 ,  0.02412356,  0.18058093,  0.11006477,\n",
       "         0.03579706, -0.06392024,  0.03478019, -0.07644064, -0.0147022 ,\n",
       "        -0.18707705,  0.04796205, -0.00420871, -0.04488786, -0.0828115 ,\n",
       "         0.11054979,  0.07430235, -0.05375747,  0.04982788,  0.0505443 ,\n",
       "         0.03568583,  0.11495876,  0.01713565,  0.17558439,  0.02533245,\n",
       "        -0.05782402,  0.08481193,  0.13434695, -0.09943103,  0.17344378,\n",
       "        -0.16131   ,  0.11414124,  0.12209657,  0.03669425, -0.05489515,\n",
       "         0.04874448,  0.00182583, -0.07263839,  0.02501414,  0.13907483,\n",
       "         0.10879155,  0.02981902,  0.07792317,  0.0142757 , -0.08703364,\n",
       "        -0.05102356,  0.10098542,  0.14955254, -0.13530634,  0.05172126,\n",
       "         0.07114156, -0.0332503 ,  0.03147426, -0.01616722,  0.07655481,\n",
       "        -0.03506013, -0.00952797,  0.10984338, -0.03369882,  0.1785622 ,\n",
       "        -0.02356722, -0.08950775,  0.1015333 ,  0.01445172,  0.2001744 ,\n",
       "         0.18364418, -0.12286454,  0.12093214,  0.09655783,  0.13504356,\n",
       "        -0.02047248, -0.02097956, -0.2408526 ,  0.15764517,  0.19039458],\n",
       "       dtype=float32),\n",
       " array([[-3.52508605e-01, -9.94868055e-02,  1.82104856e-01,\n",
       "          2.15450868e-01, -3.21327448e-02,  1.57269478e-01,\n",
       "          5.56690358e-02, -3.73419911e-01,  1.55896962e-01,\n",
       "          1.28713682e-01],\n",
       "        [-2.69307047e-01,  2.44648665e-01, -2.27955088e-01,\n",
       "         -5.70081651e-01,  1.97997034e-01,  1.96907550e-01,\n",
       "          3.34511608e-01,  1.64837152e-01, -1.88385516e-01,\n",
       "          1.30651593e-02],\n",
       "        [-1.70411319e-01,  1.05550446e-01, -3.98380309e-01,\n",
       "          2.95051515e-01,  2.05346495e-01,  3.91410775e-02,\n",
       "         -7.41616905e-01,  2.14698136e-01, -3.78274947e-01,\n",
       "          3.18960756e-01],\n",
       "        [-3.97651792e-01,  4.14980888e-01, -5.55166662e-01,\n",
       "          2.52002656e-01,  2.30519876e-01,  7.33480509e-03,\n",
       "         -8.24557483e-01, -1.52982280e-01, -6.57378018e-01,\n",
       "          3.01672965e-01],\n",
       "        [-2.10008565e-02, -4.06060845e-01, -8.38752612e-02,\n",
       "          1.95745647e-01, -3.77355754e-01,  1.11537352e-01,\n",
       "         -4.15635377e-01, -1.80890217e-01,  4.16798413e-01,\n",
       "          2.44945765e-01],\n",
       "        [-7.79140353e-01,  3.10856938e-01,  4.21131998e-01,\n",
       "         -1.74208313e-01,  1.48477331e-01,  2.11051717e-01,\n",
       "         -3.28206658e-01, -2.66647935e-01, -1.18072070e-01,\n",
       "         -4.86237556e-02],\n",
       "        [ 1.82902679e-01, -3.12257797e-01,  3.46519165e-02,\n",
       "          4.69572917e-02,  7.28579983e-02, -1.87172920e-01,\n",
       "         -4.70346771e-02,  1.11656981e-02,  1.55270636e-01,\n",
       "          6.25007451e-02],\n",
       "        [-3.06294888e-01, -1.17412843e-01,  3.28023255e-01,\n",
       "          2.51650542e-01, -7.26324797e-01, -3.14311862e-01,\n",
       "         -5.46865344e-01,  2.10067660e-01, -4.50963825e-01,\n",
       "         -8.40347469e-01],\n",
       "        [-7.46033415e-02, -1.98465750e-01,  2.24734977e-01,\n",
       "          3.35017413e-01, -1.50539726e-01, -2.19998974e-03,\n",
       "         -4.98067111e-01,  4.72023189e-01, -1.61789104e-01,\n",
       "         -5.13878353e-02],\n",
       "        [-3.43209296e-01, -1.34610115e-02, -1.38866663e-01,\n",
       "          2.17554688e-01, -7.10391849e-02, -3.53065491e-01,\n",
       "         -2.24386603e-01,  3.18713076e-02,  1.87138885e-01,\n",
       "         -3.13120246e-01],\n",
       "        [-3.00318271e-01,  1.78847671e-01, -3.12792391e-01,\n",
       "          4.47520643e-01, -2.84789860e-01,  5.69889486e-01,\n",
       "         -3.24722648e-01, -2.95228630e-01, -6.66273177e-01,\n",
       "          8.52683708e-02],\n",
       "        [-1.44678634e-02,  2.27672413e-01, -8.53368491e-02,\n",
       "          2.87271678e-01,  1.63698226e-01, -6.85649276e-01,\n",
       "         -3.54092062e-01,  1.11364394e-01,  1.93265453e-01,\n",
       "          1.79460019e-01],\n",
       "        [ 8.26745927e-02,  1.07450835e-01, -1.51856244e-01,\n",
       "         -8.09005424e-02, -6.73429728e-01,  6.02483630e-01,\n",
       "         -4.18280482e-01,  2.41074890e-01, -1.41410857e-01,\n",
       "          1.82516336e-01],\n",
       "        [-4.97453332e-01,  1.93593249e-01,  1.52923137e-01,\n",
       "          1.82738677e-01,  2.10956648e-01,  2.02814758e-01,\n",
       "         -7.13744819e-01,  1.23062104e-01, -1.06158622e-01,\n",
       "          7.14660734e-02],\n",
       "        [-6.28591061e-01,  5.39947331e-01,  5.29323995e-01,\n",
       "         -2.92168856e-01, -3.49214196e-01, -2.74434209e-01,\n",
       "         -3.93515289e-01,  3.10104698e-01,  2.88241088e-01,\n",
       "         -4.11200762e-01],\n",
       "        [ 2.91633695e-01, -5.58885515e-01, -2.56623533e-02,\n",
       "          2.71753311e-01, -6.41759455e-01,  3.88222814e-01,\n",
       "         -1.00413024e-01, -3.19726050e-01, -1.42395675e-01,\n",
       "         -3.27175766e-01],\n",
       "        [-8.49178612e-01, -5.52508473e-01, -2.46032625e-01,\n",
       "          5.89327991e-01, -1.13880217e-01,  5.60018778e-01,\n",
       "         -1.15284130e-01, -3.83429825e-01,  1.69557527e-01,\n",
       "          1.70949660e-02],\n",
       "        [-3.65611129e-02,  2.67478764e-01, -2.60024995e-01,\n",
       "         -6.51673615e-01,  2.23946020e-01,  2.65096668e-02,\n",
       "          1.71655372e-01, -3.85618657e-01,  6.82314783e-02,\n",
       "          3.92544657e-01],\n",
       "        [ 2.47336924e-01, -2.36101314e-01,  1.44746959e-01,\n",
       "         -4.28590387e-01, -3.78027111e-02, -3.94627213e-01,\n",
       "         -1.73274223e-02,  1.95375472e-01, -1.70611247e-01,\n",
       "          1.70460686e-01],\n",
       "        [-1.96699247e-01, -1.62513793e-01, -1.95080861e-01,\n",
       "         -3.19717042e-02, -7.68549442e-02, -5.22192359e-01,\n",
       "          6.34886563e-01,  1.33351967e-01, -3.25000018e-01,\n",
       "         -5.84065132e-02],\n",
       "        [ 6.90914541e-02, -4.86050062e-02,  2.56602243e-02,\n",
       "         -4.52262163e-02, -6.19790733e-01,  7.62006566e-02,\n",
       "         -1.90005168e-01, -2.83279330e-01,  1.68579236e-01,\n",
       "         -9.33939368e-02],\n",
       "        [ 1.32090994e-04,  4.10433002e-02,  3.60252559e-01,\n",
       "          4.04480040e-01, -4.31078047e-01, -5.73739886e-01,\n",
       "         -6.33471906e-01,  4.51418102e-01, -3.84097278e-01,\n",
       "         -6.04617834e-01],\n",
       "        [ 2.39458010e-01,  4.41041857e-01, -4.60798740e-01,\n",
       "          3.03938873e-02,  4.56549615e-01, -5.87692678e-01,\n",
       "          1.07828520e-01, -6.31226376e-02, -3.99201035e-01,\n",
       "         -1.16196334e-01],\n",
       "        [-1.12251393e-01,  4.07276414e-02,  1.58243820e-01,\n",
       "          2.03610480e-01,  8.13418105e-02, -1.86788291e-01,\n",
       "         -1.74421087e-01, -3.26241881e-01,  1.59348711e-01,\n",
       "          1.67753026e-02],\n",
       "        [-2.86572069e-01, -3.13636154e-01, -3.26318741e-01,\n",
       "          4.58665714e-02,  2.43361652e-01,  8.60240906e-02,\n",
       "         -3.53303142e-02,  1.13946572e-01,  2.34024562e-02,\n",
       "         -5.92162609e-02],\n",
       "        [-3.54249030e-01,  1.89767256e-01, -5.93438782e-02,\n",
       "          4.57596593e-02,  5.84562957e-01, -7.09165111e-02,\n",
       "         -1.15634821e-01,  2.85658777e-01,  5.21682128e-02,\n",
       "         -6.21052742e-01],\n",
       "        [ 2.15242743e-01,  4.10923548e-02,  1.20927151e-02,\n",
       "          5.40172756e-02, -8.37333500e-01,  3.96735221e-01,\n",
       "          6.90487027e-02, -5.62309504e-01, -4.19776142e-01,\n",
       "          1.74601242e-01],\n",
       "        [ 1.27626225e-01,  2.75751296e-02,  1.74600288e-01,\n",
       "          3.04468215e-01,  7.68502578e-02,  2.51131862e-01,\n",
       "          2.85795033e-02,  1.80825949e-01, -2.31950626e-01,\n",
       "         -3.52032959e-01],\n",
       "        [-1.59521028e-02, -4.88784492e-01, -5.23247793e-02,\n",
       "         -1.29191518e-01,  1.94161281e-01,  2.32267141e-01,\n",
       "         -5.11579275e-01,  1.81521282e-01,  1.26891866e-01,\n",
       "          2.37221211e-01],\n",
       "        [-1.23128168e-01, -9.69574451e-02, -1.40359640e-01,\n",
       "          2.28221074e-01,  1.12188205e-01,  2.32678220e-01,\n",
       "         -3.10602963e-01,  4.34112340e-01, -4.90369737e-01,\n",
       "         -3.94213080e-01],\n",
       "        [-5.34693837e-01,  1.46591425e-01, -6.76344559e-02,\n",
       "          1.43919572e-01,  2.88588434e-01, -1.31398574e-01,\n",
       "         -1.89980835e-01, -2.55785853e-01,  1.08941481e-01,\n",
       "         -3.33884239e-01],\n",
       "        [-1.02899325e+00, -1.80258080e-02, -6.10482037e-01,\n",
       "          3.32508236e-01,  4.00143623e-01,  4.20361646e-02,\n",
       "         -8.16484153e-01, -2.88818181e-01, -8.33860561e-02,\n",
       "          4.94178712e-01],\n",
       "        [ 1.58219755e-01,  1.10857813e-02,  1.10709677e-02,\n",
       "         -1.87863141e-01, -2.20055103e-01, -1.58618078e-01,\n",
       "          1.92745030e-01, -2.98332661e-01,  2.43792549e-01,\n",
       "         -3.91963899e-01],\n",
       "        [ 2.28984952e-01, -2.55294472e-01, -1.87618509e-01,\n",
       "          1.66437805e-01,  1.28245667e-01, -6.06155396e-02,\n",
       "          1.65820837e-01, -1.21245548e-01, -7.34157488e-02,\n",
       "         -1.03441514e-01],\n",
       "        [-1.63876384e-01,  2.02390701e-01, -2.02013254e-01,\n",
       "         -2.78299525e-02,  1.12167217e-01, -1.87843829e-01,\n",
       "          2.12890312e-01, -3.99569690e-01,  2.61317313e-01,\n",
       "          7.02414662e-02],\n",
       "        [ 4.44469564e-02,  2.50208974e-01,  2.37540498e-01,\n",
       "          1.97954342e-01, -4.66281861e-01, -2.49997109e-01,\n",
       "         -5.65646328e-02, -2.25990355e-01,  1.31247416e-01,\n",
       "          7.42365271e-02],\n",
       "        [-2.50178576e-01, -6.38859928e-01,  1.28944755e-01,\n",
       "          2.96461433e-01, -1.63560525e-01,  2.22283021e-01,\n",
       "          1.32276744e-01,  1.98533013e-01, -3.49108100e-01,\n",
       "          2.60523021e-01],\n",
       "        [-1.38377855e-02,  2.60148853e-01,  1.71220541e-01,\n",
       "          1.29114240e-01, -4.35391754e-01,  4.38060462e-02,\n",
       "          1.93600282e-01, -2.43862018e-01,  1.71567857e-01,\n",
       "         -4.05082017e-01],\n",
       "        [-5.66760659e-01,  2.16890931e-01,  1.86451241e-01,\n",
       "          1.71745673e-01, -2.51062959e-01,  2.67306507e-01,\n",
       "         -4.15114462e-01,  3.03421497e-01,  1.56636730e-01,\n",
       "         -5.10224462e-01],\n",
       "        [ 3.90510589e-01, -2.76683748e-01, -2.95649379e-01,\n",
       "          1.46499440e-01, -2.01312765e-01, -4.89914492e-02,\n",
       "          1.20527439e-01,  1.00666478e-01,  1.20483600e-01,\n",
       "         -4.64839637e-01],\n",
       "        [ 4.19297293e-02, -3.62577736e-01,  1.69644251e-01,\n",
       "         -1.32751465e-01,  2.61827916e-01, -2.33554989e-01,\n",
       "         -1.79353014e-01,  1.05183408e-01,  1.25293031e-01,\n",
       "          8.32980946e-02],\n",
       "        [ 2.27728844e-01, -9.29652810e-01, -2.27498576e-01,\n",
       "         -3.75951827e-01,  1.16686970e-01,  4.96949665e-02,\n",
       "          3.60678524e-01, -1.82496458e-01,  1.46638766e-01,\n",
       "         -4.86332089e-01],\n",
       "        [ 1.48434699e-01, -2.72781402e-01, -6.53000399e-02,\n",
       "          1.69617817e-01, -1.82154745e-01,  2.08277553e-01,\n",
       "         -2.91712314e-01,  5.71915209e-02,  1.83507383e-01,\n",
       "          1.47905946e-01],\n",
       "        [-6.78388357e-01, -1.29087880e-01, -6.87856302e-02,\n",
       "         -3.21517527e-01,  2.57696986e-01,  1.66560248e-01,\n",
       "         -5.92565358e-01, -5.64301796e-02,  1.11124748e-02,\n",
       "          2.04257026e-01],\n",
       "        [ 2.43186638e-01, -7.67284214e-01, -2.93756902e-01,\n",
       "         -1.43290520e-01, -6.78880662e-02,  2.26663247e-01,\n",
       "          2.53053635e-01, -2.55953819e-01,  6.81014583e-02,\n",
       "          3.24228443e-02],\n",
       "        [ 2.51715839e-01, -2.04806849e-02, -4.25948314e-02,\n",
       "          3.50438692e-02,  3.88009287e-02,  1.75627232e-01,\n",
       "          1.91345885e-01, -2.20358014e-01,  2.44653687e-01,\n",
       "          1.16870135e-01],\n",
       "        [-3.12937647e-01,  5.01347542e-01, -1.43301091e-03,\n",
       "         -3.95408869e-01,  3.54409218e-01, -4.04507160e-01,\n",
       "         -2.37492442e-01,  1.20404877e-01, -3.01810712e-01,\n",
       "          1.62497789e-01],\n",
       "        [ 3.37550849e-01, -5.59337020e-01, -5.03629148e-02,\n",
       "         -3.88277739e-01, -4.52727705e-01, -1.29575357e-01,\n",
       "         -6.05108552e-02,  2.67814159e-01,  9.91922989e-02,\n",
       "          1.29513085e-01],\n",
       "        [-2.39125684e-01,  1.12143792e-01,  6.34868965e-02,\n",
       "         -3.24744254e-01, -2.71449745e-01,  2.82795638e-01,\n",
       "          5.29207230e-01,  2.34713644e-01, -1.66370541e-01,\n",
       "         -7.95895696e-01],\n",
       "        [-1.83957908e-02, -1.94492310e-01, -1.02647103e-01,\n",
       "         -2.14764085e-02,  1.41840011e-01, -1.33491084e-01,\n",
       "          1.22361876e-01,  7.42188990e-02,  2.37005278e-01,\n",
       "          1.33675709e-01],\n",
       "        [ 1.04132686e-02, -2.15389267e-01, -2.67238528e-01,\n",
       "          2.07367241e-01, -6.40244663e-01,  7.97298327e-02,\n",
       "         -2.23994464e-01,  2.52869278e-01, -1.73515320e-01,\n",
       "          7.18511865e-02],\n",
       "        [ 1.90106332e-01,  3.40489328e-01, -3.83649655e-02,\n",
       "          8.29966646e-03, -2.55211979e-01, -1.55076280e-01,\n",
       "          2.33391821e-01,  4.93716210e-01, -4.60214466e-01,\n",
       "         -5.06169140e-01],\n",
       "        [-2.59484589e-01, -1.23280600e-01,  2.45962039e-01,\n",
       "         -3.72909099e-01,  3.15369517e-01,  3.41059685e-01,\n",
       "         -2.12992489e-01,  3.07743717e-02,  3.21991593e-01,\n",
       "         -2.47277528e-01],\n",
       "        [-1.10004023e-01, -3.91970694e-01,  6.47569448e-02,\n",
       "          2.42847115e-01, -5.15490294e-01, -1.62530273e-01,\n",
       "          1.67519897e-01, -2.48422489e-01,  1.67307898e-01,\n",
       "          3.36985528e-01],\n",
       "        [-1.78285688e-01,  4.73776817e-01, -3.36612999e-01,\n",
       "          3.98858577e-01,  5.79239547e-01,  5.12863733e-02,\n",
       "          8.08776617e-02,  4.09294218e-01, -6.48479164e-01,\n",
       "         -4.41318750e-01],\n",
       "        [ 6.24352284e-02, -5.80867290e-01,  3.21440667e-01,\n",
       "          2.15591207e-01, -7.47700781e-02, -5.26539803e-01,\n",
       "         -4.37395215e-01,  8.55843052e-02,  2.11095288e-01,\n",
       "          2.86721826e-01],\n",
       "        [-6.23241901e-01,  3.38042766e-01, -7.51811445e-01,\n",
       "         -4.32126731e-01,  4.97279048e-01, -3.62582467e-02,\n",
       "         -3.91081363e-01,  2.97763258e-01, -2.26806387e-01,\n",
       "          1.26883611e-01],\n",
       "        [ 1.20031647e-01, -1.91549122e-01,  1.02651514e-01,\n",
       "         -8.92348588e-02,  1.13025494e-01,  3.58218141e-02,\n",
       "          1.20930150e-01, -9.17965844e-02,  2.09447861e-01,\n",
       "         -2.70086557e-01],\n",
       "        [-2.36234084e-01, -5.03157914e-01, -4.61003572e-01,\n",
       "         -1.71931908e-01, -6.37879550e-01,  3.51631939e-01,\n",
       "          4.46824819e-01, -4.41806048e-01, -3.06259561e-02,\n",
       "          1.49331138e-01],\n",
       "        [-3.01464915e-01,  1.26469404e-01,  3.42548728e-01,\n",
       "          3.92261147e-01, -1.32115722e-01, -5.06420970e-01,\n",
       "         -5.54630756e-01, -6.05499409e-02, -6.11973941e-01,\n",
       "          5.08793667e-02],\n",
       "        [-2.26756960e-01,  1.44671068e-01,  7.07734153e-02,\n",
       "         -3.86906743e-01,  9.52629820e-02, -3.36956531e-01,\n",
       "          2.96604604e-01,  1.34033561e-01,  1.73916087e-01,\n",
       "         -3.20536643e-02],\n",
       "        [-2.01489255e-01,  1.90189719e-01,  3.18071425e-01,\n",
       "         -3.84623051e-01, -2.69258898e-02,  3.48114059e-03,\n",
       "         -6.29508018e-01,  4.33500648e-01, -3.75085026e-01,\n",
       "          2.33391926e-01],\n",
       "        [-6.78702831e-01,  3.51642035e-02, -4.30067897e-01,\n",
       "          2.97447652e-01,  3.13045621e-01,  2.56785713e-02,\n",
       "         -2.11733863e-01, -1.55593172e-01,  1.38004556e-01,\n",
       "          1.94694087e-01],\n",
       "        [-2.28546113e-01, -1.16381936e-01,  8.80310591e-03,\n",
       "         -1.72593385e-01, -6.89524785e-02,  1.96526483e-01,\n",
       "          1.62668854e-01, -4.83331263e-01,  2.69307464e-01,\n",
       "         -3.67087708e-03],\n",
       "        [ 3.75227809e-01,  4.76933330e-01,  4.89065319e-01,\n",
       "         -5.78477740e-01, -2.75611550e-01,  1.33872673e-01,\n",
       "         -1.42822787e-01, -1.73398867e-01, -9.39828694e-01,\n",
       "         -1.04604289e-02],\n",
       "        [-1.96523130e-01,  5.40241264e-02,  2.29610190e-01,\n",
       "          1.57926321e-01,  2.37363219e-01,  1.17633909e-01,\n",
       "          1.76792547e-01, -3.82259458e-01, -8.13114345e-02,\n",
       "          2.21359596e-01],\n",
       "        [-2.44741768e-01,  4.15245324e-01,  3.75004798e-01,\n",
       "          2.38564149e-01, -8.11835155e-02, -6.42230511e-01,\n",
       "         -2.63088882e-01, -1.21190079e-01, -3.20450544e-01,\n",
       "         -5.18782139e-01],\n",
       "        [ 2.56542061e-02,  3.30024883e-02,  2.09934339e-01,\n",
       "         -2.86677122e-01,  2.01476738e-01,  1.28619909e-01,\n",
       "          6.14784211e-02, -2.49674067e-01,  2.31622979e-01,\n",
       "          1.04190521e-01],\n",
       "        [ 7.52870589e-02,  1.58858567e-01,  2.18466297e-01,\n",
       "          2.05959845e-02,  1.24755979e-01, -7.01788664e-01,\n",
       "          2.66243577e-01,  2.43846372e-01, -1.64890245e-01,\n",
       "          1.92701489e-01],\n",
       "        [ 2.88456410e-01, -3.33893329e-01, -6.51775718e-01,\n",
       "         -6.52079284e-02,  3.81757796e-01, -2.01299876e-01,\n",
       "          3.11512947e-01, -1.33112073e-01, -6.82311952e-02,\n",
       "          5.47771454e-02],\n",
       "        [ 4.83797878e-01, -1.07638992e-01,  3.76850933e-01,\n",
       "         -1.90764964e-02,  2.09196419e-01, -7.06276238e-01,\n",
       "         -3.61406893e-01,  2.97099054e-01, -6.55531362e-02,\n",
       "          2.48543411e-01],\n",
       "        [ 9.94166508e-02, -4.91606444e-02,  2.02092469e-01,\n",
       "         -2.81336188e-01,  7.11370260e-03, -2.48634256e-02,\n",
       "         -3.84719484e-02,  2.44074494e-01, -4.00863677e-01,\n",
       "         -5.51383972e-01],\n",
       "        [-1.09796161e-02, -3.37298512e-01,  2.39515111e-01,\n",
       "         -2.61079520e-01,  2.61196554e-01, -1.38126016e-01,\n",
       "          1.27849832e-01, -6.17758095e-01, -2.52480775e-01,\n",
       "         -4.16644141e-02],\n",
       "        [ 3.50959182e-01,  2.47845039e-01, -3.95286143e-01,\n",
       "          2.72908777e-01,  1.01025915e-02, -5.01120687e-01,\n",
       "          3.83716851e-01,  7.41564259e-02, -2.47048408e-01,\n",
       "         -4.02125508e-01],\n",
       "        [-4.32275712e-01,  1.15197226e-01,  2.35867068e-01,\n",
       "          2.51766145e-01, -2.36974671e-01,  7.09977522e-02,\n",
       "          1.50308073e-01,  3.34237888e-02,  1.86010525e-01,\n",
       "         -5.97966969e-01],\n",
       "        [ 9.43372622e-02, -4.43575621e-01, -5.55839300e-01,\n",
       "         -5.62220871e-01,  2.01822266e-01, -9.42628756e-02,\n",
       "          1.58674210e-01,  3.97174507e-01, -4.57173169e-01,\n",
       "         -2.43544787e-01],\n",
       "        [-1.13649882e-01, -5.60673118e-01, -5.13597727e-01,\n",
       "         -4.48663309e-02, -3.99990618e-01,  6.46053553e-02,\n",
       "         -2.82294601e-01, -2.17909634e-01,  2.51259834e-01,\n",
       "          5.04601419e-01],\n",
       "        [-4.48351711e-01, -2.21825436e-01,  1.09920196e-01,\n",
       "          8.84445291e-03, -1.37308991e+00,  6.21548712e-01,\n",
       "          8.57332498e-02,  2.59673804e-01, -3.21310349e-02,\n",
       "         -1.31940156e-01],\n",
       "        [-2.68418759e-01,  4.80191439e-01, -5.17546356e-01,\n",
       "          2.01060413e-03, -2.97400057e-01,  1.05882220e-01,\n",
       "          2.71427125e-01, -1.10486820e-01, -1.07626401e-01,\n",
       "          6.64575547e-02],\n",
       "        [ 2.63910323e-01,  6.54195920e-02,  2.26478085e-01,\n",
       "          1.58130720e-01, -1.05573386e-02,  1.62241384e-01,\n",
       "          2.22450644e-01, -7.19548345e-01,  1.02591209e-01,\n",
       "         -3.20398688e-01],\n",
       "        [ 3.80254537e-02, -7.54738925e-03,  1.75150469e-01,\n",
       "         -1.46503910e-01, -3.73155624e-01, -3.85804892e-01,\n",
       "          1.13952391e-01,  2.64903694e-01,  3.12921591e-02,\n",
       "         -7.04362214e-01],\n",
       "        [ 2.85040528e-01,  1.70171499e-01,  2.64122814e-01,\n",
       "         -2.48194128e-01, -2.46876523e-01, -6.17896676e-01,\n",
       "          1.39678316e-02,  5.58737665e-02,  2.46960163e-01,\n",
       "          1.05337992e-01],\n",
       "        [ 1.54378235e-01,  9.64950547e-02, -2.38901302e-01,\n",
       "         -1.67736545e-01,  6.13996424e-02, -2.73843333e-02,\n",
       "          2.84541667e-01,  3.50436121e-01, -3.68263900e-01,\n",
       "         -4.26812261e-01],\n",
       "        [ 2.43519798e-01, -2.12521568e-01,  2.16560334e-01,\n",
       "          1.29747748e-01, -4.49493200e-01, -2.48141631e-01,\n",
       "         -6.10197306e-01,  1.87175125e-01, -1.51430130e-01,\n",
       "          1.84208959e-01],\n",
       "        [ 9.33285430e-02, -3.01083806e-03,  3.53946686e-01,\n",
       "         -3.22978437e-01,  2.49065965e-01,  2.06947401e-01,\n",
       "         -6.24251425e-01,  3.21199179e-01, -4.64117557e-01,\n",
       "          9.82002318e-02],\n",
       "        [ 1.32552981e-01,  4.37651165e-02, -9.69492346e-02,\n",
       "         -2.63614990e-02,  1.40479639e-01,  2.04150617e-01,\n",
       "         -2.21033871e-01, -4.53064501e-01,  1.80872083e-01,\n",
       "          2.33560149e-02],\n",
       "        [-5.96110046e-01,  3.61970216e-01, -2.80202390e-03,\n",
       "          2.43426487e-01,  1.61036119e-01, -5.75258315e-01,\n",
       "         -4.85674053e-01,  1.36839179e-02,  2.39624143e-01,\n",
       "          7.21662864e-02],\n",
       "        [ 9.99911427e-02,  1.27441242e-01, -5.14521360e-01,\n",
       "          1.07749939e-01, -4.13480341e-01,  4.36650723e-01,\n",
       "          4.59304675e-02,  2.14092702e-01, -5.99467419e-02,\n",
       "          1.55066907e-01],\n",
       "        [-1.64778247e-01,  3.72443311e-02,  3.15262675e-01,\n",
       "          2.39484787e-01, -2.31989920e-01,  2.64976621e-01,\n",
       "          2.66228795e-01,  1.37804607e-02,  2.84487247e-01,\n",
       "         -7.19612896e-01],\n",
       "        [-2.38600522e-02, -3.33195060e-01, -3.12162310e-01,\n",
       "         -2.55423278e-01,  4.82545383e-02,  2.36556888e-01,\n",
       "         -7.14848042e-02,  2.39130780e-01,  3.84228490e-02,\n",
       "          2.02719629e-01],\n",
       "        [-3.61431274e-03,  3.30461711e-01,  3.93143833e-01,\n",
       "         -1.53762475e-01,  2.58869559e-01,  2.57156402e-01,\n",
       "          2.00280294e-01,  2.25048035e-01, -4.84046042e-01,\n",
       "         -8.53292465e-01],\n",
       "        [ 2.13134140e-01, -4.25238788e-01,  8.25514719e-02,\n",
       "          2.50926733e-01, -3.30716670e-01,  1.67533174e-01,\n",
       "         -3.35995823e-01, -9.94022563e-02,  2.03487352e-01,\n",
       "         -4.80450317e-02],\n",
       "        [ 1.97199702e-01, -2.81962436e-02,  1.83743238e-01,\n",
       "         -1.00288004e-01, -5.94793446e-02,  2.07697153e-01,\n",
       "         -6.71495870e-02,  2.61084199e-01, -6.77211404e-01,\n",
       "         -3.61986868e-02],\n",
       "        [ 1.56352460e-01, -4.68082279e-02, -4.34342861e-01,\n",
       "         -1.27915874e-01, -3.99792761e-01,  2.18145743e-01,\n",
       "          8.72763023e-02, -2.15589464e-01,  2.92533934e-01,\n",
       "          3.64724666e-01],\n",
       "        [-6.58433855e-01,  3.44756722e-01,  1.65309474e-01,\n",
       "         -2.49931231e-01, -6.45620167e-01,  2.93680459e-01,\n",
       "         -2.68107504e-01,  1.21549405e-01, -3.11054796e-01,\n",
       "         -3.16792905e-01],\n",
       "        [ 3.15936029e-01, -1.69298217e-01,  3.25140655e-01,\n",
       "         -4.71617788e-01,  1.95479348e-01, -3.20112199e-01,\n",
       "         -5.43673560e-02,  9.55410749e-02,  1.18077420e-01,\n",
       "          2.49137640e-01],\n",
       "        [ 1.58158064e-01, -3.49369437e-01,  8.42001438e-02,\n",
       "         -1.34301782e-02,  2.75303959e-04, -1.60688639e-01,\n",
       "          8.87754112e-02,  1.44726232e-01,  2.75556799e-02,\n",
       "          5.57475053e-02],\n",
       "        [ 2.44063616e-01,  4.04121190e-01,  3.25454921e-02,\n",
       "          1.28261581e-01, -4.32924666e-02, -2.81127632e-01,\n",
       "         -2.52254725e-01,  7.15022013e-02,  5.09633869e-03,\n",
       "          1.18642613e-01],\n",
       "        [-2.68065244e-01, -1.63918957e-01, -6.00021631e-02,\n",
       "         -3.87832791e-01,  2.13809863e-01,  2.53868729e-01,\n",
       "         -2.93550581e-01,  1.51806831e-01,  2.80251682e-01,\n",
       "         -2.00130850e-01],\n",
       "        [-3.53395082e-02, -3.69097710e-01,  5.08574307e-01,\n",
       "         -3.26592416e-01,  1.53633446e-01,  5.55132367e-02,\n",
       "          1.74497366e-01, -5.31019092e-01, -3.29465955e-01,\n",
       "          5.56953438e-03]], dtype=float32),\n",
       " array([-0.09971867, -0.04683928,  0.0064643 , -0.16166933,  0.08499081,\n",
       "         0.13053899,  0.01386071, -0.00636671,  0.09658661, -0.05041949],\n",
       "       dtype=float32)]"
      ]
     },
     "execution_count": 15,
     "metadata": {},
     "output_type": "execute_result"
    }
   ],
   "source": [
    "model.get_weights()"
   ]
  },
  {
   "cell_type": "code",
   "execution_count": null,
   "id": "c3eb8a44",
   "metadata": {},
   "outputs": [],
   "source": []
  },
  {
   "cell_type": "code",
   "execution_count": null,
   "id": "bd8fe923",
   "metadata": {},
   "outputs": [],
   "source": []
  },
  {
   "cell_type": "code",
   "execution_count": null,
   "id": "c9839a69",
   "metadata": {},
   "outputs": [],
   "source": []
  },
  {
   "cell_type": "code",
   "execution_count": null,
   "id": "90912372",
   "metadata": {},
   "outputs": [],
   "source": []
  },
  {
   "cell_type": "code",
   "execution_count": null,
   "id": "3cf4eacb",
   "metadata": {},
   "outputs": [],
   "source": []
  },
  {
   "cell_type": "code",
   "execution_count": null,
   "id": "8341b6f7",
   "metadata": {},
   "outputs": [],
   "source": []
  },
  {
   "cell_type": "code",
   "execution_count": null,
   "id": "a0a747e6",
   "metadata": {},
   "outputs": [],
   "source": []
  },
  {
   "cell_type": "code",
   "execution_count": null,
   "id": "eee09566",
   "metadata": {},
   "outputs": [],
   "source": []
  }
 ],
 "metadata": {
  "kernelspec": {
   "display_name": "Python 3",
   "language": "python",
   "name": "python3"
  },
  "language_info": {
   "codemirror_mode": {
    "name": "ipython",
    "version": 3
   },
   "file_extension": ".py",
   "mimetype": "text/x-python",
   "name": "python",
   "nbconvert_exporter": "python",
   "pygments_lexer": "ipython3",
   "version": "3.9.12"
  }
 },
 "nbformat": 4,
 "nbformat_minor": 5
}
