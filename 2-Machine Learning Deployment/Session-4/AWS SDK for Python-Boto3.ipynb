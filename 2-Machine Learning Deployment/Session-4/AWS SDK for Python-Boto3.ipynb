{
 "cells": [
  {
   "cell_type": "markdown",
   "id": "00f4723c",
   "metadata": {},
   "source": [
    "## AWS SDK for Python- Boto3"
   ]
  },
  {
   "cell_type": "code",
   "execution_count": 1,
   "id": "8338bc32",
   "metadata": {},
   "outputs": [],
   "source": [
    "import boto3"
   ]
  },
  {
   "cell_type": "code",
   "execution_count": 2,
   "id": "68fd5b9b",
   "metadata": {},
   "outputs": [],
   "source": [
    "# Use Amazon S3\n",
    "s3 = boto3.resource(\"s3\")"
   ]
  },
  {
   "cell_type": "code",
   "execution_count": 3,
   "id": "785e60bc",
   "metadata": {},
   "outputs": [
    {
     "name": "stdout",
     "output_type": "stream",
     "text": [
      "smworkshop-firat-olcum\n"
     ]
    }
   ],
   "source": [
    "# Print out all bucket names\n",
    "for bucket in s3.buckets.all():\n",
    "    print(bucket.name)"
   ]
  },
  {
   "cell_type": "code",
   "execution_count": 5,
   "id": "6bceea9d",
   "metadata": {},
   "outputs": [
    {
     "data": {
      "text/plain": [
       "s3.Object(bucket_name='smworkshop-firat-olcum', key='data.jpg')"
      ]
     },
     "execution_count": 5,
     "metadata": {},
     "output_type": "execute_result"
    }
   ],
   "source": [
    "data = open(\"data.jpg\", \"rb\")\n",
    "s3.Bucket(\"smworkshop-firat-olcum\").put_object(Key = \"data.jpg\", Body = data)"
   ]
  },
  {
   "cell_type": "code",
   "execution_count": null,
   "id": "93829ad0",
   "metadata": {},
   "outputs": [],
   "source": []
  }
 ],
 "metadata": {
  "kernelspec": {
   "display_name": "Python 3 (ipykernel)",
   "language": "python",
   "name": "python3"
  },
  "language_info": {
   "codemirror_mode": {
    "name": "ipython",
    "version": 3
   },
   "file_extension": ".py",
   "mimetype": "text/x-python",
   "name": "python",
   "nbconvert_exporter": "python",
   "pygments_lexer": "ipython3",
   "version": "3.9.12"
  }
 },
 "nbformat": 4,
 "nbformat_minor": 5
}
